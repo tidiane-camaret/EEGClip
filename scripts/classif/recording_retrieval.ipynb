{
 "cells": [
  {
   "cell_type": "code",
   "execution_count": 1,
   "metadata": {},
   "outputs": [
    {
     "name": "stderr",
     "output_type": "stream",
     "text": [
      "/home/jovyan/test_env/lib/python3.10/site-packages/tqdm/auto.py:22: TqdmWarning: IProgress not found. Please update jupyter and ipywidgets. See https://ipywidgets.readthedocs.io/en/stable/user_install.html\n",
      "  from .autonotebook import tqdm as notebook_tqdm\n",
      "/home/jovyan/test_env/lib/python3.10/site-packages/braindecode/preprocessing/preprocess.py:55: UserWarning: Preprocessing choices with lambda functions cannot be saved.\n",
      "  warn('Preprocessing choices with lambda functions cannot be saved.')\n"
     ]
    },
    {
     "name": "stdout",
     "output_type": "stream",
     "text": [
      "Nb subjects loaded :  2329\n"
     ]
    },
    {
     "name": "stderr",
     "output_type": "stream",
     "text": [
      "/home/jovyan/test_env/lib/python3.10/site-packages/braindecode/preprocessing/windowers.py:608: UserWarning: Usage of offset_sample args in create_fixed_length_windows is deprecated and will be removed in future versions. Please use braindecode.preprocessing.preprocess.Preprocessor(\"crop\", tmin, tmax) instead.\n",
      "  warnings.warn('Usage of offset_sample args in create_fixed_length_windows is deprecated and'\n"
     ]
    },
    {
     "name": "stdout",
     "output_type": "stream",
     "text": [
      "6072\n"
     ]
    },
    {
     "name": "stderr",
     "output_type": "stream",
     "text": [
      "/home/jovyan/EEGClip/EEGClip/clip_models.py:68: SettingWithCopyWarning: \n",
      "A value is trying to be set on a copy of a slice from a DataFrame\n",
      "\n",
      "See the caveats in the documentation: https://pandas.pydata.org/pandas-docs/stable/user_guide/indexing.html#returning-a-view-versus-a-copy\n",
      "  embs_df[embs_name][r] = re\n"
     ]
    },
    {
     "ename": "RuntimeError",
     "evalue": "Found no NVIDIA driver on your system. Please check that you have an NVIDIA GPU and installed a driver from http://www.nvidia.com/Download/index.aspx",
     "output_type": "error",
     "traceback": [
      "\u001b[0;31m---------------------------------------------------------------------------\u001b[0m",
      "\u001b[0;31mRuntimeError\u001b[0m                              Traceback (most recent call last)",
      "Cell \u001b[0;32mIn [1], line 155\u001b[0m\n\u001b[1;32m    152\u001b[0m \u001b[38;5;66;03m# ## Create model\u001b[39;00m\n\u001b[1;32m    154\u001b[0m eegclipmodel \u001b[38;5;241m=\u001b[39m EEGClipModel\u001b[38;5;241m.\u001b[39mload_from_checkpoint(EEGClip_config\u001b[38;5;241m.\u001b[39mmodel_paths[\u001b[38;5;124m\"\u001b[39m\u001b[38;5;124meegclip\u001b[39m\u001b[38;5;124m\"\u001b[39m])\n\u001b[0;32m--> 155\u001b[0m \u001b[43meegclipmodel\u001b[49m\u001b[38;5;241;43m.\u001b[39;49m\u001b[43mcuda\u001b[49m\u001b[43m(\u001b[49m\u001b[43m)\u001b[49m\n\u001b[1;32m    156\u001b[0m EEGEncoder \u001b[38;5;241m=\u001b[39m torch\u001b[38;5;241m.\u001b[39mnn\u001b[38;5;241m.\u001b[39mSequential(eegclipmodel\u001b[38;5;241m.\u001b[39meeg_encoder,eegclipmodel\u001b[38;5;241m.\u001b[39meeg_projection)\n\u001b[1;32m    157\u001b[0m \u001b[38;5;66;03m# get size of the last layer\u001b[39;00m\n",
      "File \u001b[0;32m~/test_env/lib/python3.10/site-packages/lightning_fabric/utilities/device_dtype_mixin.py:70\u001b[0m, in \u001b[0;36m_DeviceDtypeModuleMixin.cuda\u001b[0;34m(self, device)\u001b[0m\n\u001b[1;32m     57\u001b[0m \u001b[39m\"\"\"Moves all model parameters and buffers to the GPU. This also makes associated parameters and buffers\u001b[39;00m\n\u001b[1;32m     58\u001b[0m \u001b[39mdifferent objects. So it should be called before constructing optimizer if the module will live on GPU while\u001b[39;00m\n\u001b[1;32m     59\u001b[0m \u001b[39mbeing optimized.\u001b[39;00m\n\u001b[0;32m   (...)\u001b[0m\n\u001b[1;32m     67\u001b[0m \n\u001b[1;32m     68\u001b[0m \u001b[39m\"\"\"\u001b[39;00m\n\u001b[1;32m     69\u001b[0m \u001b[39mif\u001b[39;00m device \u001b[39mis\u001b[39;00m \u001b[39mNone\u001b[39;00m:\n\u001b[0;32m---> 70\u001b[0m     device \u001b[39m=\u001b[39m torch\u001b[39m.\u001b[39mdevice(\u001b[39m\"\u001b[39m\u001b[39mcuda\u001b[39m\u001b[39m\"\u001b[39m, torch\u001b[39m.\u001b[39;49mcuda\u001b[39m.\u001b[39;49mcurrent_device())\n\u001b[1;32m     71\u001b[0m \u001b[39melif\u001b[39;00m \u001b[39misinstance\u001b[39m(device, \u001b[39mint\u001b[39m):\n\u001b[1;32m     72\u001b[0m     device \u001b[39m=\u001b[39m torch\u001b[39m.\u001b[39mdevice(\u001b[39m\"\u001b[39m\u001b[39mcuda\u001b[39m\u001b[39m\"\u001b[39m, index\u001b[39m=\u001b[39mdevice)\n",
      "File \u001b[0;32m~/test_env/lib/python3.10/site-packages/torch/cuda/__init__.py:552\u001b[0m, in \u001b[0;36mcurrent_device\u001b[0;34m()\u001b[0m\n\u001b[1;32m    550\u001b[0m \u001b[39mdef\u001b[39;00m \u001b[39mcurrent_device\u001b[39m() \u001b[39m-\u001b[39m\u001b[39m>\u001b[39m \u001b[39mint\u001b[39m:\n\u001b[1;32m    551\u001b[0m     \u001b[39mr\u001b[39m\u001b[39m\"\"\"Returns the index of a currently selected device.\"\"\"\u001b[39;00m\n\u001b[0;32m--> 552\u001b[0m     _lazy_init()\n\u001b[1;32m    553\u001b[0m     \u001b[39mreturn\u001b[39;00m torch\u001b[39m.\u001b[39m_C\u001b[39m.\u001b[39m_cuda_getDevice()\n",
      "File \u001b[0;32m~/test_env/lib/python3.10/site-packages/torch/cuda/__init__.py:229\u001b[0m, in \u001b[0;36m_lazy_init\u001b[0;34m()\u001b[0m\n\u001b[1;32m    227\u001b[0m \u001b[39mif\u001b[39;00m \u001b[39m'\u001b[39m\u001b[39mCUDA_MODULE_LOADING\u001b[39m\u001b[39m'\u001b[39m \u001b[39mnot\u001b[39;00m \u001b[39min\u001b[39;00m os\u001b[39m.\u001b[39menviron:\n\u001b[1;32m    228\u001b[0m     os\u001b[39m.\u001b[39menviron[\u001b[39m'\u001b[39m\u001b[39mCUDA_MODULE_LOADING\u001b[39m\u001b[39m'\u001b[39m] \u001b[39m=\u001b[39m \u001b[39m'\u001b[39m\u001b[39mLAZY\u001b[39m\u001b[39m'\u001b[39m\n\u001b[0;32m--> 229\u001b[0m torch\u001b[39m.\u001b[39;49m_C\u001b[39m.\u001b[39;49m_cuda_init()\n\u001b[1;32m    230\u001b[0m \u001b[39m# Some of the queued calls may reentrantly call _lazy_init();\u001b[39;00m\n\u001b[1;32m    231\u001b[0m \u001b[39m# we need to just return without initializing in that case.\u001b[39;00m\n\u001b[1;32m    232\u001b[0m \u001b[39m# However, we must not let any *other* threads in!\u001b[39;00m\n\u001b[1;32m    233\u001b[0m _tls\u001b[39m.\u001b[39mis_initializing \u001b[39m=\u001b[39m \u001b[39mTrue\u001b[39;00m\n",
      "\u001b[0;31mRuntimeError\u001b[0m: Found no NVIDIA driver on your system. Please check that you have an NVIDIA GPU and installed a driver from http://www.nvidia.com/Download/index.aspx"
     ]
    }
   ],
   "source": [
    "import os\n",
    "import argparse\n",
    "import socket\n",
    "import copy\n",
    "\n",
    "import pandas as pd\n",
    "import numpy as np\n",
    "import torch \n",
    "import tqdm\n",
    "import matplotlib.pyplot as plt\n",
    "from scipy.spatial import distance\n",
    "from sklearn.metrics import accuracy_score, balanced_accuracy_score\n",
    "from sklearn.manifold import TSNE\n",
    "\n",
    "from braindecode.datasets.base import BaseConcatDataset\n",
    "from braindecode.datasets import TUHAbnormal\n",
    "from braindecode.preprocessing import create_fixed_length_windows\n",
    "from braindecode.util import set_random_seeds\n",
    "from braindecode.models.util import to_dense_prediction_model, get_output_shape\n",
    "from braindecode.datasets.tuh import TUHAbnormal\n",
    "from braindecode.preprocessing import preprocess, Preprocessor\n",
    "from braindecode.datasets.base import BaseConcatDataset\n",
    "from braindecode.preprocessing.windowers import create_fixed_length_windows\n",
    "from braindecode.models import Deep4Net\n",
    "\n",
    "from transformers import AutoTokenizer, AutoModel\n",
    "from InstructorEmbedding import INSTRUCTOR\n",
    "\n",
    "from pytorch_lightning import Trainer\n",
    "from pytorch_lightning.loggers import WandbLogger\n",
    "from pytorch_lightning import Trainer\n",
    "from pytorch_lightning.callbacks import ModelCheckpoint\n",
    "\n",
    "from EEGClip.classifier_models import EEGClassifierModel\n",
    "from EEGClip.clip_models import EEGClipModel\n",
    "from EEGClip.text_preprocessing import text_preprocessing\n",
    "\n",
    "import mne\n",
    "mne.set_log_level('ERROR')  # avoid messages everytime a window is extracted\n",
    "\n",
    "\n",
    "import EEGClip_config\n",
    "\n",
    "\"\"\"\n",
    "This script uses EEG-Clip representations to do recording retrieval :\n",
    "given a EEG segment, retrive the corresponding text description, and vice-versa\n",
    "metrics : median rank, recall@k\n",
    "\n",
    "\"\"\"\n",
    "\n",
    "\n",
    "n_recordings_to_load = 2993\n",
    "\n",
    "\n",
    "n_max_minutes = 3\n",
    "sfreq = 100\n",
    "n_minutes = 2\n",
    "input_window_samples = 1200\n",
    "\n",
    "batch_size = 64\n",
    "\n",
    "nailcluster = (socket.gethostname() == \"vs3-0\")\n",
    "\n",
    "num_workers = 16\n",
    "\n",
    "results_dir = EEGClip_config.results_dir\n",
    "tuh_data_dir = EEGClip_config.tuh_data_dir\n",
    "\n",
    "# TODO : use get_output_shape (requires to load the model first)\n",
    "n_preds_per_input = 519 #get_output_shape(eeg_classifier_model, n_chans, input_window_samples)[2]\n",
    "\n",
    "\n",
    "seed = 20210325  # random seed to make results reproducible\n",
    "\n",
    "cuda = torch.cuda.is_available()\n",
    "set_random_seeds(seed=seed, cuda=cuda)\n",
    "torch.backends.cudnn.benchmark = True\n",
    "\n",
    "# ## Load data\n",
    "dataset = TUHAbnormal(\n",
    "    path=tuh_data_dir,\n",
    "    recording_ids=range(n_recordings_to_load),  # loads the n chronologically first recordings\n",
    "    target_name=\"report\",  # age, gender, pathology\n",
    "    preload=False,\n",
    "    add_physician_reports=True,\n",
    "    n_jobs=1)\n",
    "\n",
    "dataset.set_description(text_preprocessing(dataset.description, processed_categories = \"all\"), overwrite=True)\n",
    "\n",
    "# ## Preprocessing\n",
    "\n",
    "ar_ch_names = sorted([\n",
    "    'EEG A1-REF', 'EEG A2-REF',\n",
    "    'EEG FP1-REF', 'EEG FP2-REF', 'EEG F3-REF', 'EEG F4-REF', 'EEG C3-REF',\n",
    "    'EEG C4-REF', 'EEG P3-REF', 'EEG P4-REF', 'EEG O1-REF', 'EEG O2-REF',\n",
    "    'EEG F7-REF', 'EEG F8-REF', 'EEG T3-REF', 'EEG T4-REF', 'EEG T5-REF',\n",
    "    'EEG T6-REF', 'EEG FZ-REF', 'EEG CZ-REF', 'EEG PZ-REF'])\n",
    "\n",
    "preprocessors = [\n",
    "    Preprocessor(fn='pick_channels', ch_names=ar_ch_names, ordered=True),\n",
    "    Preprocessor('crop', tmin=0, tmax=n_max_minutes*60, include_tmax=True),\n",
    "    Preprocessor(fn=lambda x: np.clip(x, -800,800), apply_on_array=True),\n",
    "    Preprocessor('set_eeg_reference', ref_channels='average'),\n",
    "    # convert from volt to microvolt, directly modifying the numpy array\n",
    "    Preprocessor(fn=lambda x: x * 1e6, apply_on_array=True),\n",
    "    Preprocessor(fn=lambda x: x / 30, apply_on_array=True), # this seemed best\n",
    "    Preprocessor(fn='resample', sfreq=sfreq),\n",
    "]\n",
    "# Preprocess the data\n",
    "if not nailcluster:\n",
    "    preprocess(dataset, preprocessors)\n",
    "\n",
    "# ## Data Splitting\n",
    "# TODO : split using train and test splits instead\n",
    "# TODO : maybe load TUH now on top of TUH Abnormal ?\n",
    "\n",
    "\n",
    "#dataset = dataset.split('train')['True']\n",
    "\n",
    "n_subjects = len(dataset.split('subject'))\n",
    "\n",
    "print(\"Nb subjects loaded : \", n_subjects)\n",
    "\n",
    "valid_set = dataset.split('train')['False']\n",
    "\n",
    "\n",
    "window_valid_set = create_fixed_length_windows(\n",
    "    valid_set,\n",
    "    start_offset_samples=60*sfreq,\n",
    "    stop_offset_samples=60*sfreq+n_minutes*60*sfreq,\n",
    "    preload=True,\n",
    "    window_size_samples=input_window_samples,\n",
    "    window_stride_samples=n_preds_per_input,\n",
    "    drop_last_window=False,\n",
    ")\n",
    "\n",
    "### PREPROCESSING NECESSARY IF USING TUH_PRE\n",
    "if nailcluster:\n",
    "\n",
    "    window_valid_set.transform = lambda x: x*1e6\n",
    "\n",
    "valid_loader = torch.utils.data.DataLoader(\n",
    "    window_valid_set,\n",
    "    batch_size=batch_size,\n",
    "    shuffle=False,\n",
    "    num_workers=num_workers,\n",
    "    drop_last=False)\n",
    "\n",
    "print(len(valid_loader.dataset))\n",
    "\n",
    "\n",
    "# ## Create model\n",
    "\n",
    "eegclipmodel = EEGClipModel.load_from_checkpoint(EEGClip_config.model_paths[\"eegclip\"])\n",
    "eegclipmodel.cuda()\n",
    "EEGEncoder = torch.nn.Sequential(eegclipmodel.eeg_encoder,eegclipmodel.eeg_projection)\n",
    "# get size of the last layer\n",
    "text_encoder_name = \"medicalai/ClinicalBERT\"\n",
    "\n",
    "\n",
    "for param in EEGEncoder.parameters():\n",
    "    param.requires_grad = False\n",
    "\n",
    "embs_df = pd.read_csv(EEGClip_config.embs_df_path)\n",
    "embs_name = text_encoder_name\n",
    "for r in range(len(embs_df)):\n",
    "    re = copy.copy(embs_df[embs_name][r])\n",
    "    # convert the string to array\n",
    "    re = re.replace('[', '')\n",
    "    re = re.replace(']', '')\n",
    "    re = re.replace(',', '')\n",
    "    re = re.split()\n",
    "    re = [float(i) for i in re]\n",
    "    embs_df[embs_name][r] = re\n",
    "# iterate over the validation set and get the embeddings\n",
    "eeg_embs = []\n",
    "text_embs = []\n",
    "for batch in tqdm.tqdm(valid_loader):\n",
    "    eeg, text, id = batch\n",
    "    eeg = eeg.cuda()\n",
    "    eeg = EEGEncoder(eeg)\n",
    "    eeg = torch.mean(eeg, dim=2)\n",
    "    eeg_embs.append(eeg.detach().cpu().numpy())\n",
    "\n",
    "    text_emb = []\n",
    "    for s in text:\n",
    "        lookup = embs_df.loc[embs_df['report'] == s, text_encoder_name]\n",
    "        \n",
    "        emb = lookup.tolist()[0]\n",
    "        text_emb.append(emb)\n",
    "    text_emb = torch.Tensor(text_emb).to(device='cuda:0')\n",
    "    text_emb = eegclipmodel.text_projection(text_emb) #somehow, projecting the embeddings cause them to be unique \n",
    "    # (floating point precision ?) So we cannot use them to identify the recordings of each batch element (see below for that)\n",
    "    text_embs.append(text_emb.detach().cpu().numpy())\n",
    "\n",
    "\n",
    "eeg_embs = np.concatenate(eeg_embs)\n",
    "text_embs = np.concatenate(text_embs)\n",
    "\n",
    "print(eeg_embs.shape)\n",
    "print(text_embs.shape)"
   ]
  },
  {
   "cell_type": "code",
   "execution_count": null,
   "metadata": {},
   "outputs": [
    {
     "name": "stdout",
     "output_type": "stream",
     "text": [
      "[263 263 263 ...   6   6   6]\n"
     ]
    }
   ],
   "source": [
    "# identify the recordings of each batch element \n",
    "t = []\n",
    "for batch in valid_loader:\n",
    "    eeg, text, id = batch\n",
    "    t.append(text)\n",
    "\n",
    "t = np.concatenate(t)\n",
    "\n",
    "\n",
    "e = []\n",
    "for s in t:\n",
    "        lookup = embs_df.loc[embs_df['report'] == s, text_encoder_name]\n",
    "        \n",
    "        emb = lookup.tolist()[0]\n",
    "        e.append(emb)\n",
    "\n",
    "n_recordings = eeg_embs.shape[0] \n",
    "unique_rows = np.unique(e, axis=0)\n",
    "\n",
    "# Get unique rows \n",
    "\n",
    "# Create mapping of recording index to unique ID\n",
    "rec_ids = np.zeros(n_recordings, dtype=int)\n",
    "for i, row in enumerate(e):\n",
    "    rec_ids[i] = np.where(np.all(unique_rows == row, axis=1))[0][0]\n",
    "\n",
    "print(rec_ids)"
   ]
  },
  {
   "cell_type": "code",
   "execution_count": null,
   "metadata": {},
   "outputs": [
    {
     "data": {
      "text/plain": [
       "6072"
      ]
     },
     "execution_count": 8,
     "metadata": {},
     "output_type": "execute_result"
    }
   ],
   "source": [
    "len(rec_ids)"
   ]
  },
  {
   "cell_type": "code",
   "execution_count": null,
   "metadata": {},
   "outputs": [
    {
     "name": "stdout",
     "output_type": "stream",
     "text": [
      "Patient Retrieval Accuracy: 0.030467720685111988\n"
     ]
    }
   ],
   "source": [
    "from sklearn.metrics.pairwise import cosine_similarity\n",
    "\n",
    "n_recordings = eeg_embs.shape[0] \n",
    "\n",
    "retrieval_acc = []\n",
    "\n",
    "for i in range(n_recordings):\n",
    "\n",
    "  eeg_emb = eeg_embs[i]\n",
    "  true_id = rec_ids[i]\n",
    "\n",
    "  # Get embeddings for true patient  \n",
    "  true_indices = np.where(rec_ids == true_id)[0]\n",
    "  text_true = text_embs[true_indices]\n",
    "\n",
    "  sims = cosine_similarity(eeg_emb.reshape(1,-1), text_embs)[0]\n",
    "  retrieved_id = rec_ids[np.argmax(sims)]\n",
    "\n",
    "  correct = (retrieved_id == true_id)\n",
    "  retrieval_acc.append(correct)\n",
    "\n",
    "print(\"Accuracy for text retrieval:\", np.mean(retrieval_acc))"
   ]
  },
  {
   "cell_type": "code",
   "execution_count": null,
   "metadata": {},
   "outputs": [
    {
     "name": "stdout",
     "output_type": "stream",
     "text": [
      "Median rank for text retrieval: 548.0\n"
     ]
    }
   ],
   "source": [
    "ranks = []\n",
    "for i in range(n_recordings):\n",
    "\n",
    "  eeg_emb = eeg_embs[i]\n",
    "  true_id = rec_ids[i]  \n",
    "\n",
    "  sims = cosine_similarity(eeg_emb.reshape(1,-1), text_embs)[0]\n",
    "  sorted_ids = rec_ids[np.argsort(sims)[::-1]]\n",
    "\n",
    "  true_idx = np.where(sorted_ids == true_id)[0][0]\n",
    "  ranks.append(true_idx + 1) \n",
    "\n",
    "median_rank = np.median(ranks)\n",
    "print(\"Median rank for text retrieval:\", median_rank)"
   ]
  },
  {
   "cell_type": "code",
   "execution_count": null,
   "metadata": {},
   "outputs": [
    {
     "name": "stdout",
     "output_type": "stream",
     "text": [
      "Median rank for eeg retrieval: 166.0\n"
     ]
    }
   ],
   "source": [
    "ranks = []\n",
    "for i in range(n_recordings):\n",
    "\n",
    "  text_emb = text_embs[i]\n",
    "  true_id = rec_ids[i]  \n",
    "\n",
    "  sims = cosine_similarity(text_emb.reshape(1,-1), eeg_embs)[0]\n",
    "  sorted_ids = rec_ids[np.argsort(sims)[::-1]]\n",
    "\n",
    "  true_idx = np.where(sorted_ids == true_id)[0][0]\n",
    "  ranks.append(true_idx + 1) \n",
    "\n",
    "median_rank = np.median(ranks)\n",
    "print(\"Median rank for eeg retrieval:\", median_rank)"
   ]
  },
  {
   "cell_type": "code",
   "execution_count": null,
   "metadata": {},
   "outputs": [
    {
     "data": {
      "image/png": "[encoded data removed]",
      "text/plain": [
       "<Figure size 480x480 with 2 Axes>"
      ]
     },
     "metadata": {},
     "output_type": "display_data"
    }
   ],
   "source": [
    "num_rec = len(np.unique(rec_ids))\n",
    "matrix_size = 10\n",
    "\"\"\"\n",
    "# Initialize random index vector  \n",
    "random_idx = np.zeros(num_patients, dtype=int)\n",
    "\n",
    "for i in range(num_patients):\n",
    "  \n",
    "  pid = rec_ids[i] \n",
    "  indices = np.where(rec_ids == pid)[0]\n",
    "  random_idx[i] = np.random.choice(indices)\n",
    "\n",
    "sim_matrix = np.zeros((num_patients, num_patients))\n",
    "\"\"\"\n",
    "random_idx = np.random.randint(len(rec_ids), size = matrix_size)\n",
    "#random_idx = range(matrix_size)\n",
    "\n",
    "sim_matrix = np.zeros((matrix_size,matrix_size))\n",
    "# Construct similarity matrix  \n",
    "\n",
    "\n",
    "for i in range(matrix_size):\n",
    "  eeg_idx = random_idx[i]\n",
    "  for j in range(matrix_size):\n",
    "    text_idx = random_idx[j]\n",
    "    \n",
    "    eeg1 = eeg_embs[eeg_idx].reshape(1,-1)\n",
    "    text2 = text_embs[text_idx].reshape(1,-1)  \n",
    "    sim = cosine_similarity(eeg1, text2)\n",
    "      \n",
    "    sim_matrix[i,j] = sim\n",
    "\n",
    "\n",
    "# Plot heatmap\n",
    "plt.matshow(sim_matrix)\n",
    "plt.colorbar() \n",
    "plt.show()"
   ]
  },
  {
   "cell_type": "code",
   "execution_count": null,
   "metadata": {},
   "outputs": [
    {
     "name": "stdout",
     "output_type": "stream",
     "text": [
      "Median rank for eeg retrieval: 3.5\n",
      "Median rank for text retrieval: 3.5\n"
     ]
    }
   ],
   "source": [
    "ranks = []\n",
    "for i in range(matrix_size):\n",
    "  sims = sim_matrix[i,:]\n",
    "  sorted_ids = np.argsort(sims)[::-1]\n",
    "  true_idx = np.where(sorted_ids == i)[0][0]\n",
    "  ranks.append(true_idx + 1) \n",
    "median_rank = np.median(ranks)\n",
    "print(\"Median rank for eeg retrieval:\", median_rank)\n",
    "\n",
    "ranks = []\n",
    "for i in range(matrix_size):\n",
    "  sims = sim_matrix[:,i]\n",
    "  sorted_ids = np.argsort(sims)[::-1]\n",
    "  true_idx = np.where(sorted_ids == i)[0][0]\n",
    "  ranks.append(true_idx + 1) \n",
    "median_rank = np.median(ranks)\n",
    "print(\"Median rank for text retrieval:\", median_rank)\n",
    "\n"
   ]
  },
  {
   "cell_type": "code",
   "execution_count": 3,
   "metadata": {},
   "outputs": [
    {
     "name": "stderr",
     "output_type": "stream",
     "text": [
      "/home/ndirt/miniconda3/envs/nail_env/lib/python3.11/site-packages/sklearn/metrics/_classification.py:2184: UserWarning: y_pred contains classes not in y_true\n",
      "  warnings.warn(\"y_pred contains classes not in y_true\")\n"
     ]
    },
    {
     "data": {
      "text/plain": [
       "0.5833333333333334"
      ]
     },
     "execution_count": 3,
     "metadata": {},
     "output_type": "execute_result"
    }
   ],
   "source": [
    "from sklearn.metrics import balanced_accuracy_score\n",
    "y_true = [0, 2, 0, 0, 7, 0]\n",
    "y_pred = [0, 2, 0, 0, 0, 1]\n",
    "balanced_accuracy_score(y_true, y_pred)"
   ]
  }
 ],
 "metadata": {
  "kernelspec": {
   "display_name": "nail_env",
   "language": "python",
   "name": "python3"
  },
  "language_info": {
   "codemirror_mode": {
    "name": "ipython",
    "version": 3
   },
   "file_extension": ".py",
   "mimetype": "text/x-python",
   "name": "python",
   "nbconvert_exporter": "python",
   "pygments_lexer": "ipython3",
   "version": "3.11.3"
  },
  "orig_nbformat": 4
 },
 "nbformat": 4,
 "nbformat_minor": 2
}
