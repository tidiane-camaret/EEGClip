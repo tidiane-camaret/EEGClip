{
  "cells": [
    {
      "cell_type": "code",
      "execution_count": 1,
      "metadata": {
        "collapsed": false
      },
      "outputs": [],
      "source": [
        "%matplotlib inline"
      ]
    },
    {
      "cell_type": "markdown",
      "metadata": {},
      "source": [
        "\n",
        "# Cropped Decoding on BCIC IV 2a Dataset\n"
      ]
    },
    {
      "cell_type": "markdown",
      "metadata": {},
      "source": [
        "Building on the `Trialwise decoding\n",
        "tutorial <./plot_bcic_iv_2a_moabb_trial.html>`__, we now do more\n",
        "data-efficient cropped decoding!\n",
        "\n",
        "In Braindecode, there are two supported configurations created for\n",
        "training models: trialwise decoding and cropped decoding. We will\n",
        "explain this visually by comparing trialwise to cropped decoding.\n",
        "\n",
        "<img src=\"file://../_static/trialwise_explanation.png\">\n",
        "<img src=\"file://../_static/cropped_explanation.png\">\n",
        "\n",
        "On the left, you see trialwise decoding:\n",
        "\n",
        "1. A complete trial is pushed through the network.\n",
        "2. The network produces a prediction.\n",
        "3. The prediction is compared to the target (label) for that trial to\n",
        "   compute the loss.\n",
        "\n",
        "On the right, you see cropped decoding:\n",
        "\n",
        "1. Instead of a complete trial, crops are pushed through the network.\n",
        "2. For computational efficiency, multiple neighbouring crops are pushed\n",
        "   through the network simultaneously (these neighbouring crops are\n",
        "   called compute windows)\n",
        "3. Therefore, the network produces multiple predictions (one per crop in\n",
        "   the window)\n",
        "4. The individual crop predictions are averaged before computing the\n",
        "   loss function\n",
        "\n",
        "<div class=\"alert alert-info\"><h4>Note</h4><p>-  The network architecture implicitly defines the crop size (it is the\n",
        "       receptive field size, i.e., the number of timesteps the network uses\n",
        "       to make a single prediction)\n",
        "    -  The window size is a user-defined hyperparameter, called\n",
        "       ``input_window_samples`` in Braindecode. It mostly affects runtime\n",
        "       (larger window sizes should be faster). As a rule of thumb, you can\n",
        "       set it to two times the crop size.\n",
        "    -  Crop size and window size together define how many predictions the\n",
        "       network makes per window: ``#window−#crop+1=#predictions``</p></div>\n",
        "\n",
        "<div class=\"alert alert-info\"><h4>Note</h4><p>For cropped decoding, the above training setup is mathematically\n",
        "    identical to sampling crops in your dataset, pushing them through the\n",
        "    network and training directly on the individual crops. At the same time,\n",
        "    the above training setup is much faster as it avoids redundant\n",
        "    computations by using dilated convolutions, see our paper\n",
        "    `Deep learning with convolutional neural networks for EEG decoding and visualization <https://arxiv.org/abs/1703.05051>`_.  # noqa: E501\n",
        "    However, the two setups are only mathematically identical in case (1)\n",
        "    your network does not use any padding or only left padding and\n",
        "    (2) your loss function leads\n",
        "    to the same gradients when using the averaged output. The first is true\n",
        "    for our shallow and deep ConvNet models and the second is true for the\n",
        "    log-softmax outputs and negative log likelihood loss that is typically\n",
        "    used for classification in PyTorch.</p></div>\n",
        "\n",
        "## Loading and preprocessing the dataset\n",
        "\n",
        "Loading and preprocessing stays the same as in the `Trialwise decoding\n",
        "tutorial <./plot_bcic_iv_2a_moabb_trial.html>`__.\n",
        "\n"
      ]
    },
    {
      "cell_type": "code",
      "execution_count": 2,
      "metadata": {
        "collapsed": false
      },
      "outputs": [
        {
          "ename": "ModuleNotFoundError",
          "evalue": "No module named 'moabb'",
          "output_type": "error",
          "traceback": [
            "\u001b[0;31m---------------------------------------------------------------------------\u001b[0m",
            "\u001b[0;31mModuleNotFoundError\u001b[0m                       Traceback (most recent call last)",
            "\u001b[1;32m/home/tidianes/dev/nail/EEGClip/scripts/braindecode_tutorials/plot_bcic_iv_2a_moabb_cropped.ipynb Cell 4\u001b[0m in \u001b[0;36m<cell line: 4>\u001b[0;34m()\u001b[0m\n\u001b[1;32m      <a href='vscode-notebook-cell:/home/tidianes/dev/nail/EEGClip/scripts/braindecode_tutorials/plot_bcic_iv_2a_moabb_cropped.ipynb#W3sZmlsZQ%3D%3D?line=0'>1</a>\u001b[0m \u001b[39mfrom\u001b[39;00m \u001b[39mbraindecode\u001b[39;00m\u001b[39m.\u001b[39;00m\u001b[39mdatasets\u001b[39;00m \u001b[39mimport\u001b[39;00m MOABBDataset\n\u001b[1;32m      <a href='vscode-notebook-cell:/home/tidianes/dev/nail/EEGClip/scripts/braindecode_tutorials/plot_bcic_iv_2a_moabb_cropped.ipynb#W3sZmlsZQ%3D%3D?line=2'>3</a>\u001b[0m subject_id \u001b[39m=\u001b[39m \u001b[39m3\u001b[39m\n\u001b[0;32m----> <a href='vscode-notebook-cell:/home/tidianes/dev/nail/EEGClip/scripts/braindecode_tutorials/plot_bcic_iv_2a_moabb_cropped.ipynb#W3sZmlsZQ%3D%3D?line=3'>4</a>\u001b[0m dataset \u001b[39m=\u001b[39m MOABBDataset(dataset_name\u001b[39m=\u001b[39;49m\u001b[39m\"\u001b[39;49m\u001b[39mBNCI2014001\u001b[39;49m\u001b[39m\"\u001b[39;49m, subject_ids\u001b[39m=\u001b[39;49m[subject_id])\n\u001b[1;32m      <a href='vscode-notebook-cell:/home/tidianes/dev/nail/EEGClip/scripts/braindecode_tutorials/plot_bcic_iv_2a_moabb_cropped.ipynb#W3sZmlsZQ%3D%3D?line=5'>6</a>\u001b[0m \u001b[39mfrom\u001b[39;00m \u001b[39mbraindecode\u001b[39;00m\u001b[39m.\u001b[39;00m\u001b[39mpreprocessing\u001b[39;00m \u001b[39mimport\u001b[39;00m (\n\u001b[1;32m      <a href='vscode-notebook-cell:/home/tidianes/dev/nail/EEGClip/scripts/braindecode_tutorials/plot_bcic_iv_2a_moabb_cropped.ipynb#W3sZmlsZQ%3D%3D?line=6'>7</a>\u001b[0m     exponential_moving_standardize, preprocess, Preprocessor, scale)\n\u001b[1;32m      <a href='vscode-notebook-cell:/home/tidianes/dev/nail/EEGClip/scripts/braindecode_tutorials/plot_bcic_iv_2a_moabb_cropped.ipynb#W3sZmlsZQ%3D%3D?line=8'>9</a>\u001b[0m low_cut_hz \u001b[39m=\u001b[39m \u001b[39m4.\u001b[39m  \u001b[39m# low cut frequency for filtering\u001b[39;00m\n",
            "File \u001b[0;32m~/miniconda3/envs/tid_env/lib/python3.10/site-packages/braindecode/datasets/moabb.py:108\u001b[0m, in \u001b[0;36mMOABBDataset.__init__\u001b[0;34m(self, dataset_name, subject_ids, dataset_kwargs)\u001b[0m\n\u001b[1;32m    107\u001b[0m \u001b[39mdef\u001b[39;00m \u001b[39m__init__\u001b[39m(\u001b[39mself\u001b[39m, dataset_name, subject_ids, dataset_kwargs\u001b[39m=\u001b[39m\u001b[39mNone\u001b[39;00m):\n\u001b[0;32m--> 108\u001b[0m     raws, description \u001b[39m=\u001b[39m fetch_data_with_moabb(dataset_name, subject_ids, dataset_kwargs)\n\u001b[1;32m    109\u001b[0m     all_base_ds \u001b[39m=\u001b[39m [BaseDataset(raw, row)\n\u001b[1;32m    110\u001b[0m                    \u001b[39mfor\u001b[39;00m raw, (_, row) \u001b[39min\u001b[39;00m \u001b[39mzip\u001b[39m(raws, description\u001b[39m.\u001b[39miterrows())]\n\u001b[1;32m    111\u001b[0m     \u001b[39msuper\u001b[39m()\u001b[39m.\u001b[39m\u001b[39m__init__\u001b[39m(all_base_ds)\n",
            "File \u001b[0;32m~/miniconda3/envs/tid_env/lib/python3.10/site-packages/braindecode/datasets/moabb.py:88\u001b[0m, in \u001b[0;36mfetch_data_with_moabb\u001b[0;34m(dataset_name, subject_ids, dataset_kwargs)\u001b[0m\n\u001b[1;32m     69\u001b[0m \u001b[39mdef\u001b[39;00m \u001b[39mfetch_data_with_moabb\u001b[39m(dataset_name, subject_ids, dataset_kwargs\u001b[39m=\u001b[39m\u001b[39mNone\u001b[39;00m):\n\u001b[1;32m     70\u001b[0m     \u001b[39m# ToDo: update path to where moabb downloads / looks for the data\u001b[39;00m\n\u001b[1;32m     71\u001b[0m     \u001b[39m\"\"\"Fetch data using moabb.\u001b[39;00m\n\u001b[1;32m     72\u001b[0m \n\u001b[1;32m     73\u001b[0m \u001b[39m    Parameters\u001b[39;00m\n\u001b[0;32m   (...)\u001b[0m\n\u001b[1;32m     86\u001b[0m \u001b[39m    info: pandas.DataFrame\u001b[39;00m\n\u001b[1;32m     87\u001b[0m \u001b[39m    \"\"\"\u001b[39;00m\n\u001b[0;32m---> 88\u001b[0m     dataset \u001b[39m=\u001b[39m _find_dataset_in_moabb(dataset_name, dataset_kwargs)\n\u001b[1;32m     89\u001b[0m     subject_id \u001b[39m=\u001b[39m [subject_ids] \u001b[39mif\u001b[39;00m \u001b[39misinstance\u001b[39m(subject_ids, \u001b[39mint\u001b[39m) \u001b[39melse\u001b[39;00m subject_ids\n\u001b[1;32m     90\u001b[0m     \u001b[39mreturn\u001b[39;00m _fetch_and_unpack_moabb_data(dataset, subject_id)\n",
            "File \u001b[0;32m~/miniconda3/envs/tid_env/lib/python3.10/site-packages/braindecode/datasets/moabb.py:21\u001b[0m, in \u001b[0;36m_find_dataset_in_moabb\u001b[0;34m(dataset_name, dataset_kwargs)\u001b[0m\n\u001b[1;32m     19\u001b[0m \u001b[39mdef\u001b[39;00m \u001b[39m_find_dataset_in_moabb\u001b[39m(dataset_name, dataset_kwargs\u001b[39m=\u001b[39m\u001b[39mNone\u001b[39;00m):\n\u001b[1;32m     20\u001b[0m     \u001b[39m# soft dependency on moabb\u001b[39;00m\n\u001b[0;32m---> 21\u001b[0m     \u001b[39mfrom\u001b[39;00m \u001b[39mmoabb\u001b[39;00m\u001b[39m.\u001b[39;00m\u001b[39mdatasets\u001b[39;00m\u001b[39m.\u001b[39;00m\u001b[39mutils\u001b[39;00m \u001b[39mimport\u001b[39;00m dataset_list\n\u001b[1;32m     22\u001b[0m     \u001b[39mfor\u001b[39;00m dataset \u001b[39min\u001b[39;00m dataset_list:\n\u001b[1;32m     23\u001b[0m         \u001b[39mif\u001b[39;00m dataset_name \u001b[39m==\u001b[39m dataset\u001b[39m.\u001b[39m\u001b[39m__name__\u001b[39m:\n\u001b[1;32m     24\u001b[0m             \u001b[39m# return an instance of the found dataset class\u001b[39;00m\n",
            "\u001b[0;31mModuleNotFoundError\u001b[0m: No module named 'moabb'"
          ]
        }
      ],
      "source": [
        "from braindecode.datasets import MOABBDataset\n",
        "\n",
        "subject_id = 3\n",
        "dataset = MOABBDataset(dataset_name=\"BNCI2014001\", subject_ids=[subject_id])\n",
        "\n",
        "from braindecode.preprocessing import (\n",
        "    exponential_moving_standardize, preprocess, Preprocessor, scale)\n",
        "\n",
        "low_cut_hz = 4.  # low cut frequency for filtering\n",
        "high_cut_hz = 38.  # high cut frequency for filtering\n",
        "# Parameters for exponential moving standardization\n",
        "factor_new = 1e-3\n",
        "init_block_size = 1000\n",
        "\n",
        "preprocessors = [\n",
        "    Preprocessor('pick_types', eeg=True, meg=False, stim=False),  # Keep EEG sensors\n",
        "    Preprocessor(scale, factor=1e6, apply_on_array=True),  # Convert from V to uV\n",
        "    Preprocessor('filter', l_freq=low_cut_hz, h_freq=high_cut_hz),  # Bandpass filter\n",
        "    Preprocessor(exponential_moving_standardize,  # Exponential moving standardization\n",
        "                 factor_new=factor_new, init_block_size=init_block_size)\n",
        "]\n",
        "\n",
        "# Transform the data\n",
        "preprocess(dataset, preprocessors)"
      ]
    },
    {
      "cell_type": "markdown",
      "metadata": {},
      "source": [
        "## Create model and compute windowing parameters\n",
        "\n",
        "In contrast to trialwise decoding, we first have to create the model\n",
        "before we can cut the dataset into windows. This is because we need to\n",
        "know the receptive field of the network to know how large the window\n",
        "stride should be.\n",
        "\n",
        "We first choose the compute/input window size that will be fed to the\n",
        "network during training This has to be larger than the networks\n",
        "receptive field size and can otherwise be chosen for computational\n",
        "efficiency (see explanations in the beginning of this tutorial). Here we\n",
        "choose 1000 samples, which are 4 seconds for the 250 Hz sampling rate.\n",
        "\n",
        "\n"
      ]
    },
    {
      "cell_type": "code",
      "execution_count": null,
      "metadata": {
        "collapsed": false
      },
      "outputs": [],
      "source": [
        "input_window_samples = 1000"
      ]
    },
    {
      "cell_type": "markdown",
      "metadata": {},
      "source": [
        "Now we create the model. To enable it to be used in cropped decoding\n",
        "efficiently, we manually set the length of the final convolution layer\n",
        "to some length that makes the receptive field of the ConvNet smaller\n",
        "than ``input_window_samples`` (see ``final_conv_length=30`` in the model\n",
        "definition).\n",
        "\n",
        "\n"
      ]
    },
    {
      "cell_type": "code",
      "execution_count": null,
      "metadata": {
        "collapsed": false
      },
      "outputs": [],
      "source": [
        "import torch\n",
        "from braindecode.util import set_random_seeds\n",
        "from braindecode.models import ShallowFBCSPNet\n",
        "\n",
        "\n",
        "cuda = torch.cuda.is_available()  # check if GPU is available, if True chooses to use it\n",
        "device = 'cuda' if cuda else 'cpu'\n",
        "if cuda:\n",
        "    torch.backends.cudnn.benchmark = True\n",
        "# Set random seed to be able to roughly reproduce results\n",
        "# Note that with cudnn benchmark set to True, GPU indeterminism\n",
        "# may still make results substantially different between runs.\n",
        "# To obtain more consistent results at the cost of increased computation time,\n",
        "# you can set `cudnn_benchmark=False` in `set_random_seeds`\n",
        "# or remove `torch.backends.cudnn.benchmark = True`\n",
        "seed = 20200220\n",
        "set_random_seeds(seed=seed, cuda=cuda)\n",
        "\n",
        "n_classes = 4\n",
        "# Extract number of chans from dataset\n",
        "n_chans = dataset[0][0].shape[0]\n",
        "\n",
        "model = ShallowFBCSPNet(\n",
        "    n_chans,\n",
        "    n_classes,\n",
        "    input_window_samples=input_window_samples,\n",
        "    final_conv_length=30,\n",
        ")\n",
        "\n",
        "# Send model to GPU\n",
        "if cuda:\n",
        "    model.cuda()"
      ]
    },
    {
      "cell_type": "markdown",
      "metadata": {},
      "source": [
        "And now we transform model with strides to a model that outputs dense\n",
        "prediction, so we can use it to obtain predictions for all\n",
        "crops.\n",
        "\n",
        "\n"
      ]
    },
    {
      "cell_type": "code",
      "execution_count": null,
      "metadata": {
        "collapsed": false
      },
      "outputs": [],
      "source": [
        "from braindecode.models import to_dense_prediction_model, get_output_shape\n",
        "\n",
        "to_dense_prediction_model(model)"
      ]
    },
    {
      "cell_type": "markdown",
      "metadata": {},
      "source": [
        "To know the models’ receptive field, we calculate the shape of model\n",
        "output for a dummy input.\n",
        "\n",
        "\n"
      ]
    },
    {
      "cell_type": "code",
      "execution_count": null,
      "metadata": {
        "collapsed": false
      },
      "outputs": [],
      "source": [
        "n_preds_per_input = get_output_shape(model, n_chans, input_window_samples)[2]"
      ]
    },
    {
      "cell_type": "markdown",
      "metadata": {},
      "source": [
        "## Cut the data into windows\n",
        "\n",
        "In contrast to trialwise decoding, we have to supply an explicit window size and\n",
        "window stride to the ``create_windows_from_events`` function.\n",
        "\n",
        "\n"
      ]
    },
    {
      "cell_type": "code",
      "execution_count": null,
      "metadata": {
        "collapsed": false
      },
      "outputs": [],
      "source": [
        "from braindecode.preprocessing import create_windows_from_events\n",
        "\n",
        "trial_start_offset_seconds = -0.5\n",
        "# Extract sampling frequency, check that they are same in all datasets\n",
        "sfreq = dataset.datasets[0].raw.info['sfreq']\n",
        "assert all([ds.raw.info['sfreq'] == sfreq for ds in dataset.datasets])\n",
        "\n",
        "# Calculate the trial start offset in samples.\n",
        "trial_start_offset_samples = int(trial_start_offset_seconds * sfreq)\n",
        "\n",
        "# Create windows using braindecode function for this. It needs parameters to define how\n",
        "# trials should be used.\n",
        "windows_dataset = create_windows_from_events(\n",
        "    dataset,\n",
        "    trial_start_offset_samples=trial_start_offset_samples,\n",
        "    trial_stop_offset_samples=0,\n",
        "    window_size_samples=input_window_samples,\n",
        "    window_stride_samples=n_preds_per_input,\n",
        "    drop_last_window=False,\n",
        "    preload=True\n",
        ")"
      ]
    },
    {
      "cell_type": "markdown",
      "metadata": {},
      "source": [
        "## Split the dataset\n",
        "\n",
        "This code is the same as in trialwise decoding.\n",
        "\n",
        "\n"
      ]
    },
    {
      "cell_type": "code",
      "execution_count": null,
      "metadata": {
        "collapsed": false
      },
      "outputs": [],
      "source": [
        "splitted = windows_dataset.split('session')\n",
        "train_set = splitted['session_T']\n",
        "valid_set = splitted['session_E']"
      ]
    },
    {
      "cell_type": "markdown",
      "metadata": {},
      "source": [
        "## Training\n",
        "\n",
        "In difference to trialwise decoding, we now should supply\n",
        "``cropped=True`` to the EEGClassifier, and ``CroppedLoss`` as the\n",
        "criterion, as well as ``criterion__loss_function`` as the loss function\n",
        "applied to the meaned predictions.\n",
        "\n",
        "<div class=\"alert alert-info\"><h4>Note</h4><p>In this tutorial, we use some default parameters that we\n",
        "   have found to work well for motor decoding, however we strongly\n",
        "   encourage you to perform your own hyperparameter optimization using\n",
        "   cross validation on your training data.</p></div>\n",
        "\n",
        "\n"
      ]
    },
    {
      "cell_type": "code",
      "execution_count": null,
      "metadata": {
        "collapsed": false
      },
      "outputs": [],
      "source": [
        "from skorch.callbacks import LRScheduler\n",
        "from skorch.helper import predefined_split\n",
        "\n",
        "from braindecode import EEGClassifier\n",
        "from braindecode.training import CroppedLoss\n",
        "\n",
        "# These values we found good for shallow network:\n",
        "lr = 0.0625 * 0.01\n",
        "weight_decay = 0\n",
        "\n",
        "# For deep4 they should be:\n",
        "# lr = 1 * 0.01\n",
        "# weight_decay = 0.5 * 0.001\n",
        "\n",
        "batch_size = 64\n",
        "n_epochs = 4\n",
        "\n",
        "clf = EEGClassifier(\n",
        "    model,\n",
        "    cropped=True,\n",
        "    criterion=CroppedLoss,\n",
        "    criterion__loss_function=torch.nn.functional.nll_loss,\n",
        "    optimizer=torch.optim.AdamW,\n",
        "    train_split=predefined_split(valid_set),\n",
        "    optimizer__lr=lr,\n",
        "    optimizer__weight_decay=weight_decay,\n",
        "    iterator_train__shuffle=True,\n",
        "    batch_size=batch_size,\n",
        "    callbacks=[\n",
        "        \"accuracy\", (\"lr_scheduler\", LRScheduler('CosineAnnealingLR', T_max=n_epochs - 1)),\n",
        "    ],\n",
        "    device=device,\n",
        ")\n",
        "# Model training for a specified number of epochs. `y` is None as it is already supplied\n",
        "# in the dataset.\n",
        "clf.fit(train_set, y=None, epochs=n_epochs)"
      ]
    },
    {
      "cell_type": "markdown",
      "metadata": {},
      "source": [
        "## Plot Results\n",
        "\n",
        "This is again the same code as in trialwise decoding.\n",
        "\n",
        "<div class=\"alert alert-info\"><h4>Note</h4><p>Note that we drop further in the classification error and\n",
        "    loss as in the trialwise decoding tutorial.</p></div>\n",
        "\n",
        "\n"
      ]
    },
    {
      "cell_type": "code",
      "execution_count": null,
      "metadata": {
        "collapsed": false
      },
      "outputs": [],
      "source": [
        "import matplotlib.pyplot as plt\n",
        "from matplotlib.lines import Line2D\n",
        "import pandas as pd\n",
        "\n",
        "# Extract loss and accuracy values for plotting from history object\n",
        "results_columns = ['train_loss', 'valid_loss', 'train_accuracy', 'valid_accuracy']\n",
        "df = pd.DataFrame(clf.history[:, results_columns], columns=results_columns,\n",
        "                  index=clf.history[:, 'epoch'])\n",
        "\n",
        "# get percent of misclass for better visual comparison to loss\n",
        "df = df.assign(train_misclass=100 - 100 * df.train_accuracy,\n",
        "               valid_misclass=100 - 100 * df.valid_accuracy)\n",
        "\n",
        "plt.style.use('seaborn')\n",
        "fig, ax1 = plt.subplots(figsize=(8, 3))\n",
        "df.loc[:, ['train_loss', 'valid_loss']].plot(\n",
        "    ax=ax1, style=['-', ':'], marker='o', color='tab:blue', legend=False, fontsize=14)\n",
        "\n",
        "ax1.tick_params(axis='y', labelcolor='tab:blue', labelsize=14)\n",
        "ax1.set_ylabel(\"Loss\", color='tab:blue', fontsize=14)\n",
        "\n",
        "ax2 = ax1.twinx()  # instantiate a second axes that shares the same x-axis\n",
        "\n",
        "df.loc[:, ['train_misclass', 'valid_misclass']].plot(\n",
        "    ax=ax2, style=['-', ':'], marker='o', color='tab:red', legend=False)\n",
        "ax2.tick_params(axis='y', labelcolor='tab:red', labelsize=14)\n",
        "ax2.set_ylabel(\"Misclassification Rate [%]\", color='tab:red', fontsize=14)\n",
        "ax2.set_ylim(ax2.get_ylim()[0], 85)  # make some room for legend\n",
        "ax1.set_xlabel(\"Epoch\", fontsize=14)\n",
        "\n",
        "# where some data has already been plotted to ax\n",
        "handles = []\n",
        "handles.append(Line2D([0], [0], color='black', linewidth=1, linestyle='-', label='Train'))\n",
        "handles.append(Line2D([0], [0], color='black', linewidth=1, linestyle=':', label='Valid'))\n",
        "plt.legend(handles, [h.get_label() for h in handles], fontsize=14)\n",
        "plt.tight_layout()"
      ]
    },
    {
      "cell_type": "markdown",
      "metadata": {},
      "source": [
        "## Plot Confusion Matrix\n",
        "\n",
        "Generate a confusion matrix as in https://onlinelibrary.wiley.com/doi/full/10.1002/hbm.23730\n",
        "\n",
        "\n"
      ]
    },
    {
      "cell_type": "code",
      "execution_count": null,
      "metadata": {
        "collapsed": false
      },
      "outputs": [],
      "source": [
        "from sklearn.metrics import confusion_matrix\n",
        "from braindecode.visualization import plot_confusion_matrix\n",
        "\n",
        "# generate confusion matrices\n",
        "# get the targets\n",
        "y_true = valid_set.get_metadata().target\n",
        "y_pred = clf.predict(valid_set)\n",
        "\n",
        "# generating confusion matrix\n",
        "confusion_mat = confusion_matrix(y_true, y_pred)\n",
        "\n",
        "# add class labels\n",
        "# label_dict is class_name : str -> i_class : int\n",
        "label_dict = valid_set.datasets[0].windows.event_id.items()\n",
        "# sort the labels by values (values are integer class labels)\n",
        "labels = list(dict(sorted(list(label_dict), key=lambda kv: kv[1])).keys())\n",
        "\n",
        "# plot the basic conf. matrix\n",
        "plot_confusion_matrix(confusion_mat, class_names=labels)"
      ]
    }
  ],
  "metadata": {
    "kernelspec": {
      "display_name": "Python 3.10.6 ('tid_env')",
      "language": "python",
      "name": "python3"
    },
    "language_info": {
      "codemirror_mode": {
        "name": "ipython",
        "version": 3
      },
      "file_extension": ".py",
      "mimetype": "text/x-python",
      "name": "python",
      "nbconvert_exporter": "python",
      "pygments_lexer": "ipython3",
      "version": "3.10.6"
    },
    "vscode": {
      "interpreter": {
        "hash": "e4ac7f30aa65cc641f5967c96ff1707a40f829f0dd175c4897139c8c0fb2d9eb"
      }
    }
  },
  "nbformat": 4,
  "nbformat_minor": 0
}
