{
 "cells": [
  {
   "cell_type": "code",
   "execution_count": 47,
   "metadata": {},
   "outputs": [],
   "source": [
    "import os\n",
    "import pandas as pd\n",
    "\n",
    "\n",
    "# reports were already painstakingly processed by Gemeinl\n",
    "# see https://github.com/gemeinl/auto-eeg-diagnosis-comparison/blob/master/code/physician_reports.ipynb\n",
    "\n",
    "current_dir = os.getcwd() + '/scripts/text_preprocessing/'\n",
    "current_dir = ''\n",
    "# dataframe created by the TUH class\n",
    "dataset_df=pd.read_csv(current_dir + 'tuh_description.csv')\n",
    "# processed dataframe\n",
    "processed_df = pd.read_csv(current_dir + 'tuh_description_processed.csv')\n",
    "\n",
    "# add common column to both dataframes\n",
    "dataset_df['new_col'] = 's' + dataset_df['session'].astype(str).str.pad(3, fillchar='0')  + '_' + dataset_df['year'].astype(str) + '_' + dataset_df['month'].astype(str).str.pad(2, fillchar='0') + '_' + dataset_df['day'].astype(str).str.pad(2, fillchar='0') + dataset_df[\"subject\"].astype(str)\n",
    "processed_df['new_col'] = processed_df['SESSION'] + processed_df['SUBJECT'].astype(str)\n",
    "\n",
    "\n",
    "df = dataset_df.merge(processed_df, on='new_col', how='left')\n",
    "\n",
    "df.drop(['new_col', 'Unnamed: 0',], axis=1, inplace=True)"
   ]
  },
  {
   "cell_type": "code",
   "execution_count": 42,
   "metadata": {},
   "outputs": [],
   "source": [
    "processed_categories = ['age', 'gender', 'pathological', \n",
    "                        'IMPRESSION', 'DESCRIPTION OF THE RECORD',\n",
    "                        'CLINICAL HISTORY', 'MEDICATIONS', 'INTRODUCTION',\n",
    "                        'CLINICAL CORRELATION', 'HEART RATE', 'FINDINGS', 'REASON FOR STUDY',\n",
    "                        'TECHNICAL DIFFICULTIES', 'EVENTS', 'CONDITION OF THE RECORDING',\n",
    "                        'PAST MEDICAL HISTORY', 'TYPE OF STUDY', 'ACTIVATION PROCEDURES',\n",
    "                        'NOTE']"
   ]
  },
  {
   "cell_type": "code",
   "execution_count": 50,
   "metadata": {},
   "outputs": [],
   "source": [
    "# new column REPORT containing all the non-empty processed categories as : CATEGORY: TEXT\n",
    "df['REPORT'] = ''\n",
    "for category in processed_categories:\n",
    "  for i, value in enumerate(df[category]):\n",
    "    if not pd.isnull(value):\n",
    "      df.loc[i,'REPORT'] += category + ': ' + str(value) + ', '\n"
   ]
  },
  {
   "cell_type": "code",
   "execution_count": 52,
   "metadata": {},
   "outputs": [
    {
     "data": {
      "text/plain": [
       "'age: 53, gender: F, pathological: False, IMPRESSION: Normal electroencephalogram., DESCRIPTION OF THE RECORD: In wakefulness, there is a 9.8 Hz alpha rhythm with a small amount of low voltage frontal central beta activity. Hyperventilation produces a small amount of slowing. Photic stimulation does not activate the record., CLINICAL HISTORY: Seizures., MEDICATIONS: Dilantin, Lipitor., INTRODUCTION: Digital video EEG is performed in the lab using standard 10-20 system of electrode placement with 1 channel EKG. Hyperventilation and photic stimulation are performed. This is an awake and asleep record., CLINICAL CORRELATION: This is the third normal EEG for this individual with epilepsy. If appropriate, additional recording strategies may be helpful to characterize epileptiform activity., '"
      ]
     },
     "execution_count": 52,
     "metadata": {},
     "output_type": "execute_result"
    }
   ],
   "source": [
    "df.iloc[0]['REPORT']"
   ]
  },
  {
   "cell_type": "code",
   "execution_count": 49,
   "metadata": {},
   "outputs": [
    {
     "data": {
      "text/plain": [
       "'age : 53, gender : F, pathological : False, IMPRESSION : Normal electroencephalogram., DESCRIPTION OF THE RECORD : In wakefulness, there is a 9.8 Hz alpha rhythm with a small amount of low voltage frontal central beta activity. Hyperventilation produces a small amount of slowing. Photic stimulation does not activate the record., CLINICAL HISTORY : Seizures., MEDICATIONS : Dilantin, Lipitor., INTRODUCTION : Digital video EEG is performed in the lab using standard 10-20 system of electrode placement with 1 channel EKG. Hyperventilation and photic stimulation are performed. This is an awake and asleep record., CLINICAL CORRELATION : This is the third normal EEG for this individual with epilepsy. If appropriate, additional recording strategies may be helpful to characterize epileptiform activity., HEART RATE : Unspecified, FINDINGS : Unspecified, REASON FOR STUDY : Unspecified, TECHNICAL DIFFICULTIES : Unspecified, EVENTS : Unspecified, CONDITION OF THE RECORDING : Unspecified, PAST MEDICAL HISTORY : Unspecified, TYPE OF STUDY : Unspecified, ACTIVATION PROCEDURES : Unspecified, NOTE : Unspecified, '"
      ]
     },
     "execution_count": 49,
     "metadata": {},
     "output_type": "execute_result"
    }
   ],
   "source": [
    "df['REPORT'].iloc[0]"
   ]
  }
 ],
 "metadata": {
  "kernelspec": {
   "display_name": "Python 3.10.6 (conda)",
   "language": "python",
   "name": "python3"
  },
  "language_info": {
   "codemirror_mode": {
    "name": "ipython",
    "version": 3
   },
   "file_extension": ".py",
   "mimetype": "text/x-python",
   "name": "python",
   "nbconvert_exporter": "python",
   "pygments_lexer": "ipython3",
   "version": "3.10.6"
  },
  "orig_nbformat": 4,
  "vscode": {
   "interpreter": {
    "hash": "097b7033baff6ef61c19d5e3b26d00f2edd9fddb86c25af544d86fb0636b8d9f"
   }
  }
 },
 "nbformat": 4,
 "nbformat_minor": 2
}
