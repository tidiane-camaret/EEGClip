{
 "cells": [
  {
   "cell_type": "code",
   "execution_count": 1,
   "metadata": {},
   "outputs": [
    {
     "name": "stderr",
     "output_type": "stream",
     "text": [
      "/home/jovyan/test_env/lib/python3.10/site-packages/tqdm/auto.py:22: TqdmWarning: IProgress not found. Please update jupyter and ipywidgets. See https://ipywidgets.readthedocs.io/en/stable/user_install.html\n",
      "  from .autonotebook import tqdm as notebook_tqdm\n"
     ]
    }
   ],
   "source": [
    "import torch\n",
    "import pytorch_lightning as pl\n",
    "from EEGClip.clip_models import EEGClipModel"
   ]
  },
  {
   "cell_type": "code",
   "execution_count": 2,
   "metadata": {},
   "outputs": [],
   "source": [
    "results_dir = \"/home/jovyan/EEGClip/results/\"\n",
    "n_epochs = 20\n",
    "model_name = \"EEGClip_\" + \\\n",
    "        \"n_epochs_\" + str(n_epochs)"
   ]
  },
  {
   "cell_type": "code",
   "execution_count": 6,
   "metadata": {},
   "outputs": [
    {
     "name": "stderr",
     "output_type": "stream",
     "text": [
      "Some weights of the model checkpoint at bert-base-uncased were not used when initializing BertModel: ['cls.predictions.transform.LayerNorm.bias', 'cls.predictions.transform.dense.bias', 'cls.predictions.transform.LayerNorm.weight', 'cls.seq_relationship.bias', 'cls.predictions.bias', 'cls.predictions.transform.dense.weight', 'cls.predictions.decoder.weight', 'cls.seq_relationship.weight']\n",
      "- This IS expected if you are initializing BertModel from the checkpoint of a model trained on another task or with another architecture (e.g. initializing a BertForSequenceClassification model from a BertForPreTraining model).\n",
      "- This IS NOT expected if you are initializing BertModel from the checkpoint of a model that you expect to be exactly identical (initializing a BertForSequenceClassification model from a BertForSequenceClassification model).\n"
     ]
    }
   ],
   "source": [
    "eegclipmodel = EEGClipModel.load_from_checkpoint((results_dir + '/models/' + model_name + '.ckpt'))"
   ]
  },
  {
   "cell_type": "code",
   "execution_count": null,
   "metadata": {},
   "outputs": [],
   "source": [
    "eegclipmodel.eeg_encoder"
   ]
  },
  {
   "cell_type": "code",
   "execution_count": 8,
   "metadata": {},
   "outputs": [],
   "source": [
    "encoder = torch.nn.ModuleList([eegclipmodel.eeg_encoder,eegclipmodel.eeg_projection])"
   ]
  },
  {
   "cell_type": "code",
   "execution_count": 9,
   "metadata": {},
   "outputs": [
    {
     "data": {
      "text/plain": [
       "ModuleList(\n",
       "  (0): EEGEncoder(\n",
       "    (model): Deep4Net(\n",
       "      (ensuredims): Ensure4d()\n",
       "      (dimshuffle): Expression(expression=transpose_time_to_spat) \n",
       "      (conv_time): Conv2d(1, 25, kernel_size=(10, 1), stride=(1, 1))\n",
       "      (conv_spat): Conv2d(25, 25, kernel_size=(1, 21), stride=(3, 1), bias=False)\n",
       "      (bnorm): BatchNorm2d(25, eps=1e-05, momentum=0.1, affine=True, track_running_stats=True)\n",
       "      (conv_nonlin): Expression(expression=elu) \n",
       "      (pool): MaxPool2d(kernel_size=(3, 1), stride=(1, 1), padding=0, dilation=1, ceil_mode=False)\n",
       "      (pool_nonlin): Expression(expression=identity) \n",
       "      (drop_2): Dropout(p=0.5, inplace=False)\n",
       "      (conv_2): Conv2d(25, 50, kernel_size=(10, 1), stride=(3, 1), bias=False)\n",
       "      (bnorm_2): BatchNorm2d(50, eps=1e-05, momentum=0.1, affine=True, track_running_stats=True)\n",
       "      (nonlin_2): Expression(expression=elu) \n",
       "      (pool_2): MaxPool2d(kernel_size=(3, 1), stride=(1, 1), padding=0, dilation=1, ceil_mode=False)\n",
       "      (pool_nonlin_2): Expression(expression=identity) \n",
       "      (drop_3): Dropout(p=0.5, inplace=False)\n",
       "      (conv_3): Conv2d(50, 100, kernel_size=(10, 1), stride=(3, 1), bias=False)\n",
       "      (bnorm_3): BatchNorm2d(100, eps=1e-05, momentum=0.1, affine=True, track_running_stats=True)\n",
       "      (nonlin_3): Expression(expression=elu) \n",
       "      (pool_3): MaxPool2d(kernel_size=(3, 1), stride=(1, 1), padding=0, dilation=1, ceil_mode=False)\n",
       "      (pool_nonlin_3): Expression(expression=identity) \n",
       "      (drop_4): Dropout(p=0.5, inplace=False)\n",
       "      (conv_4): Conv2d(100, 200, kernel_size=(10, 1), stride=(3, 1), bias=False)\n",
       "      (bnorm_4): BatchNorm2d(200, eps=1e-05, momentum=0.1, affine=True, track_running_stats=True)\n",
       "      (nonlin_4): Expression(expression=elu) \n",
       "      (pool_4): MaxPool2d(kernel_size=(3, 1), stride=(1, 1), padding=0, dilation=1, ceil_mode=False)\n",
       "      (pool_nonlin_4): Expression(expression=identity) \n",
       "      (conv_classifier): Conv2d(200, 128, kernel_size=(2, 1), stride=(1, 1))\n",
       "      (softmax): LogSoftmax(dim=1)\n",
       "      (squeeze): Expression(expression=squeeze_final_output) \n",
       "    )\n",
       "  )\n",
       "  (1): ProjectionHead(\n",
       "    (projection_layer): Linear(in_features=128, out_features=16, bias=True)\n",
       "    (fc_layers): ModuleList(\n",
       "      (0): Linear(in_features=16, out_features=16, bias=True)\n",
       "    )\n",
       "    (gelu): GELU(approximate='none')\n",
       "    (dropout): Dropout(p=0.1, inplace=False)\n",
       "    (layer_norm): LayerNorm((16,), eps=1e-05, elementwise_affine=True)\n",
       "  )\n",
       ")"
      ]
     },
     "execution_count": 9,
     "metadata": {},
     "output_type": "execute_result"
    }
   ],
   "source": [
    "encoder"
   ]
  }
 ],
 "metadata": {
  "kernelspec": {
   "display_name": "Python 3.10.6 (conda)",
   "language": "python",
   "name": "python3"
  },
  "language_info": {
   "codemirror_mode": {
    "name": "ipython",
    "version": 3
   },
   "file_extension": ".py",
   "mimetype": "text/x-python",
   "name": "python",
   "nbconvert_exporter": "python",
   "pygments_lexer": "ipython3",
   "version": "3.10.6"
  },
  "orig_nbformat": 4,
  "vscode": {
   "interpreter": {
    "hash": "097b7033baff6ef61c19d5e3b26d00f2edd9fddb86c25af544d86fb0636b8d9f"
   }
  }
 },
 "nbformat": 4,
 "nbformat_minor": 2
}
