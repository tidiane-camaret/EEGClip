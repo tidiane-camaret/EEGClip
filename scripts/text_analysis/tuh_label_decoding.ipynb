{
 "cells": [
  {
   "cell_type": "code",
   "execution_count": null,
   "metadata": {},
   "outputs": [],
   "source": [
    "from braindecode.datasets import TUHAbnormal\n",
    "\n",
    "TUHAbnormal_PATH = '/home/jovyan/mne_data/TUH/tuh_eeg_abnormal/v2.0.0'\n",
    "N_JOBS = 8  # specify the number of jobs for loading and windowing\n",
    "\n",
    "\n",
    "tuh = TUHAbnormal(\n",
    "    path=TUHAbnormal_PATH,\n",
    "    recording_ids=None,\n",
    "    target_name=('report','pathological','gender','age'),\n",
    "    preload=False,\n",
    "    add_physician_reports=True,\n",
    "    n_jobs=N_JOBS, \n",
    ")"
   ]
  },
  {
   "cell_type": "code",
   "execution_count": 5,
   "metadata": {},
   "outputs": [
    {
     "name": "stdout",
     "output_type": "stream",
     "text": [
      "length of dataset :  1035794884\n",
      "y: ['CLINICAL HISTORY:  A 21-year-old female with multiple concussions, most recently October 6, with headaches and intermittent difficulty with concentration.\\nMEDICATIONS:  Elavil, albuterol, Naprosyn.\\nINTRODUCTION:  Digital video EEG was performed in the lab using standard 10-20 system of electrode placement with 1 channel EKG.  Hyperventilation and photic stimulation were completed.  This is an awake and asleep record.  It is technically satisfactory with impedances under 5 kilohms.\\nDESCRIPTION OF THE RECORD:  In wakefulness, there is a 10 Hz alpha rhythm which is symmetric and reactive to eye opening.  Alpha squeak was noted.  Brief drowsiness is characterized by an increase in beta, but sleep was not sustained.\\nHyperventilation produced a small increase in amplitude of the background.  Photic stimulation elicited scant driving.\\nHeart rate: 55 bpm.\\nIMPRESSION:  Normal EEG in wakefulness and brief drowsiness.\\nCLINICAL CORRELATION:  No focal or epileptiform features were identified.  In this individual with a history of head trauma there was no background slowing noted.\\n\\n\\n\\n', False, 'F', 21]\n"
     ]
    }
   ],
   "source": [
    "print(\"length of dataset : \", len(tuh))\n",
    "\n",
    "x, y = tuh[-1]\n",
    "print('y:', y)"
   ]
  },
  {
   "cell_type": "code",
   "execution_count": 6,
   "metadata": {},
   "outputs": [],
   "source": [
    "tuh_subjects = tuh.split('subject')\n",
    "len(tuh_subjects)\n",
    "key_list = list(tuh_subjects.keys())"
   ]
  },
  {
   "cell_type": "code",
   "execution_count": 1,
   "metadata": {},
   "outputs": [],
   "source": [
    "import pandas as pd"
   ]
  },
  {
   "cell_type": "code",
   "execution_count": 27,
   "metadata": {},
   "outputs": [],
   "source": [
    "\"\"\"\n",
    "df = pd.DataFrame(columns=('report', 'pathological', 'gender', 'age'))\n",
    "for i in range(len(key_list)):\n",
    "   df.loc[i] = tuh_subjects[key_list[i]][0][1]\n",
    "df.to_csv(\"report_df.csv\")\n",
    "\"\"\""
   ]
  },
  {
   "cell_type": "code",
   "execution_count": 2,
   "metadata": {},
   "outputs": [],
   "source": [
    "report_df = pd.read_csv(\"report_df.csv\")"
   ]
  },
  {
   "cell_type": "code",
   "execution_count": 5,
   "metadata": {},
   "outputs": [],
   "source": [
    "import numpy as np\n",
    "import torch\n",
    "from transformers import AutoTokenizer, AutoModel\n",
    "bert_tokenizer = AutoTokenizer.from_pretrained(\"bert-base-uncased\")\n",
    "bert_model = AutoModel.from_pretrained(\"bert-base-uncased\")\n",
    "report_embeddings = []\n",
    "for r in report_df['report']:\n",
    "        print(r)\n",
    "        desc_tokenized = bert_tokenizer(r, return_tensors=\"pt\", max_length=512, truncation=True, padding='max_length')\n",
    "        outputs = bert_model(**desc_tokenized)\n",
    "\n",
    "        report_embeddings.append(outputs.to_tuple()[0][0][0].detach().numpy().tolist())\n",
    "\n",
    "report_embeddings = np.array(report_embeddings)\n",
    "\n"
   ]
  }
 ],
 "metadata": {
  "kernelspec": {
   "display_name": "Python 3.10.6 (conda)",
   "language": "python",
   "name": "python3"
  },
  "language_info": {
   "codemirror_mode": {
    "name": "ipython",
    "version": 3
   },
   "file_extension": ".py",
   "mimetype": "text/x-python",
   "name": "python",
   "nbconvert_exporter": "python",
   "pygments_lexer": "ipython3",
   "version": "3.10.8"
  },
  "orig_nbformat": 4,
  "vscode": {
   "interpreter": {
    "hash": "097b7033baff6ef61c19d5e3b26d00f2edd9fddb86c25af544d86fb0636b8d9f"
   }
  }
 },
 "nbformat": 4,
 "nbformat_minor": 2
}
