{
 "cells": [
  {
   "cell_type": "code",
   "execution_count": null,
   "metadata": {},
   "outputs": [],
   "source": [
    "from braindecode.datasets import TUHAbnormal\n",
    "\n",
    "TUHAbnormal_PATH = '/home/jovyan/mne_data/TUH/tuh_eeg_abnormal/v2.0.0'\n",
    "N_JOBS = 8  # specify the number of jobs for loading and windowing\n",
    "\n",
    "\n",
    "tuh = TUHAbnormal(\n",
    "    path=TUHAbnormal_PATH,\n",
    "    recording_ids=None,\n",
    "    target_name=('report','pathological','gender','age'),\n",
    "    preload=False,\n",
    "    add_physician_reports=True,\n",
    "    n_jobs=N_JOBS, \n",
    ")"
   ]
  },
  {
   "cell_type": "code",
   "execution_count": 5,
   "metadata": {},
   "outputs": [
    {
     "name": "stdout",
     "output_type": "stream",
     "text": [
      "length of dataset :  1035794884\n",
      "y: ['CLINICAL HISTORY:  A 21-year-old female with multiple concussions, most recently October 6, with headaches and intermittent difficulty with concentration.\\nMEDICATIONS:  Elavil, albuterol, Naprosyn.\\nINTRODUCTION:  Digital video EEG was performed in the lab using standard 10-20 system of electrode placement with 1 channel EKG.  Hyperventilation and photic stimulation were completed.  This is an awake and asleep record.  It is technically satisfactory with impedances under 5 kilohms.\\nDESCRIPTION OF THE RECORD:  In wakefulness, there is a 10 Hz alpha rhythm which is symmetric and reactive to eye opening.  Alpha squeak was noted.  Brief drowsiness is characterized by an increase in beta, but sleep was not sustained.\\nHyperventilation produced a small increase in amplitude of the background.  Photic stimulation elicited scant driving.\\nHeart rate: 55 bpm.\\nIMPRESSION:  Normal EEG in wakefulness and brief drowsiness.\\nCLINICAL CORRELATION:  No focal or epileptiform features were identified.  In this individual with a history of head trauma there was no background slowing noted.\\n\\n\\n\\n', False, 'F', 21]\n"
     ]
    }
   ],
   "source": [
    "print(\"length of dataset : \", len(tuh))\n",
    "\n",
    "x, y = tuh[-1]\n",
    "print('y:', y)"
   ]
  },
  {
   "cell_type": "code",
   "execution_count": 2,
   "metadata": {},
   "outputs": [
    {
     "name": "stderr",
     "output_type": "stream",
     "text": [
      "Some weights of the model checkpoint at bert-base-uncased were not used when initializing BertModel: ['cls.seq_relationship.weight', 'cls.seq_relationship.bias', 'cls.predictions.transform.LayerNorm.weight', 'cls.predictions.decoder.weight', 'cls.predictions.transform.LayerNorm.bias', 'cls.predictions.transform.dense.weight', 'cls.predictions.bias', 'cls.predictions.transform.dense.bias']\n",
      "- This IS expected if you are initializing BertModel from the checkpoint of a model trained on another task or with another architecture (e.g. initializing a BertForSequenceClassification model from a BertForPreTraining model).\n",
      "- This IS NOT expected if you are initializing BertModel from the checkpoint of a model that you expect to be exactly identical (initializing a BertForSequenceClassification model from a BertForSequenceClassification model).\n"
     ]
    }
   ],
   "source": [
    "import pandas as pd\n",
    "import numpy as np\n",
    "import torch\n",
    "from transformers import AutoTokenizer, AutoModel\n",
    "bert_tokenizer = AutoTokenizer.from_pretrained(\"bert-base-uncased\")\n",
    "bert_model = AutoModel.from_pretrained(\"bert-base-uncased\")"
   ]
  },
  {
   "cell_type": "code",
   "execution_count": 27,
   "metadata": {},
   "outputs": [],
   "source": [
    "\n",
    "tuh_subjects = tuh.split('subject')\n",
    "key_list = list(tuh_subjects.keys())\n",
    "report_df = pd.DataFrame(columns=('report', 'pathological', 'gender', 'age'))\n",
    "for i in range(len(key_list)):\n",
    "   report_df.loc[i] = tuh_subjects[key_list[i]][0][1]\n",
    "\n",
    "\n",
    "report_embeddings = []\n",
    "for r in report_df['report']:\n",
    "        print(r)\n",
    "        desc_tokenized = bert_tokenizer(r, return_tensors=\"pt\", max_length=512, truncation=True, padding='max_length')\n",
    "        outputs = bert_model(**desc_tokenized)\n",
    "\n",
    "        report_embeddings.append(outputs.to_tuple()[0][0][0].detach().numpy().tolist())\n",
    "\n",
    "report_embeddings = np.array(report_embeddings)\n",
    "report_df['report_embedding'] = report_embeddings.tolist()\n",
    "\"\"\"\n",
    "report_df.to_csv(\"report_df.csv\")\n",
    "\n",
    "\"\"\""
   ]
  },
  {
   "cell_type": "code",
   "execution_count": 3,
   "metadata": {},
   "outputs": [],
   "source": [
    "report_df = pd.read_csv(\"report_df.csv\")"
   ]
  },
  {
   "cell_type": "code",
   "execution_count": 4,
   "metadata": {},
   "outputs": [
    {
     "data": {
      "text/plain": [
       "array([[<Axes: title={'center': 'Unnamed: 0.1'}>,\n",
       "        <Axes: title={'center': 'Unnamed: 0'}>],\n",
       "       [<Axes: title={'center': 'age'}>, <Axes: >]], dtype=object)"
      ]
     },
     "execution_count": 4,
     "metadata": {},
     "output_type": "execute_result"
    },
    {
     "data": {
      "image/png": "[encoded data removed]",
      "text/plain": [
       "<Figure size 640x480 with 4 Axes>"
      ]
     },
     "metadata": {},
     "output_type": "display_data"
    }
   ],
   "source": [
    "# distribution of the columns\n",
    "report_df.hist()"
   ]
  },
  {
   "cell_type": "code",
   "execution_count": 5,
   "metadata": {},
   "outputs": [
    {
     "data": {
      "text/plain": [
       "False    1546\n",
       "True      783\n",
       "Name: report, dtype: int64"
      ]
     },
     "execution_count": 5,
     "metadata": {},
     "output_type": "execute_result"
    }
   ],
   "source": [
    "# distribution of the report column\n",
    "# count \"epilep\" in the report column. Among those, exclude the ones with \"no epilep\"\n",
    "report_df['report'].str.lower().str.contains('epilep').value_counts()\n",
    "report_df['report'].str.lower().str.contains('no epilep').value_counts()\n"
   ]
  },
  {
   "cell_type": "code",
   "execution_count": 36,
   "metadata": {},
   "outputs": [
    {
     "name": "stderr",
     "output_type": "stream",
     "text": [
      "/tmp/ipykernel_4147/3961539874.py:11: SettingWithCopyWarning: \n",
      "A value is trying to be set on a copy of a slice from a DataFrame\n",
      "\n",
      "See the caveats in the documentation: https://pandas.pydata.org/pandas-docs/stable/user_guide/indexing.html#returning-a-view-versus-a-copy\n",
      "  report_df['report_embedding'][r] = re\n"
     ]
    }
   ],
   "source": [
    "# convert the report embeddings from string to array\n",
    "import copy\n",
    "for r in range(len(report_df)):\n",
    "    re = copy.copy(report_df['report_embedding'][r])\n",
    "    # convert the string to array\n",
    "    re = re.replace('[', '')\n",
    "    re = re.replace(']', '')\n",
    "    re = re.replace(',', '')\n",
    "    re = re.split()\n",
    "    re = [float(i) for i in re]\n",
    "    report_df['report_embedding'][r] = re\n"
   ]
  },
  {
   "cell_type": "code",
   "execution_count": 37,
   "metadata": {},
   "outputs": [],
   "source": [
    "# new column detecting if the report contains the word \"seizure\" Must filter out \"no seizure\"\n",
    "report_df['seizure'] = report_df['report'].str.contains('seizure', case=False)\n",
    "report_df['seizure'] = report_df['seizure'] & ~report_df['report'].str.contains('no seizure', case=False)\n",
    "\n",
    "# new column detecting if the report contains the word \"epilep\". Must filter out \"no epilep\"\n",
    "report_df['epilep'] = report_df['report'].str.contains('epilep', case=False)\n",
    "report_df['epilep'] = report_df['epilep'] & ~report_df['report'].str.contains('no epilep', case=False)\n",
    "# medication list \n",
    "medication_list = [\"keppra\", \"dilantin\", \"depakote\"]\n",
    "# new column detecting if the report contains one or more medications\n",
    "report_df['medication'] = report_df['report'].str.contains('|'.join(medication_list), case=False)"
   ]
  },
  {
   "cell_type": "code",
   "execution_count": 54,
   "metadata": {},
   "outputs": [
    {
     "name": "stdout",
     "output_type": "stream",
     "text": [
      "balance of classes in train set:  0.5577026301663983\n",
      "balance of classes in test set:  0.575107296137339\n",
      "Accuracy:  0.7703527815468114\n"
     ]
    },
    {
     "name": "stderr",
     "output_type": "stream",
     "text": [
      "/home/tidiane/miniconda3/envs/nail_env/lib/python3.10/site-packages/sklearn/linear_model/_logistic.py:458: ConvergenceWarning: lbfgs failed to converge (status=1):\n",
      "STOP: TOTAL NO. of ITERATIONS REACHED LIMIT.\n",
      "\n",
      "Increase the number of iterations (max_iter) or scale the data as shown in:\n",
      "    https://scikit-learn.org/stable/modules/preprocessing.html\n",
      "Please also refer to the documentation for alternative solver options:\n",
      "    https://scikit-learn.org/stable/modules/linear_model.html#logistic-regression\n",
      "  n_iter_i = _check_optimize_result(\n"
     ]
    }
   ],
   "source": [
    "# decode gender from embeddings using logistic regression\n",
    "import numpy as np\n",
    "from sklearn.linear_model import LogisticRegression\n",
    "from sklearn.model_selection import train_test_split\n",
    "from sklearn.metrics import accuracy_score, balanced_accuracy_score\n",
    "\n",
    "X = np.asarray(report_df[\"report_embedding\"].values.tolist())\n",
    "y = report_df[\"epilep\"].values\n",
    "\n",
    "\n",
    "model = LogisticRegression()\n",
    "X_train, X_test, y_train, y_test = train_test_split(\n",
    "            X, y, test_size=0.2)\n",
    "print(\"balance of classes in train set: \", np.mean(y_train))\n",
    "print(\"balance of classes in test set: \", np.mean(y_test))\n",
    "model.fit(X_train, y_train)\n",
    "y_pred = model.predict(X_test)\n",
    "print(\"Accuracy: \", balanced_accuracy_score(y_test, y_pred))\n",
    "\n"
   ]
  },
  {
   "cell_type": "code",
   "execution_count": 57,
   "metadata": {},
   "outputs": [],
   "source": [
    "def sentence_embedder(sentence):\n",
    "    desc_tokenized = bert_tokenizer(sentence, return_tensors=\"pt\", max_length=512, truncation=True, padding='max_length')\n",
    "    outputs = bert_model(**desc_tokenized)\n",
    "    return outputs.to_tuple()[0][0][0].detach().numpy().tolist()\n"
   ]
  },
  {
   "cell_type": "code",
   "execution_count": 70,
   "metadata": {},
   "outputs": [
    {
     "name": "stdout",
     "output_type": "stream",
     "text": [
      "label balance : 0.9497638471446973\n",
      "Accuracy:  0.51550250710511\n"
     ]
    }
   ],
   "source": [
    "# using distance (cosine similarity) to classify reports\n",
    "\n",
    "\n",
    "\n",
    "\n",
    "\n",
    "field = \"medication\"\n",
    "s0 = \"no medication was prescribed\"\n",
    "s1 = \"medication was prescribed\"\n",
    "\n",
    "field = \"epilep\"\n",
    "s0 = \"no epilep activity was observed\"\n",
    "s1 = \"epilep activity was observed\"\n",
    "\n",
    "field = \"seizure\"\n",
    "s0 = \"no seizure activity was observed\"\n",
    "s1 = \"seizure activity was observed\"\n",
    "\n",
    "field = \"pathological\"\n",
    "s0 = \"Normal EEG\"\n",
    "s1 = \"Abnormal EEG\"\n",
    "\n",
    "\n",
    "\n",
    "s0_embed = sentence_embedder(s0)\n",
    "s1_embed = sentence_embedder(s1)\n",
    "\n",
    "from scipy.spatial import distance\n",
    "# classify each report as either s0 or s1\n",
    "distance_classifier = []\n",
    "for r in report_df['report_embedding']:\n",
    "    d0 = distance.cosine(r, s0_embed)\n",
    "    d1 = distance.cosine(r, s1_embed)\n",
    "    if d0 < d1:\n",
    "        distance_classifier.append(0)\n",
    "    else:\n",
    "        distance_classifier.append(1)\n",
    "\n",
    "print(\"label balance :\", np.mean(distance_classifier))\n",
    "\n",
    "# compare to the actual labels\n",
    "print(\"Accuracy: \", balanced_accuracy_score(report_df[field], distance_classifier))\n"
   ]
  },
  {
   "cell_type": "code",
   "execution_count": 64,
   "metadata": {},
   "outputs": [
    {
     "data": {
      "text/plain": [
       "0.0"
      ]
     },
     "execution_count": 64,
     "metadata": {},
     "output_type": "execute_result"
    }
   ],
   "source": []
  },
  {
   "cell_type": "code",
   "execution_count": 56,
   "metadata": {},
   "outputs": [
    {
     "name": "stdout",
     "output_type": "stream",
     "text": [
      "MSE:  268.11795243202226\n",
      "MAE:  13.087494605749962\n"
     ]
    },
    {
     "name": "stderr",
     "output_type": "stream",
     "text": [
      "/home/tidiane/miniconda3/envs/nail_env/lib/python3.10/site-packages/sklearn/neural_network/_multilayer_perceptron.py:679: ConvergenceWarning: Stochastic Optimizer: Maximum iterations (500) reached and the optimization hasn't converged yet.\n",
      "  warnings.warn(\n"
     ]
    }
   ],
   "source": [
    "# decode age from embeddings using linear regression\n",
    "from sklearn.linear_model import LinearRegression\n",
    "from sklearn.model_selection import train_test_split\n",
    "from sklearn.metrics import mean_squared_error\n",
    "\n",
    "#model = LinearRegression()\n",
    "\n",
    "# using a mlp\n",
    "from sklearn.neural_network import MLPRegressor\n",
    "\n",
    "model = MLPRegressor(random_state=1, max_iter=500).fit(X_train, y_train)\n",
    "\n",
    "\n",
    "# using xgboost\n",
    "import xgboost as xgb\n",
    "#model = xgb.XGBRegressor(objective ='reg:squarederror', colsample_bytree = 0.3, learning_rate = 0.1,\n",
    "#                max_depth = 5, alpha = 10, n_estimators = 10)\n",
    "\n",
    "y = report_df[\"age\"].values\n",
    "\n",
    "\n",
    "X_train, X_test, y_train, y_test = train_test_split(\n",
    "            X, y, test_size=0.33, random_state=42)\n",
    "model.fit(X_train, y_train)\n",
    "y_pred = model.predict(X_test)\n",
    "print(\"MSE: \", mean_squared_error(y_test, y_pred))\n",
    "# average age error\n",
    "print(\"MAE: \", np.mean(np.abs(y_test - y_pred)))"
   ]
  },
  {
   "cell_type": "code",
   "execution_count": 25,
   "metadata": {},
   "outputs": [
    {
     "data": {
      "image/png": "[encoded data removed]",
      "text/plain": [
       "<Figure size 640x480 with 1 Axes>"
      ]
     },
     "metadata": {},
     "output_type": "display_data"
    }
   ],
   "source": [
    "# plot predicted age vs. true age\n",
    "import matplotlib.pyplot as plt\n",
    "plt.scatter(y_test, y_pred)\n",
    "plt.xlabel(\"True Age\")\n",
    "plt.ylabel(\"Predicted Age\")\n",
    "# set xmin and xmax to the same value to make the plot square\n",
    "plt.xlim(0, 100)\n",
    "plt.ylim(0, 100)\n",
    "plt.show()"
   ]
  },
  {
   "cell_type": "code",
   "execution_count": null,
   "metadata": {},
   "outputs": [],
   "source": []
  }
 ],
 "metadata": {
  "kernelspec": {
   "display_name": "Python 3.10.6 (conda)",
   "language": "python",
   "name": "python3"
  },
  "language_info": {
   "codemirror_mode": {
    "name": "ipython",
    "version": 3
   },
   "file_extension": ".py",
   "mimetype": "text/x-python",
   "name": "python",
   "nbconvert_exporter": "python",
   "pygments_lexer": "ipython3",
   "version": "3.10.8"
  },
  "orig_nbformat": 4,
  "vscode": {
   "interpreter": {
    "hash": "097b7033baff6ef61c19d5e3b26d00f2edd9fddb86c25af544d86fb0636b8d9f"
   }
  }
 },
 "nbformat": 4,
 "nbformat_minor": 2
}
