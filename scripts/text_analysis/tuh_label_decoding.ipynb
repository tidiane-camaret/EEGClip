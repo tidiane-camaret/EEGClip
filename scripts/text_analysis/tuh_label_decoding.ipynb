{
 "cells": [
  {
   "cell_type": "code",
   "execution_count": 2,
   "metadata": {},
   "outputs": [],
   "source": [
    "from braindecode.datasets import TUHAbnormal\n",
    "import pandas as pd\n",
    "import numpy as np\n",
    "import torch\n",
    "from transformers import AutoTokenizer, AutoModel\n",
    "from InstructorEmbedding import INSTRUCTOR"
   ]
  },
  {
   "cell_type": "code",
   "execution_count": 42,
   "metadata": {},
   "outputs": [
    {
     "name": "stdout",
     "output_type": "stream",
     "text": [
      "load INSTRUCTOR_Transformer\n",
      "max_seq_length  512\n"
     ]
    }
   ],
   "source": [
    "\n",
    "\"\"\"\n",
    "bert_tokenizer = AutoTokenizer.from_pretrained(\"bert-base-uncased\")\n",
    "bert_model = AutoModel.from_pretrained(\"bert-base-uncased\")\n",
    "\"\"\"\n",
    "instructor_model = INSTRUCTOR('hkunlp/instructor-xl')\n",
    "\n",
    "def sentence_embedder(sentence):\n",
    "    \"\"\"\n",
    "    desc_tokenized = bert_tokenizer(sentence, return_tensors=\"pt\", max_length=512, truncation=True, padding='max_length')\n",
    "    outputs = bert_model(**desc_tokenized)\n",
    "    emb = outputs.to_tuple()[0][0][0].detach().numpy().tolist()\n",
    "    \"\"\"\n",
    "    instruction = \"Represent the medical report: \"\n",
    "    emb = instructor_model.encode([[instruction,sentence]])[0]\n",
    "    \n",
    "    return emb "
   ]
  },
  {
   "cell_type": "code",
   "execution_count": 45,
   "metadata": {},
   "outputs": [
    {
     "data": {
      "text/plain": [
       "array([ 1.87360905e-02, -4.54830341e-02,  1.29343178e-02, -3.79374698e-02,\n",
       "       -1.38692763e-02, -6.78905845e-02, -8.79472122e-02, -2.91303708e-03,\n",
       "       -1.44626051e-02, -4.63861332e-04,  2.70844568e-02,  5.09581752e-02,\n",
       "        2.76043057e-03, -1.41819432e-01,  2.64223735e-03, -1.46821458e-02,\n",
       "       -2.91021029e-03,  1.34721911e-02, -3.13193202e-02,  3.76948528e-03,\n",
       "       -5.33729233e-03,  3.42143141e-02, -5.58034182e-02,  5.89261996e-03,\n",
       "       -1.27317104e-02, -6.87238201e-02,  9.22455511e-04,  2.40235385e-02,\n",
       "       -4.14583795e-02,  3.35983709e-02,  7.02741072e-02, -1.44243492e-02,\n",
       "        4.05377522e-02, -1.11662624e-02,  5.75098805e-02,  2.21283082e-02,\n",
       "        6.12031482e-02, -4.70266119e-02,  9.34479292e-03, -1.52596496e-02,\n",
       "       -4.79238108e-02,  6.51429640e-03,  4.90676723e-02,  2.54695322e-02,\n",
       "        5.22362106e-02,  2.73751430e-02,  7.28525966e-02,  1.46929258e-02,\n",
       "        9.57099441e-03, -2.36807764e-02, -2.17078999e-02,  6.40240870e-03,\n",
       "        7.51929404e-03, -5.31270057e-02,  7.45398505e-03, -6.36202991e-02,\n",
       "       -3.60527001e-02,  3.92404757e-02,  8.02106969e-03,  1.34224603e-02,\n",
       "       -3.33382958e-03,  2.27493625e-02,  7.64130196e-03, -2.98388284e-02,\n",
       "        4.80025932e-02,  4.05177586e-02,  6.83772936e-02,  2.99424604e-02,\n",
       "        1.43939806e-02, -7.36068515e-03, -2.14146115e-02,  8.69498961e-03,\n",
       "       -5.82076190e-03,  8.74238089e-03, -8.96818340e-02,  3.00020576e-02,\n",
       "       -2.75913086e-02,  1.59593001e-02,  3.74850817e-02,  1.84334628e-02,\n",
       "       -2.19648145e-02, -9.69464332e-03, -3.54736261e-02, -3.42236944e-02,\n",
       "       -2.65680850e-02,  3.70087065e-02, -2.82934606e-02, -2.96626370e-02,\n",
       "        9.20416415e-02,  4.29302901e-02,  2.73919106e-02, -6.02380037e-02,\n",
       "        1.20344106e-02, -1.13557074e-02, -5.06703788e-03, -2.26220419e-03,\n",
       "        3.82602476e-02, -3.17327045e-02,  4.54008281e-02,  2.51715817e-03,\n",
       "       -1.65542401e-02,  3.85257378e-02, -2.93587297e-02, -1.08189099e-01,\n",
       "        8.17255862e-03,  3.82396602e-03,  5.61840422e-02,  7.27476105e-02,\n",
       "       -1.13529218e-02,  3.22106928e-02,  3.50284614e-02,  4.81313355e-02,\n",
       "        1.41694462e-02,  8.52196477e-03,  3.60168740e-02, -8.67576431e-03,\n",
       "        4.16868329e-02,  7.93297309e-03, -3.61139700e-02,  4.62302975e-02,\n",
       "        1.50423292e-02,  4.31798473e-02,  8.04844592e-03,  4.57821712e-02,\n",
       "       -1.96761657e-02,  1.06650358e-02,  7.47383162e-02,  2.49839984e-02,\n",
       "       -1.94382500e-02, -4.52262908e-02,  6.91616833e-02, -2.48073656e-02,\n",
       "       -1.97605714e-02,  4.80090678e-02,  6.74130693e-02, -3.02988011e-02,\n",
       "        1.48954196e-02, -1.65183917e-02,  1.20591884e-02, -9.08620507e-02,\n",
       "        7.30605749e-03, -5.04262187e-02,  4.02377285e-02, -9.71199758e-03,\n",
       "        3.97286490e-02,  5.78003004e-02, -2.36022007e-02,  2.01856866e-02,\n",
       "        1.70016363e-02, -6.85227755e-03, -4.64947820e-02, -1.28028486e-02,\n",
       "       -1.45958522e-02,  7.05759600e-03, -2.90108677e-02,  2.19456945e-03,\n",
       "       -2.55404338e-02, -2.10353062e-02,  5.37625439e-02, -3.85542512e-02,\n",
       "        8.85394365e-02, -4.27661128e-02, -4.94669117e-02,  5.32686301e-02,\n",
       "       -7.78298005e-02,  9.48848203e-03, -1.13602923e-02, -2.16045231e-02,\n",
       "       -1.96724832e-02,  3.66976708e-02,  3.69781479e-02, -4.17003175e-03,\n",
       "        7.45779974e-03, -3.36006619e-02,  3.05949915e-02, -4.75179553e-02,\n",
       "       -2.97506098e-02, -7.94705190e-03,  7.01496154e-02,  6.56579211e-02,\n",
       "       -3.28933597e-02,  5.63434791e-03,  2.85854600e-02,  3.45308483e-02,\n",
       "       -1.25705451e-02, -3.71025354e-02, -6.33417163e-03, -5.35811670e-03,\n",
       "       -9.52310488e-03,  2.86739562e-02,  2.68732868e-02, -6.22890927e-02,\n",
       "        5.53193279e-02,  3.86934951e-02, -1.70071814e-02, -4.61325049e-02,\n",
       "        9.10817459e-03,  1.07666366e-01,  4.35702205e-02,  8.82980414e-03,\n",
       "       -3.43712629e-03, -3.01732346e-02,  5.57316393e-02,  3.59933786e-02,\n",
       "       -1.52782733e-02,  6.82414770e-02,  4.99806218e-02,  1.80571713e-02,\n",
       "        2.42963769e-02,  1.85997896e-02, -4.19719554e-02,  1.22536311e-03,\n",
       "        2.29769517e-02, -3.32769491e-02, -2.71886941e-02,  5.54603301e-02,\n",
       "        1.62525699e-02, -2.73757912e-02, -3.73105705e-02,  7.03693777e-02,\n",
       "       -5.67841530e-03, -2.45784093e-02, -9.46333676e-05,  3.38922851e-02,\n",
       "        4.03502993e-02, -4.06421274e-02, -6.78886995e-02, -2.66507436e-02,\n",
       "        4.54134122e-02,  8.12107790e-03,  1.64526515e-02,  2.43454725e-02,\n",
       "        5.28373718e-02,  2.15791469e-03, -2.67468728e-02, -5.67307882e-02,\n",
       "        3.64942327e-02, -1.98011808e-02, -5.92130311e-02, -4.21527885e-02,\n",
       "        2.72658505e-02, -5.91236204e-02,  1.71877723e-02, -1.41875045e-02,\n",
       "        5.32539152e-02,  2.82380152e-02, -4.30708602e-02,  3.98906954e-02,\n",
       "        1.94693916e-03,  6.70540053e-03, -1.61438305e-02, -4.49240468e-02,\n",
       "        9.06692445e-03,  3.65350880e-02, -1.54410740e-02, -1.12406490e-02,\n",
       "       -6.04586489e-03,  1.47231529e-02, -3.47640477e-02, -4.94314311e-03,\n",
       "       -1.87852494e-02, -1.31480303e-02, -1.87950097e-02, -9.16468538e-03,\n",
       "       -2.06960901e-03, -7.72584137e-03,  3.86220962e-02, -1.85952727e-02,\n",
       "        2.53340472e-02, -1.36360889e-02, -5.18807098e-02,  6.73004389e-02,\n",
       "        3.04453876e-02,  1.19051086e-02,  3.86210978e-02,  1.91581566e-02,\n",
       "       -1.54331215e-02, -2.38901228e-02, -2.71655116e-02,  4.83268686e-02,\n",
       "        4.00782414e-02, -3.47296000e-02, -1.12644983e-02,  2.85942629e-02,\n",
       "       -3.53724770e-02,  6.67978916e-03,  5.35566034e-03, -6.28516357e-03,\n",
       "        1.67603698e-02, -7.09645003e-02,  1.37901036e-02,  3.55150141e-02,\n",
       "       -7.25085139e-02,  3.64589579e-02, -3.40706930e-02, -9.83976945e-03,\n",
       "       -1.23557420e-02,  4.05792072e-02,  4.14681062e-02,  3.25878076e-02,\n",
       "       -5.16777150e-02, -3.09232455e-02,  3.31289768e-02, -1.16199879e-02,\n",
       "       -4.52857055e-02,  1.89895667e-02, -5.74817210e-02,  1.21370479e-02,\n",
       "       -2.67186910e-02, -2.20580231e-02,  1.02451608e-01,  2.24184114e-02,\n",
       "        5.05142808e-02, -3.21502686e-02, -3.90851088e-02, -2.62159854e-02,\n",
       "        2.93293595e-02,  5.08930460e-02,  5.90419397e-03, -2.71313116e-02,\n",
       "        4.90849204e-02, -2.65129376e-02, -1.04920520e-02, -6.72173277e-02,\n",
       "       -4.66919057e-02, -2.82939747e-02, -8.85117892e-03,  1.26382839e-02,\n",
       "        4.25119624e-02, -1.01997621e-01, -6.15104428e-03, -3.96142481e-03,\n",
       "        1.34563271e-03,  1.30100567e-02,  2.78599095e-02,  2.56927088e-02,\n",
       "       -6.14652503e-03, -8.38544592e-03,  1.00728467e-01, -3.03497929e-02,\n",
       "       -8.03217664e-02, -4.74783517e-02, -6.25847280e-03,  2.62458604e-02,\n",
       "        2.51595657e-02,  1.07017988e-02,  6.35418221e-02,  1.77389346e-02,\n",
       "       -4.24930304e-02, -4.82745320e-02,  7.50270067e-03,  1.13532729e-02,\n",
       "       -4.50710207e-02, -5.01597160e-03,  4.58820947e-02,  1.59572605e-02,\n",
       "        2.53138524e-02, -7.30327377e-03, -5.23959193e-03,  3.39313895e-02,\n",
       "        3.84283923e-02,  5.25783375e-02,  8.80525261e-03, -5.83862774e-02,\n",
       "        3.49400262e-03,  1.00478763e-02, -3.94630171e-02, -6.35483712e-02,\n",
       "       -1.01873018e-02,  6.14063069e-03,  3.89425904e-02, -2.28031427e-02,\n",
       "       -2.89822952e-03,  1.75017994e-02, -5.01382630e-03, -1.70118231e-02,\n",
       "       -2.34672800e-02, -3.30699570e-02,  1.75435655e-02, -3.30910496e-02,\n",
       "       -8.58710799e-03,  1.96848419e-02,  8.27372260e-03,  5.94644621e-02,\n",
       "        6.54076859e-02, -3.26184481e-02,  9.42653045e-03, -1.88011397e-02,\n",
       "        9.34187556e-04,  3.54992561e-02,  1.83809623e-02,  5.02568623e-03,\n",
       "        4.15444709e-02, -1.56861395e-02, -2.13244813e-03, -5.64849330e-03,\n",
       "       -4.07270789e-02, -2.89996136e-02, -8.11622944e-03,  3.93179208e-02,\n",
       "        5.97627573e-02, -6.71959519e-02,  1.36063891e-02, -7.58844893e-03,\n",
       "        4.45479602e-02,  3.05462293e-02,  2.95921471e-02, -5.69043914e-03,\n",
       "        8.03134684e-03,  5.06007532e-03, -6.82232389e-03, -5.60511723e-02,\n",
       "       -3.85988243e-02,  5.41480444e-03,  3.62307802e-02,  3.09187616e-03,\n",
       "       -1.92472730e-02, -1.77799556e-02, -2.20345762e-02,  4.64905277e-02,\n",
       "        2.08488144e-02, -7.02617574e-04, -2.49943957e-02,  2.16932204e-02,\n",
       "        3.07036610e-03, -7.92892091e-03,  1.20539973e-02,  2.92837620e-03,\n",
       "       -3.91326584e-02,  7.96144605e-02,  2.77782027e-02,  3.73995714e-02,\n",
       "        1.39485355e-02,  9.94819589e-03, -2.39046495e-02,  3.97360586e-02,\n",
       "       -6.60460116e-03, -2.08965279e-02, -3.12868878e-02,  4.83219065e-02,\n",
       "        1.75415166e-02, -3.45062129e-02,  3.67396437e-02,  8.70959088e-02,\n",
       "       -5.68268122e-03, -4.64441814e-03, -2.02987809e-02, -2.39594504e-02,\n",
       "        3.36938091e-02,  4.26314212e-02,  5.78001747e-03,  4.35421728e-02,\n",
       "        8.74712784e-03,  1.45175634e-02,  1.36236921e-02,  7.38425404e-02,\n",
       "        4.23247479e-02, -1.53476465e-02, -2.74327863e-02, -1.10529540e-02,\n",
       "       -1.06562581e-02, -3.72226909e-02, -4.04940210e-02, -2.10868064e-02,\n",
       "        2.82849781e-02,  1.55210346e-02, -2.57556867e-02,  7.84468725e-02,\n",
       "        3.70313716e-03,  7.29226246e-02, -2.05099154e-02,  3.41462381e-02,\n",
       "        2.14852486e-02,  1.25996480e-02,  5.08594327e-03, -3.36572491e-02,\n",
       "        3.96455592e-03,  3.93888876e-02, -2.28708070e-02, -3.44244801e-02,\n",
       "        2.78309314e-03, -3.95587236e-02,  5.42002544e-02, -4.28229645e-02,\n",
       "        5.10471538e-02,  4.62451503e-02, -2.85105687e-02,  1.62853878e-02,\n",
       "        2.30784081e-02,  7.02095916e-03,  1.74363405e-02,  4.80698561e-03,\n",
       "        4.57304018e-03, -1.27667561e-03,  5.75429909e-02, -2.87837759e-02,\n",
       "       -6.75418228e-02, -7.85159022e-02,  2.50892751e-02, -4.52845916e-02,\n",
       "       -1.41693307e-02, -5.18534519e-03,  1.41500821e-02,  3.50517631e-02,\n",
       "       -4.63055000e-02, -1.05231879e-02, -4.46221866e-02, -3.73658799e-02,\n",
       "        2.35640723e-03,  6.15478158e-02,  8.04875046e-02, -1.48154004e-02,\n",
       "       -3.77721116e-02,  5.74545041e-02, -2.27937587e-02,  3.41222137e-02,\n",
       "       -7.55685102e-03,  1.23884240e-02,  1.95468515e-02, -3.60655971e-02,\n",
       "       -5.93258515e-02, -1.00023439e-02,  3.85126472e-02, -2.84648780e-02,\n",
       "       -6.60950877e-03, -1.79213863e-02,  6.42225370e-02, -2.66050585e-02,\n",
       "       -7.28717372e-02,  1.62241496e-02,  1.00650359e-02, -2.63491366e-02,\n",
       "       -1.27838496e-02, -1.53132128e-02,  1.61753558e-02,  1.15431128e-02,\n",
       "       -2.90399995e-02,  2.41180379e-02, -7.98051879e-02, -3.66013572e-02,\n",
       "       -8.03580135e-02,  2.01908723e-02,  1.13235274e-02,  4.23903428e-02,\n",
       "       -3.27316821e-02, -1.23336753e-02, -4.46676239e-02, -2.37728190e-02,\n",
       "       -1.88682936e-02,  2.01510359e-02,  4.05452289e-02, -5.15371710e-02,\n",
       "       -7.45600015e-02,  5.13856150e-02, -6.00832608e-03,  1.22195510e-02,\n",
       "        2.12214347e-02, -3.38861272e-02, -2.02258341e-02,  1.12397773e-02,\n",
       "       -3.06284875e-02, -1.13774715e-02, -1.72350965e-02, -1.16771623e-03,\n",
       "       -1.05988421e-02, -2.30464153e-02,  6.20811097e-02,  4.81148716e-03,\n",
       "       -4.69930796e-03, -1.07073793e-02,  6.69470951e-02,  4.30699624e-02,\n",
       "        1.07292850e-02, -2.82887742e-02,  4.54635732e-02,  2.16318425e-02,\n",
       "        2.65891794e-02, -1.09499763e-03,  1.41428793e-02,  1.90276629e-03,\n",
       "        6.20999150e-02, -6.88487291e-02, -2.34655291e-03, -1.72057319e-02,\n",
       "       -2.81234570e-02,  4.45897254e-04, -2.30490323e-02,  6.51391000e-02,\n",
       "       -5.22384234e-02,  1.47938859e-02,  7.70759489e-03, -2.08532326e-02,\n",
       "        8.24412983e-03,  7.77310645e-03, -4.93613519e-02,  7.15249106e-02,\n",
       "        3.64895798e-02, -6.02508150e-02,  3.75937903e-03, -5.76609112e-02,\n",
       "        2.76851282e-02,  2.19779182e-03, -9.30886902e-03,  1.63009763e-02,\n",
       "        4.86624800e-02, -5.31725539e-03, -4.22159210e-02,  1.49523783e-02,\n",
       "        4.08525579e-03, -1.47275990e-02,  3.08489446e-02,  3.19043472e-02,\n",
       "        4.64728661e-02,  1.66834192e-03, -1.07310107e-02, -5.02270460e-03,\n",
       "       -1.07822288e-02,  4.09718528e-02,  1.73507128e-02,  4.10739817e-02,\n",
       "        1.43676074e-02,  1.93122483e-03, -4.10144068e-02,  1.92224793e-02,\n",
       "        6.47925735e-02,  2.48541720e-02, -5.21667264e-02, -1.32510802e-02,\n",
       "       -4.79412191e-02, -1.54372118e-02, -6.28121123e-02, -2.51662992e-02,\n",
       "        2.82364413e-02, -1.28898649e-02, -2.11472232e-02, -7.26633065e-04,\n",
       "       -4.14538346e-02,  1.92349181e-02,  4.16785888e-02, -5.29505685e-03,\n",
       "        7.22632743e-04, -8.09144974e-03, -3.08107212e-02,  6.07188120e-02,\n",
       "       -3.61493938e-02, -6.87258169e-02,  1.69247724e-02,  1.62470452e-02,\n",
       "       -1.30771156e-02,  4.23014946e-02, -5.24586663e-02, -4.33924757e-02,\n",
       "       -6.23141974e-02, -3.21889371e-02,  9.00133979e-03, -3.84769030e-02,\n",
       "        9.48262960e-03,  9.35043767e-02,  1.97678357e-02, -8.32009166e-02,\n",
       "       -6.07683063e-02,  7.77736232e-02, -4.26308662e-02, -7.02311471e-02,\n",
       "        8.79787840e-03,  3.51937786e-02,  1.53456395e-02, -8.39356158e-04,\n",
       "        5.68734948e-03, -3.16725969e-02,  9.92065016e-03,  1.57517139e-02,\n",
       "        2.67917197e-02,  3.18742432e-02, -5.95962221e-04,  5.73285064e-03,\n",
       "       -1.58522446e-02, -4.78740595e-03, -2.90122963e-02, -2.74315793e-02,\n",
       "        4.47557168e-03, -1.88307259e-02,  5.59969572e-03, -7.16350041e-03,\n",
       "        9.48186964e-03, -2.03085188e-02, -7.27594784e-03,  4.22565863e-02,\n",
       "       -2.04029866e-03,  2.10361579e-03,  1.02178091e-02, -3.18786465e-02,\n",
       "       -9.97184124e-03, -3.19458805e-02, -2.41230871e-03,  1.50840655e-02,\n",
       "       -9.08595417e-03,  6.78161383e-02, -1.22070396e-02, -3.04927360e-02,\n",
       "       -1.24922190e-02, -1.14918808e-02,  7.66834021e-02, -3.96520495e-02,\n",
       "       -1.01678157e-02, -3.42548601e-02, -3.61775123e-02, -4.23470605e-03,\n",
       "        3.96974236e-02, -4.66686534e-03, -5.38259968e-02, -2.83966511e-02,\n",
       "       -2.53997408e-02, -3.86495478e-02,  1.57324076e-02,  4.10889983e-02,\n",
       "       -9.67958346e-02, -1.08829020e-02,  4.45877202e-02,  7.77375698e-03,\n",
       "        2.04619002e-02,  8.87574442e-03, -3.36601771e-02,  4.42293286e-02,\n",
       "       -1.60334483e-02,  5.00024389e-03,  2.32002754e-02, -2.65486725e-02,\n",
       "       -1.10995565e-02, -1.75011158e-02,  7.30397403e-02, -2.58709081e-02,\n",
       "        3.57540846e-02,  5.70643414e-03, -2.31750850e-02, -2.28657033e-02,\n",
       "       -8.86757579e-03,  3.56118679e-02,  2.40221638e-02,  5.31816371e-02,\n",
       "        6.44627400e-03,  4.54471409e-02,  6.61963671e-02,  5.66041581e-02,\n",
       "        1.34396413e-02, -7.70218298e-02,  3.47257592e-03,  3.01752165e-02,\n",
       "       -4.21323702e-02, -6.84852600e-02,  1.14980182e-02,  1.30922012e-02,\n",
       "       -4.56645805e-03,  2.36346256e-02,  3.66719887e-02, -1.83456857e-02,\n",
       "        7.64269847e-03,  2.99091302e-02,  1.16477301e-02,  7.25654559e-03,\n",
       "       -3.29284440e-03,  4.67808470e-02, -2.07826048e-02,  2.80468352e-03,\n",
       "       -2.26018336e-02, -7.10906908e-02,  1.24627016e-02,  4.04174905e-03],\n",
       "      dtype=float32)"
      ]
     },
     "execution_count": 45,
     "metadata": {},
     "output_type": "execute_result"
    }
   ],
   "source": [
    "sentence = \"REASON FOR STUDY:  Seizures. CLINICAL HISTORY:  A 34-year-old woman with a history of seizures as well as kidney disease with  last one 2 months. MEDICATIONS:  Lipitor, Lamictal. INTRODUCTION:  A routine EEG was performed using the standard 10-20 electrode placement system with the addition of anterior temporal and single lead EKG electrode.  The patient was recorded during wakefulness and drowsiness with activating procedures including hyperventilation and photic stimulation. TECHNICAL DIFFICULTIES:  None. DESCRIPTION OF THE RECORD:  The record opens to a well-defined posterior dominant rhythm that reaches 9 Hz, which is reactive to eye opening.  There is normal frontocentral beta.  The patient was recorded during wakefulness and stage 1 sleep.  Activating procedures including  hyperventilation and photic stimulation produced no abnormal discharges. ABNORMAL DISCHARGES:  None. HEART RATE:  60. IMPRESSION:  Normal awake and sleep EEG. CLINICAL CORRELATION:  This is a normal awake and sleep EEG.  No seizures or epileptiform discharges were seen.\"\n",
    "\n",
    "sentence_embedder(sentence)"
   ]
  },
  {
   "cell_type": "code",
   "execution_count": 12,
   "metadata": {},
   "outputs": [],
   "source": [
    "report_embeddings = []\n",
    "for r in report_df['report']:\n",
    "        emb = sentence_embedder(r)\n",
    "        report_embeddings.append(emb)\n",
    "\n",
    "report_embeddings = np.array(report_embeddings)\n",
    "report_df['embs_instructor'] = report_embeddings.tolist()\n"
   ]
  },
  {
   "cell_type": "code",
   "execution_count": 23,
   "metadata": {},
   "outputs": [],
   "source": [
    "report_df.to_csv(\"report_df.csv\")"
   ]
  },
  {
   "cell_type": "code",
   "execution_count": null,
   "metadata": {},
   "outputs": [],
   "source": [
    "### GET DATA FOR EACH RECORDING\n",
    "\"\"\"\n",
    "TUHAbnormal_PATH = '/home/jovyan/mne_data/TUH/tuh_eeg_abnormal/v2.0.0'\n",
    "N_JOBS = 8  # specify the number of jobs for loading and windowing\n",
    "\n",
    "\n",
    "tuh = TUHAbnormal(\n",
    "    path=TUHAbnormal_PATH,\n",
    "    recording_ids=None,\n",
    "    target_name=('report','pathological','gender','age'),\n",
    "    preload=False,\n",
    "    add_physician_reports=True,\n",
    "    n_jobs=N_JOBS, \n",
    ")\n",
    "\n",
    "tuh_subjects = tuh.split('subject')\n",
    "key_list = list(tuh_subjects.keys())\n",
    "report_df = pd.DataFrame(columns=('report', 'pathological', 'gender', 'age'))\n",
    "for i in range(len(key_list)):\n",
    "   report_df.loc[i] = tuh_subjects[key_list[i]][0][1]\n",
    "\n",
    "report_df.to_csv(\"report_df.csv\")\n",
    "\"\"\"\n",
    "### GET EMBEDDINGS FOR THE REPORT COLUMN\n",
    "\"\"\"\n",
    "report_df = pd.read_csv(\"report_df.csv\")\n",
    "report_embeddings = []\n",
    "for r in report_df['report']:\n",
    "        emb = sentence_embedder(r)\n",
    "        report_embeddings.append(emb)\n",
    "\n",
    "report_embeddings = np.array(report_embeddings)\n",
    "report_df['embs_bert'] = report_embeddings.tolist()\n",
    "\n",
    "report_df.to_csv(\"report_df.csv\")\n",
    "\"\"\""
   ]
  },
  {
   "cell_type": "code",
   "execution_count": 2,
   "metadata": {},
   "outputs": [],
   "source": [
    "embs_name = \"embs_instructor\""
   ]
  },
  {
   "cell_type": "code",
   "execution_count": 5,
   "metadata": {},
   "outputs": [
    {
     "name": "stderr",
     "output_type": "stream",
     "text": [
      "/tmp/ipykernel_4970/2805716872.py:13: SettingWithCopyWarning: \n",
      "A value is trying to be set on a copy of a slice from a DataFrame\n",
      "\n",
      "See the caveats in the documentation: https://pandas.pydata.org/pandas-docs/stable/user_guide/indexing.html#returning-a-view-versus-a-copy\n",
      "  report_df[embs_name][r] = re\n"
     ]
    }
   ],
   "source": [
    "report_df = pd.read_csv(\"report_df.csv\")\n",
    "\n",
    "# convert the report embeddings from string to array\n",
    "import copy\n",
    "for r in range(len(report_df)):\n",
    "    re = copy.copy(report_df[embs_name][r])\n",
    "    # convert the string to array\n",
    "    re = re.replace('[', '')\n",
    "    re = re.replace(']', '')\n",
    "    re = re.replace(',', '')\n",
    "    re = re.split()\n",
    "    re = [float(i) for i in re]\n",
    "    report_df[embs_name][r] = re\n"
   ]
  },
  {
   "cell_type": "code",
   "execution_count": null,
   "metadata": {},
   "outputs": [
    {
     "data": {
      "text/plain": [
       "report\n",
       "False    1546\n",
       "True      783\n",
       "Name: count, dtype: int64"
      ]
     },
     "execution_count": 6,
     "metadata": {},
     "output_type": "execute_result"
    }
   ],
   "source": [
    "# distribution of the report column\n",
    "# count \"epilep\" in the report column. Among those, exclude the ones with \"no epilep\"\n",
    "report_df['report'].str.lower().str.contains('epilep').value_counts()\n",
    "report_df['report'].str.lower().str.contains('no epilep').value_counts()\n"
   ]
  },
  {
   "cell_type": "code",
   "execution_count": 6,
   "metadata": {},
   "outputs": [],
   "source": [
    "# new column detecting if the report contains the word \"seizure\" Must filter out \"no seizure\"\n",
    "report_df['seizure'] = report_df['report'].str.contains('seizure', case=False)\n",
    "report_df['seizure'] = report_df['seizure'] & ~report_df['report'].str.contains('no seizure', case=False)\n",
    "\n",
    "# new column detecting if the report contains the word \"epilep\". Must filter out \"no epilep\"\n",
    "report_df['epilep'] = report_df['report'].str.contains('epilep', case=False)\n",
    "report_df['epilep'] = report_df['epilep'] & ~report_df['report'].str.contains('no epilep', case=False)\n",
    "# medication list \n",
    "medication_list = [\"keppra\", \"dilantin\", \"depakote\"]\n",
    "# new column detecting if the report contains one or more medications\n",
    "report_df['medication'] = report_df['report'].str.contains('|'.join(medication_list), case=False)\n",
    "\n",
    "# convert the 'gender' column to 0 and 1\n",
    "report_df['gender'].replace({'M': 0, 'F': 1}, inplace=True)\n",
    "\n",
    "# new column under_50 detecting if the age is under 50\n",
    "report_df['under_50'] = report_df['age'] < 50"
   ]
  },
  {
   "cell_type": "code",
   "execution_count": 13,
   "metadata": {},
   "outputs": [
    {
     "name": "stdout",
     "output_type": "stream",
     "text": [
      "balance of classes in train set:  0.46484165324745036\n",
      "balance of classes in test set:  0.45493562231759654\n",
      "Accuracy:  0.763612390432328\n"
     ]
    }
   ],
   "source": [
    "# decode category from embeddings using logistic regression\n",
    "import numpy as np\n",
    "from sklearn.linear_model import LogisticRegression\n",
    "from sklearn.model_selection import train_test_split\n",
    "from sklearn.metrics import accuracy_score, balanced_accuracy_score\n",
    "\n",
    "X = np.asarray(report_df[embs_name].values.tolist())\n",
    "y = report_df[\"seizure\"].values\n",
    "\n",
    "\n",
    "model = LogisticRegression()\n",
    "X_train, X_test, y_train, y_test = train_test_split(\n",
    "            X, y, test_size=0.2)\n",
    "print(\"balance of classes in train set: \", np.mean(y_train))\n",
    "print(\"balance of classes in test set: \", np.mean(y_test))\n",
    "model.fit(X_train, y_train)\n",
    "y_pred = model.predict(X_test)\n",
    "print(\"Accuracy: \", balanced_accuracy_score(y_test, y_pred))\n",
    "\n"
   ]
  },
  {
   "cell_type": "code",
   "execution_count": null,
   "metadata": {},
   "outputs": [],
   "source": [
    "report_df[\"embs_instructor\"][0]"
   ]
  },
  {
   "cell_type": "code",
   "execution_count": null,
   "metadata": {},
   "outputs": [],
   "source": [
    "\n"
   ]
  },
  {
   "cell_type": "code",
   "execution_count": 84,
   "metadata": {},
   "outputs": [],
   "source": [
    "# using distance (cosine similarity) to classify reports\n",
    "\n",
    "\n",
    "\n",
    "\n",
    "\"\"\"\n",
    "\n",
    "\n",
    "\n",
    "\n",
    "\n",
    "\"\"\"\n",
    "field = \"pathological\"\n",
    "s0 = \"This is a normal recording. \"\n",
    "s1 = \"This is an abnormal recording. \"\n",
    "\n",
    "field = \"medication\"\n",
    "s0 = \"no anti-epileptic drugs were prescribed to the patient\" #\"The patient is unlikely to have been prescribed anti-epileptic drugs (anticonvulsants, keppra, dilantin or depakote), used to control seizures\"  #\"keppra\", \"dilantin\", \"depakote\"\n",
    "s1 = \"anti-epileptic drugs medication was prescribed to the patient\" #\"The patient is likely to have been prescribed anti-epileptic drugs (anticonvulsants, keppra, dilantin or depakote), used to control seizures\"  #\"keppra, dilantin or depakote\" \n",
    "\n",
    "\n",
    "field = \"seizure\"\n",
    "s0 = \"The patient is very unlikely to be subject to seizures\"\n",
    "s1 = \"The patient is very likely to be subject to seizures\"\n",
    "\n",
    "\n",
    "field = \"under_50\"\n",
    "s0 = \"The patient is over 50 year old\"\n",
    "s1 = \"The patient is under 50 year old\"\n",
    "\n",
    "field = \"gender\"\n",
    "s0 = \"The patient is male\"\n",
    "s1 = \"The patient is female\"\n",
    "\n",
    "\n",
    "field = \"epilep\"\n",
    "s0 = \"The patient does not have epilepsy\"\n",
    "s1 = \"The patient has epilepsy\"\n",
    "\n",
    "s0_embed = sentence_embedder(s0)\n",
    "s1_embed = sentence_embedder(s1)"
   ]
  },
  {
   "cell_type": "code",
   "execution_count": 86,
   "metadata": {},
   "outputs": [],
   "source": [
    "### find typical sentence for each class by doing the mean of the embeddings of the sentences in the class\n",
    "field = \"medication\"\n",
    "s0_embed = np.mean(report_df[report_df[field] == 0][embs_name].values.tolist(), axis=0)\n",
    "s1_embed = np.mean(report_df[report_df[field] == 1][embs_name].values.tolist(), axis=0)"
   ]
  },
  {
   "cell_type": "code",
   "execution_count": 87,
   "metadata": {},
   "outputs": [
    {
     "name": "stdout",
     "output_type": "stream",
     "text": [
      "label balance : 0.42765135251180764\n",
      "Accuracy:  0.7277086493490077\n"
     ]
    }
   ],
   "source": [
    "from scipy.spatial import distance\n",
    "# classify each report as either s0 or s1\n",
    "distance_classifier = []\n",
    "for r in report_df[embs_name]:\n",
    "    d0 = distance.cosine(r, s0_embed)\n",
    "    d1 = distance.cosine(r, s1_embed)\n",
    "    if d0 < d1:\n",
    "        distance_classifier.append(0)\n",
    "    else:\n",
    "        distance_classifier.append(1)\n",
    "\n",
    "print(\"label balance :\", np.mean(distance_classifier))\n",
    "\n",
    "# compare to the actual labels\n",
    "print(\"Accuracy: \", balanced_accuracy_score(report_df[field], distance_classifier))\n"
   ]
  },
  {
   "cell_type": "code",
   "execution_count": null,
   "metadata": {},
   "outputs": [],
   "source": []
  },
  {
   "cell_type": "code",
   "execution_count": null,
   "metadata": {},
   "outputs": [
    {
     "ename": "ModuleNotFoundError",
     "evalue": "No module named 'xgboost'",
     "output_type": "error",
     "traceback": [
      "\u001b[0;31m---------------------------------------------------------------------------\u001b[0m",
      "\u001b[0;31mModuleNotFoundError\u001b[0m                       Traceback (most recent call last)",
      "Cell \u001b[0;32mIn[12], line 15\u001b[0m\n\u001b[1;32m     11\u001b[0m model \u001b[39m=\u001b[39m MLPRegressor(random_state\u001b[39m=\u001b[39m\u001b[39m1\u001b[39m, max_iter\u001b[39m=\u001b[39m\u001b[39m500\u001b[39m)\u001b[39m.\u001b[39mfit(X_train, y_train)\n\u001b[1;32m     14\u001b[0m \u001b[39m# using xgboost\u001b[39;00m\n\u001b[0;32m---> 15\u001b[0m \u001b[39mimport\u001b[39;00m \u001b[39mxgboost\u001b[39;00m \u001b[39mas\u001b[39;00m \u001b[39mxgb\u001b[39;00m\n\u001b[1;32m     16\u001b[0m \u001b[39m#model = xgb.XGBRegressor(objective ='reg:squarederror', colsample_bytree = 0.3, learning_rate = 0.1,\u001b[39;00m\n\u001b[1;32m     17\u001b[0m \u001b[39m#                max_depth = 5, alpha = 10, n_estimators = 10)\u001b[39;00m\n\u001b[1;32m     19\u001b[0m y \u001b[39m=\u001b[39m report_df[\u001b[39m\"\u001b[39m\u001b[39mage\u001b[39m\u001b[39m\"\u001b[39m]\u001b[39m.\u001b[39mvalues\n",
      "\u001b[0;31mModuleNotFoundError\u001b[0m: No module named 'xgboost'"
     ]
    }
   ],
   "source": [
    "# decode age from embeddings using linear regression\n",
    "from sklearn.linear_model import LinearRegression\n",
    "from sklearn.model_selection import train_test_split\n",
    "from sklearn.metrics import mean_squared_error\n",
    "\n",
    "#model = LinearRegression()\n",
    "\n",
    "# using a mlp\n",
    "from sklearn.neural_network import MLPRegressor\n",
    "\n",
    "model = MLPRegressor(random_state=1, max_iter=500).fit(X_train, y_train)\n",
    "\n",
    "\n",
    "# using xgboost\n",
    "import xgboost as xgb\n",
    "#model = xgb.XGBRegressor(objective ='reg:squarederror', colsample_bytree = 0.3, learning_rate = 0.1,\n",
    "#                max_depth = 5, alpha = 10, n_estimators = 10)\n",
    "\n",
    "y = report_df[\"age\"].values\n",
    "\n",
    "\n",
    "X_train, X_test, y_train, y_test = train_test_split(\n",
    "            X, y, test_size=0.33, random_state=42)\n",
    "model.fit(X_train, y_train)\n",
    "y_pred = model.predict(X_test)\n",
    "print(\"MSE: \", mean_squared_error(y_test, y_pred))\n",
    "# average age error\n",
    "print(\"MAE: \", np.mean(np.abs(y_test - y_pred)))"
   ]
  },
  {
   "cell_type": "code",
   "execution_count": null,
   "metadata": {},
   "outputs": [
    {
     "data": {
      "image/png": "[encoded data removed]",
      "text/plain": [
       "<Figure size 640x480 with 1 Axes>"
      ]
     },
     "metadata": {},
     "output_type": "display_data"
    }
   ],
   "source": [
    "# plot predicted age vs. true age\n",
    "import matplotlib.pyplot as plt\n",
    "plt.scatter(y_test, y_pred)\n",
    "plt.xlabel(\"True Age\")\n",
    "plt.ylabel(\"Predicted Age\")\n",
    "# set xmin and xmax to the same value to make the plot square\n",
    "plt.xlim(0, 100)\n",
    "plt.ylim(0, 100)\n",
    "plt.show()"
   ]
  },
  {
   "cell_type": "code",
   "execution_count": 3,
   "metadata": {},
   "outputs": [
    {
     "name": "stderr",
     "output_type": "stream",
     "text": [
      "Downloading: 100%|██████████| 1.52k/1.52k [00:00<00:00, 558kB/s]\n",
      "Downloading: 100%|██████████| 4.96G/4.96G [01:45<00:00, 47.0MB/s]\n",
      "Some weights of T5Model were not initialized from the model checkpoint at hkunlp/instructor-xl and are newly initialized: ['decoder.block.4.layer.2.layer_norm.weight', 'decoder.block.23.layer.1.EncDecAttention.v.weight', 'decoder.block.0.layer.2.DenseReluDense.wo.weight', 'decoder.block.12.layer.1.EncDecAttention.k.weight', 'decoder.block.20.layer.2.DenseReluDense.wi.weight', 'decoder.block.2.layer.2.DenseReluDense.wo.weight', 'decoder.block.15.layer.0.SelfAttention.v.weight', 'decoder.block.0.layer.1.EncDecAttention.v.weight', 'decoder.block.2.layer.0.SelfAttention.q.weight', 'decoder.block.14.layer.0.SelfAttention.k.weight', 'decoder.block.9.layer.2.DenseReluDense.wi.weight', 'decoder.block.14.layer.1.layer_norm.weight', 'decoder.block.0.layer.0.SelfAttention.relative_attention_bias.weight', 'decoder.block.21.layer.1.EncDecAttention.v.weight', 'decoder.block.4.layer.1.EncDecAttention.k.weight', 'decoder.block.8.layer.0.layer_norm.weight', 'decoder.block.7.layer.0.layer_norm.weight', 'decoder.block.10.layer.1.EncDecAttention.q.weight', 'decoder.block.0.layer.0.SelfAttention.o.weight', 'decoder.block.4.layer.2.DenseReluDense.wi.weight', 'decoder.block.4.layer.0.SelfAttention.o.weight', 'decoder.block.6.layer.0.SelfAttention.k.weight', 'decoder.block.4.layer.0.SelfAttention.q.weight', 'decoder.block.13.layer.0.layer_norm.weight', 'decoder.block.14.layer.0.SelfAttention.v.weight', 'decoder.block.9.layer.1.EncDecAttention.o.weight', 'decoder.block.2.layer.2.DenseReluDense.wi.weight', 'decoder.block.1.layer.1.EncDecAttention.o.weight', 'decoder.block.0.layer.2.layer_norm.weight', 'decoder.block.21.layer.1.EncDecAttention.k.weight', 'decoder.block.5.layer.0.SelfAttention.v.weight', 'decoder.block.5.layer.1.EncDecAttention.q.weight', 'decoder.block.23.layer.0.SelfAttention.k.weight', 'decoder.block.12.layer.1.EncDecAttention.v.weight', 'decoder.block.1.layer.2.layer_norm.weight', 'decoder.block.14.layer.1.EncDecAttention.q.weight', 'decoder.block.9.layer.2.layer_norm.weight', 'decoder.block.0.layer.2.DenseReluDense.wi.weight', 'decoder.block.15.layer.2.DenseReluDense.wo.weight', 'decoder.block.18.layer.1.EncDecAttention.v.weight', 'decoder.block.0.layer.0.layer_norm.weight', 'decoder.block.22.layer.1.layer_norm.weight', 'decoder.block.19.layer.0.SelfAttention.v.weight', 'decoder.block.1.layer.1.EncDecAttention.q.weight', 'decoder.block.23.layer.1.EncDecAttention.o.weight', 'decoder.block.21.layer.2.DenseReluDense.wo.weight', 'decoder.block.17.layer.1.EncDecAttention.v.weight', 'decoder.block.19.layer.1.EncDecAttention.q.weight', 'decoder.block.12.layer.2.layer_norm.weight', 'decoder.block.7.layer.2.DenseReluDense.wi.weight', 'decoder.block.14.layer.1.EncDecAttention.v.weight', 'decoder.block.13.layer.1.layer_norm.weight', 'decoder.block.6.layer.1.EncDecAttention.v.weight', 'decoder.block.22.layer.0.SelfAttention.o.weight', 'decoder.block.7.layer.1.EncDecAttention.q.weight', 'decoder.block.3.layer.1.EncDecAttention.q.weight', 'decoder.block.5.layer.2.DenseReluDense.wo.weight', 'decoder.block.13.layer.2.DenseReluDense.wi.weight', 'decoder.block.0.layer.0.SelfAttention.k.weight', 'decoder.block.17.layer.2.DenseReluDense.wo.weight', 'decoder.block.9.layer.1.EncDecAttention.v.weight', 'decoder.block.16.layer.0.layer_norm.weight', 'decoder.block.2.layer.1.layer_norm.weight', 'decoder.block.10.layer.0.SelfAttention.q.weight', 'decoder.block.19.layer.2.DenseReluDense.wo.weight', 'decoder.block.2.layer.0.SelfAttention.k.weight', 'decoder.block.8.layer.0.SelfAttention.v.weight', 'decoder.block.6.layer.1.EncDecAttention.o.weight', 'decoder.block.8.layer.2.DenseReluDense.wi.weight', 'decoder.block.13.layer.0.SelfAttention.v.weight', 'decoder.block.1.layer.0.SelfAttention.q.weight', 'decoder.block.13.layer.1.EncDecAttention.q.weight', 'decoder.block.2.layer.1.EncDecAttention.q.weight', 'decoder.block.8.layer.1.EncDecAttention.k.weight', 'decoder.block.2.layer.0.layer_norm.weight', 'decoder.block.3.layer.0.SelfAttention.v.weight', 'decoder.block.2.layer.1.EncDecAttention.k.weight', 'decoder.block.6.layer.0.SelfAttention.q.weight', 'decoder.block.17.layer.1.layer_norm.weight', 'decoder.block.15.layer.2.DenseReluDense.wi.weight', 'decoder.block.5.layer.0.SelfAttention.o.weight', 'decoder.block.3.layer.1.EncDecAttention.k.weight', 'decoder.block.14.layer.1.EncDecAttention.k.weight', 'decoder.block.20.layer.1.layer_norm.weight', 'decoder.block.16.layer.1.EncDecAttention.o.weight', 'decoder.block.12.layer.1.layer_norm.weight', 'decoder.block.12.layer.0.SelfAttention.q.weight', 'decoder.block.2.layer.0.SelfAttention.v.weight', 'decoder.block.12.layer.0.SelfAttention.o.weight', 'decoder.block.16.layer.2.DenseReluDense.wi.weight', 'decoder.block.0.layer.0.SelfAttention.v.weight', 'decoder.block.10.layer.1.EncDecAttention.k.weight', 'decoder.block.21.layer.0.SelfAttention.v.weight', 'decoder.block.1.layer.0.SelfAttention.k.weight', 'decoder.block.5.layer.2.layer_norm.weight', 'decoder.block.20.layer.0.SelfAttention.v.weight', 'decoder.block.11.layer.1.EncDecAttention.v.weight', 'decoder.block.17.layer.0.SelfAttention.k.weight', 'decoder.block.15.layer.0.SelfAttention.k.weight', 'decoder.block.19.layer.1.EncDecAttention.o.weight', 'decoder.block.9.layer.1.EncDecAttention.k.weight', 'decoder.block.10.layer.2.layer_norm.weight', 'decoder.block.22.layer.2.DenseReluDense.wi.weight', 'decoder.block.11.layer.2.layer_norm.weight', 'decoder.block.10.layer.1.layer_norm.weight', 'decoder.block.8.layer.2.DenseReluDense.wo.weight', 'decoder.block.23.layer.1.EncDecAttention.k.weight', 'decoder.block.14.layer.2.DenseReluDense.wo.weight', 'decoder.block.6.layer.1.layer_norm.weight', 'decoder.block.17.layer.1.EncDecAttention.k.weight', 'decoder.block.20.layer.0.SelfAttention.o.weight', 'decoder.block.6.layer.2.layer_norm.weight', 'decoder.block.5.layer.1.EncDecAttention.v.weight', 'decoder.block.2.layer.1.EncDecAttention.o.weight', 'decoder.block.10.layer.0.SelfAttention.o.weight', 'decoder.block.19.layer.0.layer_norm.weight', 'decoder.block.0.layer.1.EncDecAttention.k.weight', 'decoder.block.9.layer.0.SelfAttention.k.weight', 'decoder.block.7.layer.1.EncDecAttention.k.weight', 'decoder.block.14.layer.0.SelfAttention.q.weight', 'decoder.block.18.layer.2.DenseReluDense.wi.weight', 'decoder.block.17.layer.0.SelfAttention.v.weight', 'decoder.block.8.layer.0.SelfAttention.q.weight', 'decoder.block.9.layer.1.layer_norm.weight', 'decoder.block.17.layer.2.layer_norm.weight', 'decoder.block.2.layer.0.SelfAttention.o.weight', 'decoder.block.16.layer.1.EncDecAttention.k.weight', 'decoder.block.11.layer.0.SelfAttention.q.weight', 'decoder.block.5.layer.0.SelfAttention.k.weight', 'decoder.block.1.layer.1.EncDecAttention.v.weight', 'decoder.block.6.layer.2.DenseReluDense.wo.weight', 'decoder.block.21.layer.2.layer_norm.weight', 'decoder.block.15.layer.2.layer_norm.weight', 'decoder.block.9.layer.0.SelfAttention.q.weight', 'decoder.block.14.layer.0.SelfAttention.o.weight', 'decoder.block.22.layer.0.SelfAttention.v.weight', 'decoder.block.14.layer.0.layer_norm.weight', 'decoder.block.10.layer.2.DenseReluDense.wo.weight', 'decoder.block.10.layer.0.SelfAttention.v.weight', 'decoder.block.15.layer.0.layer_norm.weight', 'decoder.block.19.layer.2.DenseReluDense.wi.weight', 'decoder.block.18.layer.1.EncDecAttention.q.weight', 'decoder.block.12.layer.2.DenseReluDense.wo.weight', 'decoder.block.1.layer.2.DenseReluDense.wo.weight', 'decoder.block.13.layer.2.layer_norm.weight', 'decoder.block.22.layer.1.EncDecAttention.o.weight', 'decoder.block.12.layer.0.layer_norm.weight', 'decoder.block.20.layer.1.EncDecAttention.q.weight', 'decoder.block.9.layer.0.SelfAttention.o.weight', 'decoder.block.10.layer.2.DenseReluDense.wi.weight', 'decoder.block.23.layer.2.layer_norm.weight', 'decoder.block.9.layer.0.SelfAttention.v.weight', 'decoder.block.11.layer.2.DenseReluDense.wo.weight', 'decoder.block.13.layer.1.EncDecAttention.k.weight', 'decoder.block.21.layer.0.SelfAttention.q.weight', 'decoder.block.11.layer.0.SelfAttention.v.weight', 'decoder.block.8.layer.2.layer_norm.weight', 'decoder.block.4.layer.1.EncDecAttention.v.weight', 'decoder.block.11.layer.1.EncDecAttention.q.weight', 'decoder.block.4.layer.1.EncDecAttention.o.weight', 'decoder.block.23.layer.0.SelfAttention.o.weight', 'decoder.block.17.layer.0.layer_norm.weight', 'decoder.block.16.layer.1.EncDecAttention.q.weight', 'decoder.block.20.layer.0.SelfAttention.q.weight', 'decoder.block.6.layer.0.layer_norm.weight', 'decoder.block.3.layer.1.EncDecAttention.o.weight', 'decoder.block.12.layer.0.SelfAttention.k.weight', 'decoder.block.11.layer.1.layer_norm.weight', 'decoder.block.7.layer.2.DenseReluDense.wo.weight', 'decoder.block.8.layer.0.SelfAttention.k.weight', 'decoder.block.18.layer.2.layer_norm.weight', 'decoder.block.21.layer.0.SelfAttention.o.weight', 'decoder.block.20.layer.2.layer_norm.weight', 'decoder.final_layer_norm.weight', 'decoder.block.4.layer.0.SelfAttention.k.weight', 'decoder.block.22.layer.2.DenseReluDense.wo.weight', 'decoder.block.6.layer.1.EncDecAttention.q.weight', 'decoder.block.16.layer.0.SelfAttention.q.weight', 'decoder.block.2.layer.1.EncDecAttention.v.weight', 'decoder.block.18.layer.1.EncDecAttention.k.weight', 'decoder.block.0.layer.1.layer_norm.weight', 'decoder.block.23.layer.1.layer_norm.weight', 'decoder.block.13.layer.0.SelfAttention.o.weight', 'decoder.block.11.layer.2.DenseReluDense.wi.weight', 'decoder.block.3.layer.0.SelfAttention.q.weight', 'decoder.block.16.layer.0.SelfAttention.o.weight', 'decoder.block.11.layer.0.layer_norm.weight', 'decoder.block.15.layer.0.SelfAttention.q.weight', 'decoder.block.12.layer.2.DenseReluDense.wi.weight', 'decoder.block.14.layer.2.DenseReluDense.wi.weight', 'decoder.block.10.layer.0.layer_norm.weight', 'decoder.block.0.layer.1.EncDecAttention.o.weight', 'decoder.block.13.layer.2.DenseReluDense.wo.weight', 'decoder.block.14.layer.2.layer_norm.weight', 'decoder.block.7.layer.0.SelfAttention.v.weight', 'decoder.block.13.layer.1.EncDecAttention.o.weight', 'decoder.block.4.layer.0.layer_norm.weight', 'decoder.block.20.layer.2.DenseReluDense.wo.weight', 'decoder.block.19.layer.1.EncDecAttention.k.weight', 'decoder.block.7.layer.2.layer_norm.weight', 'decoder.block.9.layer.1.EncDecAttention.q.weight', 'decoder.block.15.layer.1.EncDecAttention.o.weight', 'decoder.block.17.layer.2.DenseReluDense.wi.weight', 'decoder.block.0.layer.0.SelfAttention.q.weight', 'decoder.block.17.layer.0.SelfAttention.o.weight', 'decoder.block.9.layer.0.layer_norm.weight', 'decoder.block.17.layer.1.EncDecAttention.o.weight', 'decoder.block.13.layer.1.EncDecAttention.v.weight', 'decoder.block.15.layer.1.EncDecAttention.k.weight', 'decoder.block.12.layer.1.EncDecAttention.q.weight', 'decoder.block.12.layer.1.EncDecAttention.o.weight', 'decoder.block.4.layer.2.DenseReluDense.wo.weight', 'decoder.block.5.layer.1.EncDecAttention.o.weight', 'decoder.block.11.layer.0.SelfAttention.o.weight', 'decoder.block.1.layer.1.EncDecAttention.k.weight', 'decoder.block.3.layer.2.DenseReluDense.wo.weight', 'decoder.block.23.layer.0.SelfAttention.v.weight', 'decoder.block.11.layer.1.EncDecAttention.o.weight', 'decoder.block.19.layer.0.SelfAttention.o.weight', 'decoder.block.16.layer.2.DenseReluDense.wo.weight', 'decoder.block.5.layer.1.EncDecAttention.k.weight', 'decoder.block.23.layer.0.SelfAttention.q.weight', 'decoder.block.22.layer.1.EncDecAttention.k.weight', 'decoder.block.18.layer.0.SelfAttention.o.weight', 'decoder.block.16.layer.2.layer_norm.weight', 'decoder.block.7.layer.1.layer_norm.weight', 'decoder.block.11.layer.1.EncDecAttention.k.weight', 'decoder.block.16.layer.0.SelfAttention.k.weight', 'decoder.block.4.layer.1.EncDecAttention.q.weight', 'decoder.block.6.layer.2.DenseReluDense.wi.weight', 'decoder.block.22.layer.0.SelfAttention.q.weight', 'decoder.block.22.layer.0.layer_norm.weight', 'decoder.block.20.layer.1.EncDecAttention.o.weight', 'decoder.block.5.layer.1.layer_norm.weight', 'decoder.block.23.layer.0.layer_norm.weight', 'decoder.block.13.layer.0.SelfAttention.k.weight', 'decoder.block.3.layer.2.layer_norm.weight', 'decoder.block.10.layer.1.EncDecAttention.o.weight', 'decoder.block.16.layer.0.SelfAttention.v.weight', 'decoder.block.18.layer.0.layer_norm.weight', 'decoder.block.22.layer.1.EncDecAttention.v.weight', 'decoder.block.18.layer.2.DenseReluDense.wo.weight', 'decoder.block.16.layer.1.EncDecAttention.v.weight', 'decoder.block.19.layer.0.SelfAttention.k.weight', 'decoder.block.3.layer.0.SelfAttention.o.weight', 'decoder.block.15.layer.1.EncDecAttention.v.weight', 'decoder.block.7.layer.0.SelfAttention.q.weight', 'decoder.block.22.layer.1.EncDecAttention.q.weight', 'decoder.block.8.layer.1.EncDecAttention.o.weight', 'decoder.block.21.layer.0.layer_norm.weight', 'decoder.block.1.layer.0.layer_norm.weight', 'decoder.block.12.layer.0.SelfAttention.v.weight', 'decoder.block.3.layer.0.SelfAttention.k.weight', 'decoder.block.3.layer.1.EncDecAttention.v.weight', 'decoder.block.1.layer.0.SelfAttention.o.weight', 'decoder.block.6.layer.0.SelfAttention.v.weight', 'decoder.block.19.layer.1.layer_norm.weight', 'decoder.block.17.layer.1.EncDecAttention.q.weight', 'decoder.block.23.layer.2.DenseReluDense.wi.weight', 'decoder.block.9.layer.2.DenseReluDense.wo.weight', 'decoder.block.5.layer.0.SelfAttention.q.weight', 'decoder.block.1.layer.1.layer_norm.weight', 'decoder.block.20.layer.1.EncDecAttention.v.weight', 'decoder.block.4.layer.1.layer_norm.weight', 'decoder.block.3.layer.2.DenseReluDense.wi.weight', 'decoder.block.22.layer.2.layer_norm.weight', 'decoder.block.15.layer.0.SelfAttention.o.weight', 'decoder.block.21.layer.2.DenseReluDense.wi.weight', 'decoder.block.13.layer.0.SelfAttention.q.weight', 'decoder.block.7.layer.1.EncDecAttention.o.weight', 'decoder.block.6.layer.0.SelfAttention.o.weight', 'decoder.block.3.layer.1.layer_norm.weight', 'decoder.block.23.layer.1.EncDecAttention.q.weight', 'decoder.block.20.layer.0.SelfAttention.k.weight', 'decoder.block.20.layer.1.EncDecAttention.k.weight', 'decoder.block.15.layer.1.layer_norm.weight', 'decoder.block.8.layer.1.EncDecAttention.v.weight', 'decoder.block.4.layer.0.SelfAttention.v.weight', 'decoder.block.18.layer.0.SelfAttention.v.weight', 'decoder.block.7.layer.0.SelfAttention.k.weight', 'decoder.block.18.layer.0.SelfAttention.k.weight', 'decoder.block.19.layer.1.EncDecAttention.v.weight', 'decoder.block.1.layer.0.SelfAttention.v.weight', 'decoder.block.2.layer.2.layer_norm.weight', 'decoder.block.14.layer.1.EncDecAttention.o.weight', 'decoder.block.10.layer.1.EncDecAttention.v.weight', 'decoder.block.21.layer.0.SelfAttention.k.weight', 'decoder.block.7.layer.0.SelfAttention.o.weight', 'decoder.block.18.layer.1.layer_norm.weight', 'decoder.block.19.layer.2.layer_norm.weight', 'decoder.block.5.layer.2.DenseReluDense.wi.weight', 'decoder.block.17.layer.0.SelfAttention.q.weight', 'decoder.block.21.layer.1.EncDecAttention.o.weight', 'decoder.block.21.layer.1.layer_norm.weight', 'decoder.block.7.layer.1.EncDecAttention.v.weight', 'decoder.block.18.layer.1.EncDecAttention.o.weight', 'decoder.block.19.layer.0.SelfAttention.q.weight', 'decoder.block.8.layer.1.layer_norm.weight', 'decoder.block.8.layer.1.EncDecAttention.q.weight', 'decoder.block.21.layer.1.EncDecAttention.q.weight', 'decoder.block.11.layer.0.SelfAttention.k.weight', 'decoder.block.15.layer.1.EncDecAttention.q.weight', 'decoder.block.20.layer.0.layer_norm.weight', 'decoder.block.18.layer.0.SelfAttention.q.weight', 'decoder.block.16.layer.1.layer_norm.weight', 'decoder.block.8.layer.0.SelfAttention.o.weight', 'decoder.block.6.layer.1.EncDecAttention.k.weight', 'decoder.block.0.layer.1.EncDecAttention.q.weight', 'decoder.block.1.layer.2.DenseReluDense.wi.weight', 'decoder.block.22.layer.0.SelfAttention.k.weight', 'decoder.block.3.layer.0.layer_norm.weight', 'decoder.block.5.layer.0.layer_norm.weight', 'decoder.block.23.layer.2.DenseReluDense.wo.weight', 'decoder.block.10.layer.0.SelfAttention.k.weight']\n",
      "You should probably TRAIN this model on a down-stream task to be able to use it for predictions and inference.\n"
     ]
    }
   ],
   "source": [
    "from sentence_transformers import SentenceTransformer\n",
    "\n",
    "model = AutoModel.from_pretrained(\"hkunlp/instructor-xl\")\n",
    "tokenizer = AutoTokenizer.from_pretrained(\"hkunlp/instructor-xl\")"
   ]
  },
  {
   "cell_type": "code",
   "execution_count": 5,
   "metadata": {},
   "outputs": [],
   "source": [
    "\"\"\"\n",
    "bert_tokenizer = AutoTokenizer.from_pretrained(\"bert-base-uncased\")\n",
    "bert_model = AutoModel.from_pretrained(\"bert-base-uncased\")\n",
    "\"\"\"\n",
    "sentence = \"sauce\"\n",
    "desc_tokenized = tokenizer(sentence, return_tensors=\"pt\", max_length=512, truncation=True, padding='max_length')\n",
    "outputs = model.encoder(**desc_tokenized)\n",
    "emb = outputs.to_tuple()[0][0][0].detach().numpy().tolist()\n"
   ]
  },
  {
   "cell_type": "code",
   "execution_count": 7,
   "metadata": {},
   "outputs": [
    {
     "data": {
      "text/plain": [
       "BaseModelOutputWithPastAndCrossAttentions(last_hidden_state=tensor([[[ 5.1890e-01,  1.2115e-01, -2.6725e-02,  ...,  7.7272e-02,\n",
       "           5.0293e-01, -3.4116e-01],\n",
       "         [ 7.1057e-02,  6.9810e-02, -4.7813e-02,  ...,  2.0375e-01,\n",
       "           1.1002e-01, -6.0529e-02],\n",
       "         [-1.2254e-01,  1.4338e-01,  9.5085e-02,  ...,  1.2603e-01,\n",
       "           5.8572e-01, -1.9992e-01],\n",
       "         ...,\n",
       "         [-1.2521e-01,  1.0445e-01, -7.1089e-02,  ..., -2.5637e-04,\n",
       "           3.1636e-01, -3.5995e-01],\n",
       "         [-1.2521e-01,  1.0445e-01, -7.1089e-02,  ..., -2.5637e-04,\n",
       "           3.1636e-01, -3.5995e-01],\n",
       "         [-1.2521e-01,  1.0445e-01, -7.1089e-02,  ..., -2.5637e-04,\n",
       "           3.1636e-01, -3.5995e-01]]], grad_fn=<MulBackward0>), past_key_values=None, hidden_states=None, attentions=None, cross_attentions=None)"
      ]
     },
     "execution_count": 7,
     "metadata": {},
     "output_type": "execute_result"
    }
   ],
   "source": [
    "outputs"
   ]
  }
 ],
 "metadata": {
  "kernelspec": {
   "display_name": "Python 3.10.6 (conda)",
   "language": "python",
   "name": "python3"
  },
  "language_info": {
   "codemirror_mode": {
    "name": "ipython",
    "version": 3
   },
   "file_extension": ".py",
   "mimetype": "text/x-python",
   "name": "python",
   "nbconvert_exporter": "python",
   "pygments_lexer": "ipython3",
   "version": "3.10.6"
  },
  "orig_nbformat": 4,
  "vscode": {
   "interpreter": {
    "hash": "097b7033baff6ef61c19d5e3b26d00f2edd9fddb86c25af544d86fb0636b8d9f"
   }
  }
 },
 "nbformat": 4,
 "nbformat_minor": 2
}
