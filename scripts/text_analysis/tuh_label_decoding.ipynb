{
 "cells": [
  {
   "cell_type": "code",
   "execution_count": null,
   "metadata": {},
   "outputs": [],
   "source": [
    "from braindecode.datasets import TUHAbnormal\n",
    "\n",
    "TUHAbnormal_PATH = '/home/jovyan/mne_data/TUH/tuh_eeg_abnormal/v2.0.0'\n",
    "N_JOBS = 8  # specify the number of jobs for loading and windowing\n",
    "\n",
    "\n",
    "tuh = TUHAbnormal(\n",
    "    path=TUHAbnormal_PATH,\n",
    "    recording_ids=None,\n",
    "    target_name=('report','pathological','gender','age'),\n",
    "    preload=False,\n",
    "    add_physician_reports=True,\n",
    "    n_jobs=N_JOBS, \n",
    ")"
   ]
  },
  {
   "cell_type": "code",
   "execution_count": 5,
   "metadata": {},
   "outputs": [
    {
     "name": "stdout",
     "output_type": "stream",
     "text": [
      "length of dataset :  1035794884\n",
      "y: ['CLINICAL HISTORY:  A 21-year-old female with multiple concussions, most recently October 6, with headaches and intermittent difficulty with concentration.\\nMEDICATIONS:  Elavil, albuterol, Naprosyn.\\nINTRODUCTION:  Digital video EEG was performed in the lab using standard 10-20 system of electrode placement with 1 channel EKG.  Hyperventilation and photic stimulation were completed.  This is an awake and asleep record.  It is technically satisfactory with impedances under 5 kilohms.\\nDESCRIPTION OF THE RECORD:  In wakefulness, there is a 10 Hz alpha rhythm which is symmetric and reactive to eye opening.  Alpha squeak was noted.  Brief drowsiness is characterized by an increase in beta, but sleep was not sustained.\\nHyperventilation produced a small increase in amplitude of the background.  Photic stimulation elicited scant driving.\\nHeart rate: 55 bpm.\\nIMPRESSION:  Normal EEG in wakefulness and brief drowsiness.\\nCLINICAL CORRELATION:  No focal or epileptiform features were identified.  In this individual with a history of head trauma there was no background slowing noted.\\n\\n\\n\\n', False, 'F', 21]\n"
     ]
    }
   ],
   "source": [
    "print(\"length of dataset : \", len(tuh))\n",
    "\n",
    "x, y = tuh[-1]\n",
    "print('y:', y)"
   ]
  },
  {
   "cell_type": "code",
   "execution_count": 6,
   "metadata": {},
   "outputs": [],
   "source": [
    "tuh_subjects = tuh.split('subject')"
   ]
  },
  {
   "cell_type": "code",
   "execution_count": 13,
   "metadata": {},
   "outputs": [],
   "source": [
    "len(tuh_subjects)\n",
    "key_list = list(tuh_subjects.keys())"
   ]
  },
  {
   "cell_type": "code",
   "execution_count": 26,
   "metadata": {},
   "outputs": [
    {
     "data": {
      "text/plain": [
       "[\"HISTORY: 43 year old right handed woman with tonoclonic seizures since age 12 and recurrent seizures, last seizure occurred on 09/26/2010. Also a history of staring spells, absence seizures. The primary seizure type at present is absence epilepsy with nearly daily absence seizure .\\nMEDICATIONS: Dilantin, Keppra, Buspar.\\nINTRODUCTION: Digital video EEG was performed in lab using standard 10-20 system of electrode placement with 1 channel of EKG. Hyperventilation and photic stimulation are performed. This Is an awake through stage 2 sleep record.\\nDESCRIPTION OF THE RECORD The patient appears to be drowsy throughout much of the record. There are some sections in apparent wakefulness where there is a pattern with 7.3 Hz activity in the background and some faster 15Hz activity. There is at times a 10Hz alpha rhythm. As the patient transitions into stage 2 steep with vertex waves, K-complexes and spindles., frontally predominant spike and wave and polyspike and wave activity is Identified at 3 to 5 Hz.\\nHR: 78 bpm\\nIMPRESSION: Abnormal EEG due to:\\n1. Excess background 7.5 Hz activity and wakefulness.\\n2. Frontally predominant spike and wave and polyspike and wave activity, identified quite prominently In sleep.\\nCLINICAL CORRELATION: The excess 7.5 Hz activity was not previously described in other records and may be part of this patient's underlying neurologic process or due to underlying sleep deprivation. It does correlate with a faster frequency harmonic also noted in the background. The generalized, polyspike and spike and wave activity has been previously described. No absence seizures were recorded; however, the patient does seem to be quite drowsy.\\n\\n\\n\\n\",\n",
       " True,\n",
       " 'F',\n",
       " 43]"
      ]
     },
     "execution_count": 26,
     "metadata": {},
     "output_type": "execute_result"
    }
   ],
   "source": [
    "tuh_subjects[key_list[4]][65][1]"
   ]
  },
  {
   "cell_type": "code",
   "execution_count": 24,
   "metadata": {},
   "outputs": [],
   "source": [
    "import pandas as pd\n",
    "df = pd.DataFrame(columns=('report', 'pathological', 'gender', 'age'))\n",
    "for i in range(len(key_list)):\n",
    "   df.loc[i] = tuh_subjects[key_list[i]][0][1]"
   ]
  },
  {
   "cell_type": "code",
   "execution_count": 27,
   "metadata": {},
   "outputs": [],
   "source": [
    "df.to_csv(\"report_df.csv\")"
   ]
  }
 ],
 "metadata": {
  "kernelspec": {
   "display_name": "Python 3.10.6 (conda)",
   "language": "python",
   "name": "python3"
  },
  "language_info": {
   "codemirror_mode": {
    "name": "ipython",
    "version": 3
   },
   "file_extension": ".py",
   "mimetype": "text/x-python",
   "name": "python",
   "nbconvert_exporter": "python",
   "pygments_lexer": "ipython3",
   "version": "3.10.6"
  },
  "orig_nbformat": 4,
  "vscode": {
   "interpreter": {
    "hash": "097b7033baff6ef61c19d5e3b26d00f2edd9fddb86c25af544d86fb0636b8d9f"
   }
  }
 },
 "nbformat": 4,
 "nbformat_minor": 2
}
