{
 "cells": [
  {
   "cell_type": "code",
   "execution_count": 2,
   "metadata": {},
   "outputs": [
    {
     "name": "stdout",
     "output_type": "stream",
     "text": [
      "Extracting EDF parameters from /home/jovyan/mne_data/TUH/tuh_eeg_abnormal/v2.0.0/edf/eval/normal/01_tcp_ar/041/00004196/s003_2009_09_03/00004196_s003_t000.edf...\n",
      "EDF file detected\n",
      "Setting channel info structure...\n",
      "Creating raw.info structure...\n",
      "length of dataset :  350500\n",
      "x: [[3.5e-09]\n",
      " [3.5e-09]\n",
      " [3.5e-09]\n",
      " [3.5e-09]\n",
      " [3.5e-09]\n",
      " [3.5e-09]\n",
      " [3.5e-09]\n",
      " [3.5e-09]\n",
      " [3.5e-09]\n",
      " [3.5e-09]\n",
      " [3.5e-09]\n",
      " [3.5e-09]\n",
      " [3.5e-09]\n",
      " [3.5e-09]\n",
      " [3.5e-09]\n",
      " [3.5e-09]\n",
      " [3.5e-09]\n",
      " [3.5e-09]\n",
      " [3.5e-09]\n",
      " [3.5e-09]\n",
      " [3.5e-09]\n",
      " [3.5e-09]\n",
      " [3.5e-09]\n",
      " [3.5e-09]\n",
      " [3.5e-09]\n",
      " [3.5e-09]\n",
      " [3.5e-09]\n",
      " [3.5e-09]\n",
      " [3.5e-09]\n",
      " [3.5e-09]\n",
      " [3.5e-09]\n",
      " [3.5e-09]\n",
      " [0.0e+00]\n",
      " [0.0e+00]\n",
      " [0.0e+00]\n",
      " [0.0e+00]]\n",
      "y: ['CLINICAL HISTORY:  Seizures.\\nMEDICATIONS: Dilantin,  Lipitor.\\nINTRODUCTION:  Digital video EEG is performed in the lab using standard 10-20 system of electrode placement with 1 channel EKG. Hyperventilation and photic stimulation are performed. This is an awake and asleep record.\\nDESCRIPTION OF THE RECORD:  In wakefulness, there is a 9.8 Hz alpha rhythm with a small amount of low voltage frontal central beta activity. Hyperventilation produces a small amount of slowing. Photic stimulation does not activate the record.\\nIMPRESSION: Normal electroencephalogram.\\nCLINICAL CORRELATION:  This is the third normal EEG for this individual with epilepsy. If appropriate, additional recording strategies may be helpful to characterize epileptiform activity.\\n\\n\\n\\n', False]\n"
     ]
    },
    {
     "name": "stderr",
     "output_type": "stream",
     "text": [
      "/home/jovyan/test_env/lib/python3.10/site-packages/braindecode/datasets/base.py:131: UserWarning: 'pathological' not in description. '__getitem__'will fail unless an appropriate target is added to description.\n",
      "  warnings.warn(f\"'{name}' not in description. '__getitem__'\"\n"
     ]
    }
   ],
   "source": [
    "\n",
    "import numpy as np\n",
    "import matplotlib.pyplot as plt\n",
    "import mne\n",
    "import pandas as pd\n",
    "from braindecode.datasets import TUHAbnormal, BaseConcatDataset\n",
    "from braindecode.preprocessing import (\n",
    "    preprocess, Preprocessor, create_fixed_length_windows, create_windows_from_events, scale as multiply)\n",
    "import torch\n",
    "from braindecode.util import set_random_seeds\n",
    "\n",
    "from braindecode.models import ShallowFBCSPNet, deep4\n",
    "from skorch.callbacks import LRScheduler\n",
    "from skorch.helper import predefined_split\n",
    "from pytorch_lightning.callbacks.progress import TQDMProgressBar\n",
    "from pytorch_lightning.loggers import TensorBoardLogger\n",
    "from pytorch_lightning import Trainer\n",
    "from braindecode import EEGClassifier\n",
    "\n",
    "from EEGClip.clip_models import EEGClipModule\n",
    "\n",
    "mne.set_log_level('ERROR')  # avoid messages everytime a window is extracted\n",
    "\n",
    "TUHAbnormal_PATH = '/home/jovyan/mne_data/TUH/tuh_eeg_abnormal/v2.0.0'\n",
    "N_JOBS = 8  # specify the number of jobs for loading and windowing\n",
    "N_SAMPLES = 1\n",
    "\n",
    "tuh = TUHAbnormal(\n",
    "    path=TUHAbnormal_PATH,\n",
    "    recording_ids=list(range(N_SAMPLES)),\n",
    "    target_name=('report','pathological'),\n",
    "    preload=False,\n",
    "    add_physician_reports=True,\n",
    "    n_jobs=N_JOBS, \n",
    ")\n",
    "\n",
    "print(\"length of dataset : \", len(tuh))\n",
    "\n",
    "x, y = tuh[-1]\n",
    "print('x:', x)\n",
    "print('y:', y)"
   ]
  },
  {
   "cell_type": "code",
   "execution_count": 19,
   "metadata": {},
   "outputs": [],
   "source": [
    "import glob\n",
    "import numpy as np\n",
    "import matplotlib.pyplot as plt\n",
    "import mne\n",
    "\n",
    "from braindecode.datasets import TUH\n",
    "from braindecode.datasets.tuh import _read_physician_report\n",
    "from braindecode.preprocessing import (\n",
    "    preprocess, Preprocessor, create_fixed_length_windows, create_windows_from_events, scale as multiply)\n",
    "\n",
    "mne.set_log_level('ERROR')  # avoid messages everytime a window is extracted\n",
    "\n",
    "tueg_path = '/home/jovyan/mne_data/TUH/tuh_eeg_abnormal/'\n"
   ]
  },
  {
   "cell_type": "code",
   "execution_count": 7,
   "metadata": {},
   "outputs": [],
   "source": [
    "all_edf_paths = glob.glob(tueg_path + '**/*.edf', recursive=True)"
   ]
  },
  {
   "cell_type": "code",
   "execution_count": 8,
   "metadata": {},
   "outputs": [
    {
     "data": {
      "text/plain": [
       "2993"
      ]
     },
     "execution_count": 8,
     "metadata": {},
     "output_type": "execute_result"
    }
   ],
   "source": [
    "len(all_edf_paths)"
   ]
  },
  {
   "cell_type": "code",
   "execution_count": 15,
   "metadata": {},
   "outputs": [
    {
     "name": "stdout",
     "output_type": "stream",
     "text": [
      "/home/jovyan/mne_data/TUH/tuh_eeg_abnormal/v2.0.0/edf/train/normal/01_tcp_ar/017/00001754/s002_2012_06_07/00001754_s002_t002.edf\n"
     ]
    }
   ],
   "source": [
    "file_path = all_edf_paths[0]\n",
    "print(file_path)"
   ]
  },
  {
   "cell_type": "code",
   "execution_count": 12,
   "metadata": {},
   "outputs": [],
   "source": [
    "raw = mne.io.read_raw_edf(file_path, verbose='error')"
   ]
  },
  {
   "cell_type": "code",
   "execution_count": 14,
   "metadata": {},
   "outputs": [
    {
     "data": {
      "text/html": [
       "<table class=\"table table-hover table-striped table-sm table-responsive small\">\n",
       "    <tr>\n",
       "        <th>Measurement date</th>\n",
       "        \n",
       "        <td>January 01, 2000  00:00:00 GMT</td>\n",
       "        \n",
       "    </tr>\n",
       "    <tr>\n",
       "        <th>Experimenter</th>\n",
       "        \n",
       "        <td>Unknown</td>\n",
       "        \n",
       "    </tr>\n",
       "        <th>Participant</th>\n",
       "        \n",
       "        <td>Unknown</td>\n",
       "        \n",
       "    </tr>\n",
       "    <tr>\n",
       "        <th>Digitized points</th>\n",
       "        \n",
       "        <td>Not available</td>\n",
       "        \n",
       "    </tr>\n",
       "    <tr>\n",
       "        <th>Good channels</th>\n",
       "        <td>30 EEG</td>\n",
       "    </tr>\n",
       "    <tr>\n",
       "        <th>Bad channels</th>\n",
       "        <td>None</td>\n",
       "    </tr>\n",
       "    <tr>\n",
       "        <th>EOG channels</th>\n",
       "        <td>Not available</td>\n",
       "    </tr>\n",
       "    <tr>\n",
       "        <th>ECG channels</th>\n",
       "        <td>Not available</td>\n",
       "    \n",
       "    <tr>\n",
       "        <th>Sampling frequency</th>\n",
       "        <td>250.00 Hz</td>\n",
       "    </tr>\n",
       "    \n",
       "    \n",
       "    <tr>\n",
       "        <th>Highpass</th>\n",
       "        <td>0.00 Hz</td>\n",
       "    </tr>\n",
       "    \n",
       "    \n",
       "    <tr>\n",
       "        <th>Lowpass</th>\n",
       "        <td>125.00 Hz</td>\n",
       "    </tr>\n",
       "    \n",
       "    \n",
       "</table>"
      ],
      "text/plain": [
       "<Info | 7 non-empty values\n",
       " bads: []\n",
       " ch_names: EEG FP1-REF, EEG FP2-REF, EEG F3-REF, EEG F4-REF, EEG C3-REF, ...\n",
       " chs: 30 EEG\n",
       " custom_ref_applied: False\n",
       " highpass: 0.0 Hz\n",
       " lowpass: 125.0 Hz\n",
       " meas_date: 2000-01-01 00:00:00 UTC\n",
       " nchan: 30\n",
       " projs: []\n",
       " sfreq: 250.0 Hz\n",
       ">"
      ]
     },
     "execution_count": 14,
     "metadata": {},
     "output_type": "execute_result"
    }
   ],
   "source": [
    "raw.info"
   ]
  },
  {
   "cell_type": "code",
   "execution_count": 20,
   "metadata": {},
   "outputs": [
    {
     "data": {
      "text/plain": [
       "'CLINICAL HISTORY: 72 year old right handed man with history of seizures presented today.  He was in bed with episode of feeling lightheaded, fell to the floor.  Last seizure 10 years ago.  He had stopped Dilantin 3 months ago on his own.  He has diabetes and intracerebral hemorrhage in 2011 and hypertension.\\nMEDICATIONS:  Diovan, HCTZ, Oxycodone, Insulin.\\nREASON FOR STUDY:  Seizures.\\nINTRODUCTION:  Digital video EEG was performed using the standard 10-20 electrode placement system with additional anterior temporal and single lead EKG electrodes.  The patient was recorded in wakefulness and sleep.  Activating procedure of photic stimulation was performed.\\nDESCRIPTION OF THE RECORD:  The record opens to a well-defined posterior dominant rhythm of 9-10 Hz which is reactive to eye opening.  There is a normal amount of frontocentral beta.  The patient is recorded during wakefulness and stage I sleep.  Activating procedures including photic stimulation which produced no abnormal discharges.\\nABNORMAL DISCHARGES:  None.\\nSEIZURES:  None.\\nIMPRESSION:  Normal awake and asleep EEG.\\nCLINICAL CORRELATION:  No seizures or epileptiform discharges were seen.\\n\\n\\n\\n'"
      ]
     },
     "execution_count": 20,
     "metadata": {},
     "output_type": "execute_result"
    }
   ],
   "source": [
    "_read_physician_report(file_path)"
   ]
  }
 ],
 "metadata": {
  "kernelspec": {
   "display_name": "Python 3.10.6",
   "language": "python",
   "name": "python3"
  },
  "language_info": {
   "codemirror_mode": {
    "name": "ipython",
    "version": 3
   },
   "file_extension": ".py",
   "mimetype": "text/x-python",
   "name": "python",
   "nbconvert_exporter": "python",
   "pygments_lexer": "ipython3",
   "version": "3.10.6"
  },
  "orig_nbformat": 4,
  "vscode": {
   "interpreter": {
    "hash": "097b7033baff6ef61c19d5e3b26d00f2edd9fddb86c25af544d86fb0636b8d9f"
   }
  }
 },
 "nbformat": 4,
 "nbformat_minor": 2
}
