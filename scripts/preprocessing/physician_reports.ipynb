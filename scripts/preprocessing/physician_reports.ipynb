{
 "cells": [
  {
   "cell_type": "code",
   "execution_count": 1,
   "metadata": {},
   "outputs": [],
   "source": [
    "import numpy as np\n",
    "import pandas as pd\n",
    "import logging"
   ]
  },
  {
   "cell_type": "code",
   "execution_count": 2,
   "metadata": {},
   "outputs": [],
   "source": [
    "from glob import glob\n",
    "import re\n",
    "\n",
    "def natural_key(string):\n",
    "    \"\"\" provides a human-like sorting key of a string \"\"\"\n",
    "    p = r'(\\d+)'\n",
    "    key = [int(t) if t.isdigit() else None for t in re.split(p, string)]\n",
    "    return key\n",
    "\n",
    "# check whether this can be replaced by natural key\n",
    "def _session_key(string):\n",
    "    \"\"\" sort the file name by session \"\"\"\n",
    "    p = r'(s\\d*)_'\n",
    "    return re.findall(p, string)\n",
    "\n",
    "\n",
    "def _time_key(file_name):\n",
    "    \"\"\" provides a time-based sorting key \"\"\"\n",
    "    # the splits are specific to tuh abnormal eeg data set\n",
    "    splits = file_name.split('/')\n",
    "    p = r'(\\d{4}_\\d{2}_\\d{2})'\n",
    "    [date] = re.findall(p, splits[-2])\n",
    "    date_id = [int(token) for token in date.split('_')]\n",
    "    recording_id = natural_key(splits[-1])\n",
    "    session_id = _session_key(splits[-2])\n",
    "    return date_id + session_id + recording_id\n",
    "\n",
    "\n",
    "def read_all_file_names(path, extension, key=\"time\"):\n",
    "    \"\"\" read all files with specified extension from given path\n",
    "    :param path: parent directory holding the files directly or in\n",
    "    subdirectories\n",
    "    :param extension: the type of the file, e.g. '.txt' or '.edf'\n",
    "    :param key: the sorting of the files. natural e.g. 1, 2, 12, 21\n",
    "        (machine 1, 12, 2, 21) or by time since this is\n",
    "        important for cv. time is specified in the edf file names\n",
    "    \"\"\"\n",
    "    assert key in [\"natural\", \"time\"], \"unknown sorting key\"\n",
    "    file_paths = glob(path + '**/*' + extension, recursive=True)\n",
    "    if key == \"time\":\n",
    "        sorting_key = _time_key\n",
    "    else:\n",
    "        sorting_key = natural_key\n",
    "    file_names = sorted(file_paths, key=sorting_key)\n",
    "\n",
    "    assert len(file_names) > 0, (\"something went wrong. Found no {} files in {}\"\n",
    "                                 .format(extension, path))\n",
    "    return file_names"
   ]
  },
  {
   "cell_type": "code",
   "execution_count": 3,
   "metadata": {},
   "outputs": [],
   "source": [
    "def uniqe_ids(path):\n",
    "    all_reports = np.array(read_all_file_names(path, extension=\".txt\", key=\"time\"))\n",
    "    ids = [r.split(\"/\")[-3] for r in all_reports]\n",
    "    return all_reports, np.unique(ids)"
   ]
  },
  {
   "cell_type": "code",
   "execution_count": 4,
   "metadata": {},
   "outputs": [],
   "source": [
    "all_reports, unique_patient_ids = uniqe_ids(\"/data/schirrmr/gemeinl/tuh-abnormal-eeg/raw/v2.0.0/edf/\")"
   ]
  },
  {
   "cell_type": "code",
   "execution_count": 5,
   "metadata": {},
   "outputs": [
    {
     "data": {
      "text/plain": [
       "2993"
      ]
     },
     "execution_count": 5,
     "metadata": {},
     "output_type": "execute_result"
    }
   ],
   "source": [
    "len(all_reports)"
   ]
  },
  {
   "cell_type": "code",
   "execution_count": 6,
   "metadata": {},
   "outputs": [
    {
     "data": {
      "text/plain": [
       "2329"
      ]
     },
     "execution_count": 6,
     "metadata": {},
     "output_type": "execute_result"
    }
   ],
   "source": [
    "len(unique_patient_ids)"
   ]
  },
  {
   "cell_type": "code",
   "execution_count": 7,
   "metadata": {},
   "outputs": [],
   "source": [
    "train_normal_reports, train_normal_unique_patient_ids = uniqe_ids(\"/data/schirrmr/gemeinl/tuh-abnormal-eeg/raw/v2.0.0/edf/eval/\")"
   ]
  },
  {
   "cell_type": "code",
   "execution_count": 8,
   "metadata": {},
   "outputs": [
    {
     "data": {
      "text/plain": [
       "(276, 253)"
      ]
     },
     "execution_count": 8,
     "metadata": {},
     "output_type": "execute_result"
    }
   ],
   "source": [
    "len(train_normal_reports), len(train_normal_unique_patient_ids)"
   ]
  },
  {
   "cell_type": "code",
   "execution_count": 9,
   "metadata": {},
   "outputs": [],
   "source": [
    "train_abnormal_reports, train_abnormal_unique_patient_ids = uniqe_ids(\"/data/schirrmr/gemeinl/tuh-abnormal-eeg/raw/v2.0.0/edf/train/\")"
   ]
  },
  {
   "cell_type": "code",
   "execution_count": 10,
   "metadata": {},
   "outputs": [
    {
     "data": {
      "text/plain": [
       "(2717, 2076)"
      ]
     },
     "execution_count": 10,
     "metadata": {},
     "output_type": "execute_result"
    }
   ],
   "source": [
    "len(train_abnormal_reports), len(train_abnormal_unique_patient_ids)"
   ]
  },
  {
   "cell_type": "code",
   "execution_count": 11,
   "metadata": {},
   "outputs": [
    {
     "data": {
      "text/plain": [
       "0"
      ]
     },
     "execution_count": 11,
     "metadata": {},
     "output_type": "execute_result"
    }
   ],
   "source": [
    "len(np.intersect1d(train_normal_unique_patient_ids, train_abnormal_unique_patient_ids))"
   ]
  },
  {
   "cell_type": "code",
   "execution_count": null,
   "metadata": {},
   "outputs": [],
   "source": []
  },
  {
   "cell_type": "code",
   "execution_count": null,
   "metadata": {},
   "outputs": [],
   "source": []
  },
  {
   "cell_type": "code",
   "execution_count": null,
   "metadata": {},
   "outputs": [],
   "source": []
  },
  {
   "cell_type": "code",
   "execution_count": null,
   "metadata": {},
   "outputs": [],
   "source": []
  },
  {
   "cell_type": "code",
   "execution_count": 6,
   "metadata": {},
   "outputs": [],
   "source": [
    "def remove_exccessive_white_space(string):\n",
    "    replaces = re.sub(r'\\s+', ' ', string)\n",
    "    return replaces.strip()"
   ]
  },
  {
   "cell_type": "code",
   "execution_count": 7,
   "metadata": {},
   "outputs": [],
   "source": [
    "def merge_columns(df, merge_to, merge_from, drop=True):\n",
    "    # TODO: check that no data is overwritten by merging?\n",
    "    assert merge_to in df.columns, \"column {} not found in dataframe\".format(merge_to)\n",
    "    assert merge_from in df.columns, \"column {} not found in dataframe\".format(merge_from)\n",
    "    df[merge_to][pd.isna(df[merge_to])] = df[merge_from][pd.isna(df[merge_to])]\n",
    "    if drop:\n",
    "        df = df.drop(merge_from, axis=1)\n",
    "    return df"
   ]
  },
  {
   "cell_type": "code",
   "execution_count": 8,
   "metadata": {},
   "outputs": [],
   "source": [
    "def merge_several_columns(df, merge_to, merge_from_several, drop=True):\n",
    "    for column in merge_from_several:\n",
    "        df = merge_columns(df, merge_to, column, drop=drop)\n",
    "    return df"
   ]
  },
  {
   "cell_type": "code",
   "execution_count": 9,
   "metadata": {},
   "outputs": [],
   "source": [
    "# assume sections are given in all caps seperated only by white space characters and followed by a colon\n",
    "# assume that section text starts with a colon and is everything in between two sections\n",
    "categoy_pattern = r\"^([A-Z\\s]{2,}):{1}\"\n",
    "content_pattern = r\":(.*)\""
   ]
  },
  {
   "cell_type": "code",
   "execution_count": 19,
   "metadata": {},
   "outputs": [],
   "source": [
    "i_start = 998\n",
    "i_stop = 1001\n",
    "df = pd.DataFrame()\n",
    "for report in all_reports[i_start:i_stop]:\n",
    "    with open(report, \"rb\") as f:\n",
    "        content = f.readlines()\n",
    "    assert content, \"error reading {}\".format(report)\n",
    "    content = b'\\n'.join([line.strip() for line in content]).strip().decode(\"latin-1\")\n",
    "    categories = re.findall(categoy_pattern, content, re.MULTILINE)   \n",
    "    assert len(categories) > 0, \"no categories found\"\n",
    "\n",
    "    splits = report.split('/')\n",
    "    # add subject id, session id, label, data path and set information\n",
    "    df_row = {\"SUBJECT\": splits[-3], \"SESSION\": splits[-2], \"LABEL\": splits[-6], \n",
    "              \"PATH\": report, \"SET\": splits[-7]}\n",
    "    \n",
    "    # some recordings have multiple entries per category. skip these files for now, add later manually\n",
    "    if len(np.unique(categories)) != len(categories):\n",
    "        df = df.append(df_row, ignore_index=True)\n",
    "        continue\n",
    "    \n",
    "    # go through all subsequent pairs of categories, extract text inbetween and assign it to start category\n",
    "    for j in range(len(categories) - 1):\n",
    "        start = categories[j]\n",
    "        stop = categories[j + 1]\n",
    "        match = re.findall(start + content_pattern + stop, content, re.DOTALL)\n",
    "        assert len(match) == 1, \"found more than one match!\"\n",
    "        # remove multiple spaces and newlines\n",
    "        start = ' '.join(start.split())\n",
    "        df_row.update({start: remove_exccessive_white_space(match[0])})\n",
    "        \n",
    "    # take all text that appears after last category and assign \n",
    "    match = re.findall(stop + content_pattern, content, re.DOTALL)\n",
    "    assert len(match) == 1, \"found more than one match!\"\n",
    "    # remove multiple spaces and newlines\n",
    "    stop = ' '.join(stop.split())\n",
    "    df_row.update({stop: remove_exccessive_white_space(match[0])})\n",
    "    df = df.append(df_row, ignore_index=True)"
   ]
  },
  {
   "cell_type": "code",
   "execution_count": 20,
   "metadata": {},
   "outputs": [
    {
     "data": {
      "text/plain": [
       "3"
      ]
     },
     "execution_count": 20,
     "metadata": {},
     "output_type": "execute_result"
    }
   ],
   "source": [
    "len(df)"
   ]
  },
  {
   "cell_type": "code",
   "execution_count": 21,
   "metadata": {},
   "outputs": [
    {
     "data": {
      "text/html": [
       "<div>\n",
       "<style scoped>\n",
       "    .dataframe tbody tr th:only-of-type {\n",
       "        vertical-align: middle;\n",
       "    }\n",
       "\n",
       "    .dataframe tbody tr th {\n",
       "        vertical-align: top;\n",
       "    }\n",
       "\n",
       "    .dataframe thead th {\n",
       "        text-align: right;\n",
       "    }\n",
       "</style>\n",
       "<table border=\"1\" class=\"dataframe\">\n",
       "  <thead>\n",
       "    <tr style=\"text-align: right;\">\n",
       "      <th></th>\n",
       "      <th>CLINICAL CORRELATION</th>\n",
       "      <th>CLINICAL HISTORY</th>\n",
       "      <th>DESCRIPTION OF THE RECORD</th>\n",
       "      <th>HR</th>\n",
       "      <th>IMPRESSION</th>\n",
       "      <th>INTRODUCTION</th>\n",
       "      <th>LABEL</th>\n",
       "      <th>MEDICATIONS</th>\n",
       "      <th>PATH</th>\n",
       "      <th>SESSION</th>\n",
       "      <th>SET</th>\n",
       "      <th>SUBJECT</th>\n",
       "    </tr>\n",
       "  </thead>\n",
       "  <tbody>\n",
       "    <tr>\n",
       "      <th>0</th>\n",
       "      <td>There are no epileptiform features noted. If e...</td>\n",
       "      <td>50 year old left handed male with an episode o...</td>\n",
       "      <td>In wakefulness there is a 10 Hz alpha rhythm w...</td>\n",
       "      <td>60 bpm</td>\n",
       "      <td>Normal EEG.</td>\n",
       "      <td>Digital video EEG was performed in lab using s...</td>\n",
       "      <td>normal</td>\n",
       "      <td>Acai Berry Extract, Calcium, Vitamin D3 Melatonin</td>\n",
       "      <td>/data/schirrmr/gemeinl/tuh-abnormal-eeg/raw/v2...</td>\n",
       "      <td>s001_2011_10_11</td>\n",
       "      <td>train</td>\n",
       "      <td>00008243</td>\n",
       "    </tr>\n",
       "    <tr>\n",
       "      <th>1</th>\n",
       "      <td>NaN</td>\n",
       "      <td>NaN</td>\n",
       "      <td>NaN</td>\n",
       "      <td>NaN</td>\n",
       "      <td>NaN</td>\n",
       "      <td>NaN</td>\n",
       "      <td>abnormal</td>\n",
       "      <td>NaN</td>\n",
       "      <td>/data/schirrmr/gemeinl/tuh-abnormal-eeg/raw/v2...</td>\n",
       "      <td>s014_2011_10_11</td>\n",
       "      <td>train</td>\n",
       "      <td>00005265</td>\n",
       "    </tr>\n",
       "    <tr>\n",
       "      <th>2</th>\n",
       "      <td>There are no epileptiform features identified ...</td>\n",
       "      <td>39 year old right handed woman with 2 episodes...</td>\n",
       "      <td>In wakefulness, there is an 11 Hz alpha rhythm...</td>\n",
       "      <td>72 bpm</td>\n",
       "      <td>Normal EEG in a relatively sleepy patient.</td>\n",
       "      <td>Digital video EEG was performed in lab using s...</td>\n",
       "      <td>normal</td>\n",
       "      <td>Wellbutrin, Xanax, Percocet, Singulair, Advair</td>\n",
       "      <td>/data/schirrmr/gemeinl/tuh-abnormal-eeg/raw/v2...</td>\n",
       "      <td>s001_2011_10_12</td>\n",
       "      <td>train</td>\n",
       "      <td>00008235</td>\n",
       "    </tr>\n",
       "  </tbody>\n",
       "</table>\n",
       "</div>"
      ],
      "text/plain": [
       "                                CLINICAL CORRELATION  \\\n",
       "0  There are no epileptiform features noted. If e...   \n",
       "1                                                NaN   \n",
       "2  There are no epileptiform features identified ...   \n",
       "\n",
       "                                    CLINICAL HISTORY  \\\n",
       "0  50 year old left handed male with an episode o...   \n",
       "1                                                NaN   \n",
       "2  39 year old right handed woman with 2 episodes...   \n",
       "\n",
       "                           DESCRIPTION OF THE RECORD      HR  \\\n",
       "0  In wakefulness there is a 10 Hz alpha rhythm w...  60 bpm   \n",
       "1                                                NaN     NaN   \n",
       "2  In wakefulness, there is an 11 Hz alpha rhythm...  72 bpm   \n",
       "\n",
       "                                   IMPRESSION  \\\n",
       "0                                 Normal EEG.   \n",
       "1                                         NaN   \n",
       "2  Normal EEG in a relatively sleepy patient.   \n",
       "\n",
       "                                        INTRODUCTION     LABEL  \\\n",
       "0  Digital video EEG was performed in lab using s...    normal   \n",
       "1                                                NaN  abnormal   \n",
       "2  Digital video EEG was performed in lab using s...    normal   \n",
       "\n",
       "                                         MEDICATIONS  \\\n",
       "0  Acai Berry Extract, Calcium, Vitamin D3 Melatonin   \n",
       "1                                                NaN   \n",
       "2     Wellbutrin, Xanax, Percocet, Singulair, Advair   \n",
       "\n",
       "                                                PATH          SESSION    SET  \\\n",
       "0  /data/schirrmr/gemeinl/tuh-abnormal-eeg/raw/v2...  s001_2011_10_11  train   \n",
       "1  /data/schirrmr/gemeinl/tuh-abnormal-eeg/raw/v2...  s014_2011_10_11  train   \n",
       "2  /data/schirrmr/gemeinl/tuh-abnormal-eeg/raw/v2...  s001_2011_10_12  train   \n",
       "\n",
       "    SUBJECT  \n",
       "0  00008243  \n",
       "1  00005265  \n",
       "2  00008235  "
      ]
     },
     "execution_count": 21,
     "metadata": {},
     "output_type": "execute_result"
    }
   ],
   "source": [
    "df.head(3)"
   ]
  },
  {
   "cell_type": "code",
   "execution_count": 39,
   "metadata": {},
   "outputs": [],
   "source": [
    "df = merge_several_columns(df, \"CLINICAL CORRELATION\", [\"CORRELATION\", \"CLINICAL COURSE\", \"CLINICAL CORRELATIONS\", \"CLINICAL CORRELATE\",\n",
    "                                                        \"CLINICAL INTERPRETATION\", \"CLINICAL CORR ELATION\", \"NOTE\"])  # not sure about merging note"
   ]
  },
  {
   "cell_type": "code",
   "execution_count": 40,
   "metadata": {},
   "outputs": [],
   "source": [
    "df = merge_several_columns(df, \"CLINICAL HISTORY\", [\"HISTORY\", \"CLINICAL\", \"M CLINICAL HISTORY\", \"EEG REPORT CLINICAL HISTORY\", \n",
    "                                                    \"HOSPITAL COURSE\", \"BASELINE EEG CLINICAL HISTORY\", \"EEG NUMBER\",\n",
    "                                                    \"ORIGINAL CLINICAL HISTORY\"])"
   ]
  },
  {
   "cell_type": "code",
   "execution_count": 41,
   "metadata": {},
   "outputs": [],
   "source": [
    "df = merge_several_columns(df, \"DESCRIPTION OF THE RECORD\", [\"DESCRIPTION OF RECORD\", \"DESCRIPTION RECORD\", \"DESCRIPTION OF RECORDING\", \n",
    "                                                             \"DESCRIPTION OF THE RECORDING\", \"DESCRIPTION OF THE PROCEDURE\", \n",
    "                                                             \"DESCRIPTION OF BACKGROUND\", \"DESCRIPTION OF PROCEDURE\", \"OF THE RECORD\",\n",
    "                                                             \"DESCRIPTION THE RECORD\"])"
   ]
  },
  {
   "cell_type": "code",
   "execution_count": 42,
   "metadata": {},
   "outputs": [],
   "source": [
    "df = merge_several_columns(df, \"MEDICATIONS\", [\"MEDICATION\", \"CURRENT MEDICATIONS\", \"MEDICINES\"])"
   ]
  },
  {
   "cell_type": "code",
   "execution_count": 43,
   "metadata": {},
   "outputs": [],
   "source": [
    "df = merge_several_columns(df, \"HEART RATE\", [\"HEAR RATE\", \"HR\"])"
   ]
  },
  {
   "cell_type": "code",
   "execution_count": 44,
   "metadata": {},
   "outputs": [],
   "source": [
    "df = merge_several_columns(df, \"IMPRESSION\", [\"CLINICAL IMPRESSION\"])"
   ]
  },
  {
   "cell_type": "code",
   "execution_count": 45,
   "metadata": {},
   "outputs": [],
   "source": [
    "df = merge_several_columns(df, \"FINDINGS\", [\"ABNORMAL FINDINGS\"])"
   ]
  },
  {
   "cell_type": "code",
   "execution_count": 46,
   "metadata": {},
   "outputs": [],
   "source": [
    "df = merge_several_columns(df, \"EVENTS\", ['SEIZURE EVENTS', 'SEIZURES OR EPISODES', 'EVENT', 'EPISODES', 'CLINICAL EVENTS',\n",
    "                                          \"EPISODES OR EVENTS\", \"EPISODES DURING THE RECORDING\", \"REFERRING FOR STUDY\",\n",
    "                                          \"EVENTS OF PUSHBUTTON\", \"SEIZURES\", \"SEIZURE ACTIVITY\"])"
   ]
  },
  {
   "cell_type": "code",
   "execution_count": 47,
   "metadata": {},
   "outputs": [],
   "source": [
    "df = merge_several_columns(df, \"TECHNICAL DIFFICULTIES\", [\"TECHNICAL PROBLEMS\", \"TECHNICAL DIFFICULTY\", \"CLINICAL DIFFICULTIES\", \"TECHNICAL DISCHARGES\", \n",
    "                                                          \"TECHNICAL NOTES\", \"TECHNICAL ISSUES\", \"TECHNIQUE DIFFICULTIES\", \"TECHNICAL CONSIDERATIONS\",\n",
    "                                                          \"TECHNICAL QUALITY\", \"TECHNICAL\", \"ARTIFACTS\"])"
   ]
  },
  {
   "cell_type": "code",
   "execution_count": 48,
   "metadata": {},
   "outputs": [],
   "source": [
    "df = merge_several_columns(df, \"CONDITION OF THE RECORDING\", [\"CONDITIONS OF THE RECORDING\", \"CONDITION OF RECORDING\", \n",
    "                                                              \"CONDITIONS OF RECORDING\"])"
   ]
  },
  {
   "cell_type": "code",
   "execution_count": 49,
   "metadata": {},
   "outputs": [],
   "source": [
    "df = merge_several_columns(df, \"REASON FOR STUDY\", [\"REASON\", \"REASON FOR STUDIES\", \"REASON FOR EGG\", \"REASON FOR THE STUDY\"])"
   ]
  },
  {
   "cell_type": "code",
   "execution_count": 50,
   "metadata": {},
   "outputs": [],
   "source": [
    "df = merge_several_columns(df, \"FINDINGS\", [\"DIAGNOSES\", \"DIAGNOSIS\", \"ABNORMAL DISCHARGES\", \"ABNORMAL DISCHARGE\", \n",
    "                                            \"EEG\", \"RECOMMENDATIONS\"])  # not sure about merging recommendations"
   ]
  },
  {
   "cell_type": "code",
   "execution_count": 51,
   "metadata": {},
   "outputs": [],
   "source": [
    "df = merge_several_columns(df, \"PAST MEDICAL HISTORY\", [\"PAST HISTORY\"])"
   ]
  },
  {
   "cell_type": "code",
   "execution_count": 52,
   "metadata": {},
   "outputs": [],
   "source": [
    "df = merge_several_columns(df, \"ACTIVATION PROCEDURES\", [\"ACTIVATION PROCEDURE\", \"ACTIVATING PROCEDURES\", ])"
   ]
  },
  {
   "cell_type": "code",
   "execution_count": 53,
   "metadata": {},
   "outputs": [],
   "source": [
    "df = merge_several_columns(df, \"REASON FOR STUDY\", [\"REASON FOR EEG\", \"REASON FOR PROCEDURE\"])"
   ]
  },
  {
   "cell_type": "code",
   "execution_count": 54,
   "metadata": {},
   "outputs": [],
   "source": [
    "for drop_column in [\"RECORDING TIMES\", \"RECORDING START TIME\", \"RECORDING END TIME\", \"RECORD FINISH TIME\", \"RECORD START TIME\", \n",
    "                    \"TOTAL LENGTH OF THE RECORDING\", \"RECORDING LENGTH\", \"TIME OF RECORDING\", \"LENGTH OF ELECTROENCEPHALOGRAM\", \n",
    "                    \"EEG LENGTH\", \"LENGTH OF EEG\", \"LENGTH OF PROCEDURE\", \"LENGTH OF THE RECORDING\", \"LENGTH OF THE EEG\", \n",
    "                    \"LENGTH OF RECORDING\", \"STUDY DATE\", \"DATE OF RECORDING\", \"EGG LENGTH\", \"TIME\", \"DURATION OF STUDY\", \n",
    "                    \"STUDY DURATION\", \"DATE OF THE RECORDING\", \"DATE OF STUDY\", \"DATES OF STUDY\", \"DT\", \"DD\", \"DENTAL PROBLEMS\", \n",
    "                    \"STAGES\", \"REASON FOR SEIZURES\", \"SEIZURES OR PUSHBUTTON EVENTS\", \"FEATURES\", \"INPATIENT ROOM\", \"EKG\",\n",
    "                    \"DATE\", \"SLEEP\"]:\n",
    "    df = df.drop(drop_column, axis=1)"
   ]
  },
  {
   "cell_type": "code",
   "execution_count": 55,
   "metadata": {},
   "outputs": [
    {
     "data": {
      "text/html": [
       "<div>\n",
       "<style scoped>\n",
       "    .dataframe tbody tr th:only-of-type {\n",
       "        vertical-align: middle;\n",
       "    }\n",
       "\n",
       "    .dataframe tbody tr th {\n",
       "        vertical-align: top;\n",
       "    }\n",
       "\n",
       "    .dataframe thead th {\n",
       "        text-align: right;\n",
       "    }\n",
       "</style>\n",
       "<table border=\"1\" class=\"dataframe\">\n",
       "  <thead>\n",
       "    <tr style=\"text-align: right;\">\n",
       "      <th></th>\n",
       "      <th>CLINICAL CORRELATION</th>\n",
       "      <th>CLINICAL HISTORY</th>\n",
       "      <th>DESCRIPTION OF THE RECORD</th>\n",
       "      <th>IMPRESSION</th>\n",
       "      <th>INTRODUCTION</th>\n",
       "      <th>LABEL</th>\n",
       "      <th>MEDICATIONS</th>\n",
       "      <th>PATH</th>\n",
       "      <th>SESSION</th>\n",
       "      <th>SET</th>\n",
       "      <th>...</th>\n",
       "      <th>REASON FOR STUDY</th>\n",
       "      <th>TECHNICAL DIFFICULTIES</th>\n",
       "      <th>NOTE</th>\n",
       "      <th>EVENTS</th>\n",
       "      <th>FINDINGS</th>\n",
       "      <th>ACTIVATION PROCEDURES</th>\n",
       "      <th>PAST MEDICAL HISTORY</th>\n",
       "      <th>TYPE OF STUDY</th>\n",
       "      <th>CONDITION OF THE RECORDING</th>\n",
       "      <th>HEART RATE</th>\n",
       "    </tr>\n",
       "  </thead>\n",
       "  <tbody>\n",
       "    <tr>\n",
       "      <th>0</th>\n",
       "      <td>This prolonged outpatient sleep deprived EEG w...</td>\n",
       "      <td>Schizophrenia, memory loss.</td>\n",
       "      <td>In wakefulness, background EEG is well organiz...</td>\n",
       "      <td>Normal EEG.</td>\n",
       "      <td>Digital video EEG is performed in the lab usin...</td>\n",
       "      <td>normal</td>\n",
       "      <td>Geodon, simvastatin, benztropine, Norvasc.</td>\n",
       "      <td>/data/schirrmr/gemeinl/tuh-abnormal-eeg/raw/v2...</td>\n",
       "      <td>s001_2009_09_03</td>\n",
       "      <td>eval</td>\n",
       "      <td>...</td>\n",
       "      <td>NaN</td>\n",
       "      <td>NaN</td>\n",
       "      <td>NaN</td>\n",
       "      <td>NaN</td>\n",
       "      <td>NaN</td>\n",
       "      <td>NaN</td>\n",
       "      <td>NaN</td>\n",
       "      <td>NaN</td>\n",
       "      <td>NaN</td>\n",
       "      <td>NaN</td>\n",
       "    </tr>\n",
       "    <tr>\n",
       "      <th>1</th>\n",
       "      <td>This is the third normal EEG for this individu...</td>\n",
       "      <td>Seizures.</td>\n",
       "      <td>In wakefulness, there is a 9.8 Hz alpha rhythm...</td>\n",
       "      <td>Normal electroencephalogram.</td>\n",
       "      <td>Digital video EEG is performed in the lab usin...</td>\n",
       "      <td>normal</td>\n",
       "      <td>Dilantin, Lipitor.</td>\n",
       "      <td>/data/schirrmr/gemeinl/tuh-abnormal-eeg/raw/v2...</td>\n",
       "      <td>s003_2009_09_03</td>\n",
       "      <td>eval</td>\n",
       "      <td>...</td>\n",
       "      <td>NaN</td>\n",
       "      <td>NaN</td>\n",
       "      <td>NaN</td>\n",
       "      <td>NaN</td>\n",
       "      <td>NaN</td>\n",
       "      <td>NaN</td>\n",
       "      <td>NaN</td>\n",
       "      <td>NaN</td>\n",
       "      <td>NaN</td>\n",
       "      <td>NaN</td>\n",
       "    </tr>\n",
       "    <tr>\n",
       "      <th>2</th>\n",
       "      <td>No focal nor epileptiform features are identif...</td>\n",
       "      <td>Sixty-five-year-old woman with a previous eval...</td>\n",
       "      <td>The background EEG is appropriately organized ...</td>\n",
       "      <td>Normal EEG in wakefulness.</td>\n",
       "      <td>Digital video EEG is performed in the lab usin...</td>\n",
       "      <td>normal</td>\n",
       "      <td>Norvasc.</td>\n",
       "      <td>/data/schirrmr/gemeinl/tuh-abnormal-eeg/raw/v2...</td>\n",
       "      <td>s001_2009_09_04</td>\n",
       "      <td>eval</td>\n",
       "      <td>...</td>\n",
       "      <td>NaN</td>\n",
       "      <td>NaN</td>\n",
       "      <td>NaN</td>\n",
       "      <td>NaN</td>\n",
       "      <td>NaN</td>\n",
       "      <td>NaN</td>\n",
       "      <td>NaN</td>\n",
       "      <td>NaN</td>\n",
       "      <td>NaN</td>\n",
       "      <td>NaN</td>\n",
       "    </tr>\n",
       "  </tbody>\n",
       "</table>\n",
       "<p>3 rows × 21 columns</p>\n",
       "</div>"
      ],
      "text/plain": [
       "                                CLINICAL CORRELATION  \\\n",
       "0  This prolonged outpatient sleep deprived EEG w...   \n",
       "1  This is the third normal EEG for this individu...   \n",
       "2  No focal nor epileptiform features are identif...   \n",
       "\n",
       "                                    CLINICAL HISTORY  \\\n",
       "0                        Schizophrenia, memory loss.   \n",
       "1                                          Seizures.   \n",
       "2  Sixty-five-year-old woman with a previous eval...   \n",
       "\n",
       "                           DESCRIPTION OF THE RECORD  \\\n",
       "0  In wakefulness, background EEG is well organiz...   \n",
       "1  In wakefulness, there is a 9.8 Hz alpha rhythm...   \n",
       "2  The background EEG is appropriately organized ...   \n",
       "\n",
       "                     IMPRESSION  \\\n",
       "0                   Normal EEG.   \n",
       "1  Normal electroencephalogram.   \n",
       "2    Normal EEG in wakefulness.   \n",
       "\n",
       "                                        INTRODUCTION   LABEL  \\\n",
       "0  Digital video EEG is performed in the lab usin...  normal   \n",
       "1  Digital video EEG is performed in the lab usin...  normal   \n",
       "2  Digital video EEG is performed in the lab usin...  normal   \n",
       "\n",
       "                                  MEDICATIONS  \\\n",
       "0  Geodon, simvastatin, benztropine, Norvasc.   \n",
       "1                          Dilantin, Lipitor.   \n",
       "2                                    Norvasc.   \n",
       "\n",
       "                                                PATH          SESSION   SET  \\\n",
       "0  /data/schirrmr/gemeinl/tuh-abnormal-eeg/raw/v2...  s001_2009_09_03  eval   \n",
       "1  /data/schirrmr/gemeinl/tuh-abnormal-eeg/raw/v2...  s003_2009_09_03  eval   \n",
       "2  /data/schirrmr/gemeinl/tuh-abnormal-eeg/raw/v2...  s001_2009_09_04  eval   \n",
       "\n",
       "   ... REASON FOR STUDY TECHNICAL DIFFICULTIES NOTE EVENTS FINDINGS  \\\n",
       "0  ...              NaN                    NaN  NaN    NaN      NaN   \n",
       "1  ...              NaN                    NaN  NaN    NaN      NaN   \n",
       "2  ...              NaN                    NaN  NaN    NaN      NaN   \n",
       "\n",
       "  ACTIVATION PROCEDURES PAST MEDICAL HISTORY TYPE OF STUDY  \\\n",
       "0                   NaN                  NaN           NaN   \n",
       "1                   NaN                  NaN           NaN   \n",
       "2                   NaN                  NaN           NaN   \n",
       "\n",
       "  CONDITION OF THE RECORDING HEART RATE  \n",
       "0                        NaN        NaN  \n",
       "1                        NaN        NaN  \n",
       "2                        NaN        NaN  \n",
       "\n",
       "[3 rows x 21 columns]"
      ]
     },
     "execution_count": 55,
     "metadata": {},
     "output_type": "execute_result"
    }
   ],
   "source": [
    "df.head(3)"
   ]
  },
  {
   "cell_type": "code",
   "execution_count": 56,
   "metadata": {},
   "outputs": [
    {
     "name": "stdout",
     "output_type": "stream",
     "text": [
      "['CLINICAL CORRELATION', 'CLINICAL HISTORY', 'DESCRIPTION OF THE RECORD', 'IMPRESSION', 'INTRODUCTION', 'LABEL', 'MEDICATIONS', 'PATH', 'SESSION', 'SET', 'SUBJECT', 'REASON FOR STUDY', 'TECHNICAL DIFFICULTIES', 'NOTE', 'EVENTS', 'FINDINGS', 'ACTIVATION PROCEDURES', 'PAST MEDICAL HISTORY', 'TYPE OF STUDY', 'CONDITION OF THE RECORDING', 'HEART RATE']\n"
     ]
    }
   ],
   "source": [
    "print([c for c in df.columns])"
   ]
  },
  {
   "cell_type": "code",
   "execution_count": null,
   "metadata": {},
   "outputs": [],
   "source": []
  },
  {
   "cell_type": "code",
   "execution_count": 75,
   "metadata": {},
   "outputs": [
    {
     "data": {
      "text/plain": [
       "CLINICAL CORRELATION          2666\n",
       "CLINICAL HISTORY              2952\n",
       "DESCRIPTION OF THE RECORD     2956\n",
       "IMPRESSION                    2970\n",
       "INTRODUCTION                  2826\n",
       "LABEL                         2993\n",
       "MEDICATIONS                   2920\n",
       "PATH                          2993\n",
       "SESSION                       2993\n",
       "SET                           2993\n",
       "SUBJECT                       2993\n",
       "REASON FOR STUDY               716\n",
       "TECHNICAL DIFFICULTIES         681\n",
       "NOTE                             1\n",
       "EVENTS                         563\n",
       "FINDINGS                       888\n",
       "ACTIVATION PROCEDURES            8\n",
       "PAST MEDICAL HISTORY            18\n",
       "TYPE OF STUDY                   15\n",
       "CONDITION OF THE RECORDING     115\n",
       "HEART RATE                    1478\n",
       "dtype: int64"
      ]
     },
     "execution_count": 75,
     "metadata": {},
     "output_type": "execute_result"
    }
   ],
   "source": [
    "len(df) - pd.isna(df).sum()"
   ]
  },
  {
   "cell_type": "code",
   "execution_count": null,
   "metadata": {},
   "outputs": [],
   "source": []
  },
  {
   "cell_type": "code",
   "execution_count": null,
   "metadata": {},
   "outputs": [],
   "source": []
  },
  {
   "cell_type": "markdown",
   "metadata": {},
   "source": [
    "checking individual cases"
   ]
  },
  {
   "cell_type": "code",
   "execution_count": 81,
   "metadata": {},
   "outputs": [],
   "source": [
    "column = \"INTRODUCTION\""
   ]
  },
  {
   "cell_type": "code",
   "execution_count": 82,
   "metadata": {},
   "outputs": [
    {
     "data": {
      "text/plain": [
       "0       Digital video EEG is performed in the lab usin...\n",
       "1       Digital video EEG is performed in the lab usin...\n",
       "2       Digital video EEG is performed in the lab usin...\n",
       "3       A 38-year-old right-handed woman with epilepsy...\n",
       "4       Digital video EEG was performed in lab using s...\n",
       "5       Digital video EEG was performed in lab using s...\n",
       "6       Digital video EEG was performed in lab using s...\n",
       "7       Digital video EEG was performed at bedside usi...\n",
       "8       Digital video EEG was performed in lab using s...\n",
       "9       Digital video EEG was performed in lab using s...\n",
       "10      Digital video EEG was performed in lab/bed usi...\n",
       "11      Digital video EEG was performed in lab using s...\n",
       "12      Digital video EEG was performed in lab using s...\n",
       "13      Digital video EEG was performed in lab using s...\n",
       "14      Digital video EEG was performed in lab using s...\n",
       "15      Digital video EEG was performed in lab using s...\n",
       "16      Digital video EEG was performed in lab using s...\n",
       "17      Digital video EEG was performed in lab using s...\n",
       "18      Digital video EEG was performed in lab using s...\n",
       "19      Digital video EEG was performed in lab using s...\n",
       "20      Digital video EEG was performed in lab using s...\n",
       "21      Digital video EEG was performed in lab using s...\n",
       "22      Digital video EEG was performed at bedside usi...\n",
       "23      Digital video EEG was performed in lab using s...\n",
       "24      Digital video EEG was performed in lab using s...\n",
       "25      Digital video EEG was performed in lab using s...\n",
       "26      Digital video EEG was performed in lab using s...\n",
       "27      Digital video EEG was performed in lab using s...\n",
       "28      Digital video EEG was performed in lab using s...\n",
       "29      Digital video EEG was performed in lab using s...\n",
       "                              ...                        \n",
       "2962    Digital video EEG was performed in the lab usi...\n",
       "2963    Digital video EEG was performed at bedside in ...\n",
       "2964    Digital video EEG was performed in the lab usi...\n",
       "2965    Digital video EEG is performed at bedside in t...\n",
       "2966    Digital video EEG was performed in the lab usi...\n",
       "2967    Digital video EEG was performed in the lab usi...\n",
       "2968    Digital video EEG was performed in the lab usi...\n",
       "2969    Digital video EEG is performed in the lab/beds...\n",
       "2970    Digital video EEG was performed in the lab usi...\n",
       "2971    Digital video EEG was performed in the lab usi...\n",
       "2972    Digital video EEG was performed at bedside in ...\n",
       "2973    Continuous EEG monitoring was performed at the...\n",
       "2974    Continuous EEG monitoring was performed in the...\n",
       "2975    This 25-minute digital video EEG was performed...\n",
       "2976    Digital video EEG was performed in the lab usi...\n",
       "2977    Digital video EEG was performed in lab using s...\n",
       "2978    Digital video EEG was performed at the bedside...\n",
       "2979    Digital video EEG was performed in lab using s...\n",
       "2980    Digital video EEG was performed in the lab usi...\n",
       "2981    Digital video EEG was performed In the Jab usi...\n",
       "2983    Digital video EEG was performed at bedside In ...\n",
       "2984    Digital video EEG is performed in the lab usin...\n",
       "2985    Digital video EEG was performed in the lab usi...\n",
       "2986    Digital video EEG was performed at bedside in ...\n",
       "2987    Digital video EEG was performed in the lab usi...\n",
       "2988    Digital video EEG is performed in the lab usin...\n",
       "2989    Digital video EEG was performed in the lab usi...\n",
       "2990    Digital video EEG is performed in he lab using...\n",
       "2991    Digital video EEG was performed in the lab usi...\n",
       "2992    Digital video EEG was performed in the lab usi...\n",
       "Name: INTRODUCTION, Length: 2826, dtype: object"
      ]
     },
     "execution_count": 82,
     "metadata": {},
     "output_type": "execute_result"
    }
   ],
   "source": [
    "df[column][~pd.isna(df[column])]"
   ]
  },
  {
   "cell_type": "code",
   "execution_count": 65,
   "metadata": {},
   "outputs": [
    {
     "data": {
      "text/plain": [
       "CLINICAL CORRELATION                                                        NaN\n",
       "CLINICAL HISTORY              The patient is a 16-year-old man with episodes...\n",
       "DESCRIPTION OF THE RECORD     The posterior dominant rhythm consists of a we...\n",
       "IMPRESSION                    This is a normal awake and briefly drowsy 22-m...\n",
       "INTRODUCTION                  Digital video EEG is performed using standard ...\n",
       "LABEL                                                                    normal\n",
       "MEDICATIONS                                                             Keppra.\n",
       "PATH                          /data/schirrmr/gemeinl/tuh-abnormal-eeg/raw/v2...\n",
       "SESSION                                                         s001_2012_09_24\n",
       "SET                                                                       train\n",
       "SUBJECT                                                                00009703\n",
       "REASON FOR STUDY                                                            NaN\n",
       "TECHNICAL DIFFICULTIES                                                      NaN\n",
       "NOTE                                                                        NaN\n",
       "EVENTS                                                                      NaN\n",
       "FINDINGS                              Normal awake and very briefly drowsy EEG.\n",
       "ACTIVATION PROCEDURES                                            HV and photic.\n",
       "PAST MEDICAL HISTORY                                                        NaN\n",
       "TYPE OF STUDY                                                               NaN\n",
       "CONDITION OF THE RECORDING                                                  NaN\n",
       "HEART RATE                                                                  NaN\n",
       "Name: 1943, dtype: object"
      ]
     },
     "execution_count": 65,
     "metadata": {},
     "output_type": "execute_result"
    }
   ],
   "source": [
    "df.iloc[1943]"
   ]
  },
  {
   "cell_type": "code",
   "execution_count": 305,
   "metadata": {},
   "outputs": [
    {
     "data": {
      "text/plain": [
       "471    These findings are similar to a previous study...\n",
       "Name: CLINICAL COURSE, dtype: object"
      ]
     },
     "execution_count": 305,
     "metadata": {},
     "output_type": "execute_result"
    }
   ],
   "source": [
    "df[\"CLINICAL COURSE\"][~pd.isna(df[\"CLINICAL COURSE\"])]"
   ]
  },
  {
   "cell_type": "code",
   "execution_count": 269,
   "metadata": {},
   "outputs": [
    {
     "data": {
      "text/plain": [
       "300    : None\n",
       "Name: TECHNICAL DISCHARGES, dtype: object"
      ]
     },
     "execution_count": 269,
     "metadata": {},
     "output_type": "execute_result"
    }
   ],
   "source": [
    "df[\"TECHNICAL DISCHARGES\"][~pd.isna(df[\"TECHNICAL DISCHARGES\"])]"
   ]
  },
  {
   "cell_type": "code",
   "execution_count": 270,
   "metadata": {},
   "outputs": [
    {
     "data": {
      "text/plain": [
       "297    None.\n",
       "299    None.\n",
       "Name: ABNORMAL DISCHARGE, dtype: object"
      ]
     },
     "execution_count": 270,
     "metadata": {},
     "output_type": "execute_result"
    }
   ],
   "source": [
    "df[\"ABNORMAL DISCHARGE\"][~pd.isna(df[\"ABNORMAL DISCHARGE\"])]"
   ]
  },
  {
   "cell_type": "code",
   "execution_count": 277,
   "metadata": {},
   "outputs": [
    {
     "data": {
      "text/plain": [
       "219    Increased temporalis muscle artifact throughou...\n",
       "350                                                None.\n",
       "Name: CLINICAL DIFFICULTIES, dtype: object"
      ]
     },
     "execution_count": 277,
     "metadata": {},
     "output_type": "execute_result"
    }
   ],
   "source": [
    "df[\"CLINICAL DIFFICULTIES\"][~pd.isna(df[\"CLINICAL DIFFICULTIES\"])]"
   ]
  },
  {
   "cell_type": "code",
   "execution_count": 272,
   "metadata": {},
   "outputs": [
    {
     "data": {
      "text/plain": [
       "'/data/schirrmr/gemeinl/tuh-abnormal-eeg/raw/v2.0.0/edf/train/normal/01_tcp_ar/083/00008366/s001_2011_10_24/00008366_s001.txt'"
      ]
     },
     "execution_count": 272,
     "metadata": {},
     "output_type": "execute_result"
    }
   ],
   "source": [
    "df[\"PATH\"].iloc[299]"
   ]
  },
  {
   "cell_type": "code",
   "execution_count": 273,
   "metadata": {},
   "outputs": [
    {
     "name": "stdout",
     "output_type": "stream",
     "text": [
      "CLINICAL HISTORY:  71 year old right handed man presents for left CEA.  Past medical history significant for diabetes, hypertension, coronary artery disease, gout, BPH, anxiety, depression, and GERD.\n",
      "MEDICATIONS:  Metformin, Zocor, Topamax.\n",
      "REASON FOR EEG:  Baseline for CEA.\n",
      "INTRODUCTION:  Digital video EEG was performed in lab using standard 10-20 electrode placement system with anterior temporal and EKG electrodes.  The EEG was recorded in wakefulness and photic stimulation was performed.\n",
      "TECHNICAL DIFFICULTIES:  None.\n",
      "DESCRIPTION OF THE RECORD:  The record opens to a well-formed posterior dominant rhythm at 9 to10 Hz and amplitude of 20-60 microvolts.  This is reactive to eye opening.  Normal frontocentral beta is seen.  The EEG is only recorded during wakefulness.  Photic stimulation does not reveal any abnormal discharges.\n",
      "ABNORMAL DISCHARGE:  None.\n",
      "SEIZURES:    None.\n",
      "IMPRESSION:  Normal awake EEG.\n",
      "CLINICAL CORRELATION:  No seizures or epileptiform discharges were seen.\n",
      "\n",
      "\n",
      "\n"
     ]
    }
   ],
   "source": [
    "!cat /data/schirrmr/gemeinl/tuh-abnormal-eeg/raw/v2.0.0/edf/train/normal/01_tcp_ar/083/00008366/s001_2011_10_24/00008366_s001.txt"
   ]
  },
  {
   "cell_type": "code",
   "execution_count": 334,
   "metadata": {},
   "outputs": [
    {
     "name": "stdout",
     "output_type": "stream",
     "text": [
      "CLINICAL HISTORY: 26 year old right handed woman with epilepsy, multiple different types of seizures occurring quite frequently, increasing over the past week.\n",
      "\n",
      "MEDICATIONS: Keppra.\n",
      "\n",
      "INTRODUCTION: Digital video EEG was performed in lab using standard 10-20 system of electrode placement with 1 channel EKG. Hyperventilation and photic stimulation are performed.\n",
      "\n",
      "DESCRIPTION OF THE RECORD: In wakefulness, there Is a 10Hz, 40 microvolt posterior dominant rhythm. Features of drowsiness include slow rolling eye movements followed by POSTS. Vertex waves are observed in stage I sleep. Stage II sleep was characterized by vertex waves and spindles. Hyperventilation is performed with good effort, producing an increase in amplitude of the background. Photic stimulation elicits bilateral driving.\n",
      "\n",
      "HR: 80 bpm\n",
      "\n",
      "IMPRESSION: Normal EEG.\n",
      "\n",
      "CLINICAL CORRELATION: These findings are identical to previous studies which include a 2007 prolonged EEG monitoring session which identified multiple behaviors without EEG correlate.\n",
      "\n",
      "LONG TERM MONITORING - 07/07/2010 - 10-68\n",
      "\n",
      "DESCRIPTION OF THE RECORD: In wakefulness, there is a 10Hz alpha rhythm. Stage II sleep is characterized by vertex waves and spindles.\n",
      "\n",
      "Event:\n",
      "Time 21:39:05. the patient is awake, watching television. She is eating an apple. The EEG demonstrates a normal and awake pattern. The nurse comes in and tests the patient who is coherent. There are no epileptiform features noted.\n",
      "\n",
      "LONG TERM MONITORING - 07-08-2010 - 10-68\n",
      "\n",
      "INTRODUCTION: Continuous digital video EEG monitoring is performed in the unit using the standard 1 0-20 system of electrode placement with one-channel EKG. This section of the record includes sleep deprivation. The patient reports an aura characterized by headache and dizziness but has none of her spells with shaking.\n",
      "\n",
      "DESCRIPTION OF THE RECORD: The background EEG includes well-organized 10 Hz alpha rhythm. Stage II sleep includes vertex waves, K complexes, and spindles. The computerized seizure and spike detections are reviewed. No epileptiform features are identified at that time. The time samples in question were reviewed. No epileptiform findings were noted. In wakefulness, there is a 10 Hz alpha rhythm. Stage II sleep is characterized by vertex waves and spindles.\n",
      "\n",
      "Event:\n",
      "Time 21 :39:05. the patient is awake, watching television. She is eating an apple. The EEG demonstrates a normal and awake pattern. The nurse comes in and tests the patient who is coherent. There are no epileptiform features noted.\n",
      "\n",
      "HR: 60 to 80 bpm.\n",
      "\n",
      "IMPRESSION: This EEG monitoring is remarkable for:\n",
      "1. Two events characterized by an aura, one of which had a push-button and neither which had an EEG signature.\n",
      "2. Norma148-hour EEG without epileptiform activity.\n",
      "3. An inability to record one of her shaking spells.\n",
      "\n",
      "CLINICAL CORRELATION: A normal EEG was seen during her 2007 long-term monitoring period. Behaviors at that time were not associated with epileptiform activity. If capturing one of this patients shaking spells is needed, please consider an outpatient ambulatory EEG.\n",
      "\n",
      "\n",
      "\n",
      "\n",
      "\n"
     ]
    }
   ],
   "source": [
    "!cat /data/schirrmr/gemeinl/tuh-abnormal-eeg/raw/v2.0.0/edf/train/normal/01_tcp_ar/067/00006766/s001_2010_07_06/00006766_s001.txt"
   ]
  },
  {
   "cell_type": "markdown",
   "metadata": {},
   "source": [
    "df.to_csv(\"/data/schirrmr/gemeinl/tuh-abnormal-eeg/reports/reports_{}_{}.csv\".format(i_start, i_stop))"
   ]
  },
  {
   "cell_type": "code",
   "execution_count": 115,
   "metadata": {},
   "outputs": [
    {
     "name": "stdout",
     "output_type": "stream",
     "text": [
      "CLINICAL HISTORY:  A 24-year-old male with new onset seizures one year ago after toxic ingestion.  The patient subsequently had 4 seizures after alcohol consumption on May 11 and a seizure May 12, a 15-20 minute tonic clonic seizure with postictal confusion.\n",
      "MEDICATIONS:  Depakote, buspirone, trazodone, Cymbalta, and others.\n",
      "INTRODUCTION:  Digital video EEG was performed in the lab using standard 10-20 system of electrode placement with 1 channel EKG.  Hyperventilation and photic stimulation were completed.\n",
      "TECHNICAL:  There is some muscle artifact at T4, otherwise satisfactory.\n",
      "DESCRIPTION OF THE RECORD:  In wakefulness, there is a 10 Hz 40 mV alpha rhythm with a small amount of low voltage, frontal central beta.\n",
      "Hyperventilation was performed early in the record producing an increase in amplitude.  Drowsiness is characterized by slowing of the alpha rhythm with rhythmic central theta, multiple arousals in and out of wakefulness and drowsiness were noted.  Deeper stages of sleep were not achieved.\n",
      "Photic stimulation did not significantly activate the record.\n",
      "Heart rate:  90 BPM.\n",
      "IMPRESSION:  EEG within normal limits in wakefulness and drowsiness.\n",
      "CLINICAL CORRELATION:  No focal or epileptiform features were identified in this record.  If epilepsy is an important consideration a follow up study capturing deeper stages of sleep is suggested.\n",
      "\n",
      "\n",
      "\n"
     ]
    }
   ],
   "source": [
    "!cat /data/schirrmr/gemeinl/tuh-abnormal-eeg/raw/v2.0.0/edf/train/normal/01_tcp_ar/103/00010316/s001_2013_05_14/00010316_s001.txt"
   ]
  },
  {
   "cell_type": "code",
   "execution_count": 178,
   "metadata": {},
   "outputs": [
    {
     "name": "stdout",
     "output_type": "stream",
     "text": [
      "MEDICATIONS:  Tegretol\n",
      "HISTORY:  A 28-year-old woman with recurrent black outs with an aura of left posterior headaches since the age of 13, date of most recent event unknown.\n",
      "INTRODUCTION:  Digital video EEG was performed in the lab using standard 10.20  system with 1-channel EKG.  Hyperventilation was completed.  Photic stimulation was not completed.\n",
      "DESCRIPTION OF BACKGROUND:  In apparent wakefulness, there is an 8 Hertz alpha rhythm with a background with excess theta.  Testing was performed to assure maximal wakefulness and there is some improvement that the background remains with a small amount of excess theta.  Hyperventilation was performed early on in the record producing an increase in amplitude of the background as well as some slowing and head rocking artifact.  Head rocking artifact is noted in the occipitoparietal region, right more so than the left.\n",
      "Deeper stages of sleep were not sustained.  The technologist did extend the EEG but did not capture sleep, although testing was performed for wakefulness.\n",
      "Heart rate 72 bpm.\n",
      "IMPRESSION:  This is an abnormal EEG for an adult of this age due to:\n",
      "Mild slowing of the background alpha rhythm.\n",
      "Excess theta.\n",
      "CLINICAL CORRELATION:  No epileptiform features were identified.  The pattern described above is a nonspecific pattern which might reflect medication affect.  To more completely evaluate this patient for her epilepsy, a repeat study with deeper stages of sleep and photic stimulation is suggested.\n",
      "\n",
      "\n",
      "\n"
     ]
    }
   ],
   "source": [
    "!cat /data/schirrmr/gemeinl/tuh-abnormal-eeg/raw/v2.0.0/edf/train/abnormal/01_tcp_ar/100/00010026/s001_2013_02_19/00010026_s001.txt"
   ]
  },
  {
   "cell_type": "code",
   "execution_count": 203,
   "metadata": {},
   "outputs": [
    {
     "name": "stdout",
     "output_type": "stream",
     "text": [
      "EEG REPORT\n",
      "CLINICAL HISTORY: 29 year old right handed male with a past gunshot wound to the head, left encephalomalacia, parietal lobe injury, now with recurrent seizures after the patient stopped his medications.\n",
      "MEDICATIONS: Keppra, Lamictal, Lovenox\n",
      "INTRODUCTION: Digital video EEG was performed in lab using standard 10-20 system of electrode placement with 1 channel of EKG. hyperventilation and photic stimulation were completed.\n",
      "DESCRIPTION OF THE RECORD: In wakefulness, there is an 8.3 Hz alpha rhythm present bilaterally but somewhat disrupted on the left compared to the right. A mu rhythm is also noted in the central regions, although specific testing is not performed. Focal slowing is noted from the left hemisphere with disruption of faster frequency activity and the presence of theta activity in the left mid to posterior quadrant. Hyperventilation accentuates the focal slowing. Vertex waves, spindles and POSTS are observed in stage II sleep. As the patient transitions to sleep, both head rocking artifact and focal delta are noted in the left posterior quadrant. Photic stimulation is performed while the patient is drifting in and out of sleep. Scant driving response is seen on the\n",
      "right.\n",
      "HR: 72 bpm\n",
      "IMPRESSION: Abnormal EEG due to:\n",
      "1. Focal slowing from the left posterior quadrant with disruption of faster frequency activity.\n",
      "CLINICAL CORRELATION: This EEG supports a structural process in the left posterior quadrant involving both gray and white matter. No epileptiform features were observed. These findings are similar to previous EEGs from the past 7 years.\n",
      "\n",
      "\n",
      "\n",
      "\n"
     ]
    }
   ],
   "source": [
    "!cat /data/schirrmr/gemeinl/tuh-abnormal-eeg/raw/v2.0.0/edf/train/abnormal/01_tcp_ar/022/00002253/s003_2011_05_12/00002253_s003.txt"
   ]
  },
  {
   "cell_type": "code",
   "execution_count": 215,
   "metadata": {},
   "outputs": [
    {
     "name": "stdout",
     "output_type": "stream",
     "text": [
      "BASELINE EEG\n",
      "CLINICAL HISTORY:  A 45-year-old woman with a strong family history of epilepsy, nocturnal tonic-clonic seizures, myoclonic jerks.  Vagal nerve stimulator.  There is a history of head trauma.\n",
      "MEDICATIONS:  Dilantin, Lamictal.\n",
      "INTRODUCTION:  Digital video EEG is performed in the lab using standard 10-20 system of electrode placement with one channel of EKG.  Hyperventilation and photic stimulation were completed.\n",
      "DESCRIPTION OF THE RECORD:  In wakefulness, there is a 10-Hz alpha rhythm but there is a small amount of 7-Hz theta noted in the background.  Hyperventilation was performed early on in the record and produced an increase in theta.  As the patient transitioned in and out of stage 2 sleep, rare spike and slow-wave complexes were identified.  There was a burst of high-amplitude spike and polyspike activity in sleep which was generalized.  There was an additional subtle spike in sleep noted in the right frontal region.  Sleep was not sustained.\n",
      "Photic stimulation was performed while the patient was transitioning in and out of sleep.  A photic driving response with harmonic and supraharmonic driving was observed but without spike and wave activity.  An additional burst of polyspike activity was noted as the patient was drifting off to sleep again at the end of photic stimulation.\n",
      "Heart rate:  72 beats per minute.\n",
      "IMPRESSION:  Abnormal EEG due to:\n",
      "Generalized spike and wave activity as the patient transitioned in and out of sleep.\n",
      "Polyspike and slow-wave activity.\n",
      "CLINICAL CORRELATION:  These findings have previously been seen in this individual.  Although not many abnormalities were identified, most of them were\n",
      "generalized, not focal.  These may be correlated with clinical history and imaging, but this EEG is more supportive of a primary rather than secondary generalized epilepsy.\n",
      "\n",
      "\n",
      "\n"
     ]
    }
   ],
   "source": [
    "!cat /data/schirrmr/gemeinl/tuh-abnormal-eeg/raw/v2.0.0/edf/train/abnormal/01_tcp_ar/000/00000068/s010_2013_01_21/00000068_s010.txt"
   ]
  },
  {
   "cell_type": "code",
   "execution_count": 248,
   "metadata": {},
   "outputs": [
    {
     "name": "stdout",
     "output_type": "stream",
     "text": [
      "CLINICAL HISTORY:  60 year old male with multiple focal seizures involving right arm with chewing movements.  Past MCA stroke, hypertension, aphasia, pacemaker.\n",
      "MEDICATIONS:  Depakote, Ativan\n",
      "INTRODUCTION:  Digital video EEG was performed at bedside using standard 10-20 system of electrode placement with 1 channel EKG.  The patient has clinical seizures characterized by facial twitching and involuntary movements of the right arm.\n",
      "DESCRIPTION OF THE RECORD:  As the tracing begins the patient has been having seizures and continues to have seizures.  The overall EEG is sharply contoured, almost a chaotic pattern, and intermittently discontinuous.  Left frontal sharp waves precede the seizure and the seizure includes a mixture of frontal and left hemispheric sharp activity and fast activity.  The activity is maximum in the front, but is really seen throughout the left hemisphere in the parasagittal region.  The fast activity is prominent in the central regions.  Some of the activity spreads to the right.\n",
      "By 8:15 p.m. the epileptiform activity is a bit more isolated.  At 8:00 p.m. the patient receives a Dilantin load.  He develops respiratory distress and a pleural effusion.  He is placed on a propofol drip for respiratory management. No additional clinical seizures are observed.  The EEG demonstrates a pattern with left frontal or bifrontal sharp activity or fast activity with a discontinuous background.\n",
      "HR:    104 bpm\n",
      "IMPRESSION:  Abnormal EEG due to:\n",
      "Initially status epilepticus pattern with repetitive seizures, improving to a discontinuous pattern with the use of both Dilantin and propofol.\n",
      "INTERVAL CLINICAL CORRELATION:  This EEG remains a highly epileptiform pattern.  There are bursts of sharp waves and spikes, but no clearly evolving seizures or clinical events noted in the later sections of the record.\n",
      "LONG TERM MONITORING\n",
      "INTRODUCTION:  Continuous digital video EEG monitoring was performed at bedside using standard 10-20 system of electrode placement with 1 channel of EKG.  The patient is intubated, extremely ill, but responsive.\n",
      "DESCRIPTION OF THE RECORD:  The EEG demonstrates a left frontal spike or a sharp wave, which is periodic, merging to nearly continuous.  It does not evolve, as would be expected with a seizure.  The remaining background is markedly slow and suppressed.\n",
      "Despite the patient's arousability, with occasional spontaneous movement and reactivity to external stimuli, the background does not improve.  It is a markedly slow and suppressed pattern with a frontal PLED with a periodicity of approximately 1 to 2 per second.\n",
      "HR:    100 bpm\n",
      "IMPRESSION:  Markedly abnormal EEG due to:\n",
      "Markedly suppressed background.\n",
      "Left frontal PLED with a generous field of spread.\n",
      "CLINICAL CORRELATION:  No seizures were recorded.  This EEG continues to demonstrate a marked disturbance of cerebral function.\n",
      "\n",
      "\n",
      "\n"
     ]
    }
   ],
   "source": [
    "!cat /data/schirrmr/gemeinl/tuh-abnormal-eeg/raw/v2.0.0/edf/train/abnormal/01_tcp_ar/085/00008512/s001_2012_01_09/00008512_s001.txt"
   ]
  },
  {
   "cell_type": "code",
   "execution_count": 261,
   "metadata": {},
   "outputs": [
    {
     "name": "stdout",
     "output_type": "stream",
     "text": [
      "CLINICAL HISTORY:  60 year old male with multiple focal seizures involving right arm with chewing movements.  Past MCA stroke, hypertension, aphasia, pacemaker.\n",
      "MEDICATIONS:  Depakote, Ativan\n",
      "INTRODUCTION:  Digital video EEG was performed at bedside using standard 10-20 system of electrode placement with 1 channel EKG.  The patient has clinical seizures characterized by facial twitching and involuntary movements of the right arm.\n",
      "DESCRIPTION OF THE RECORD:  As the tracing begins the patient has been having seizures and continues to have seizures.  The overall EEG is sharply contoured, almost a chaotic pattern, and intermittently discontinuous.  Left frontal sharp waves precede the seizure and the seizure includes a mixture of frontal and left hemispheric sharp activity and fast activity.  The activity is maximum in the front, but is really seen throughout the left hemisphere in the parasagittal region.  The fast activity is prominent in the central regions.  Some of the activity spreads to the right.\n",
      "By 8:15 p.m. the epileptiform activity is a bit more isolated.  At 8:00 p.m. the patient receives a Dilantin load.  He develops respiratory distress and a pleural effusion.  He is placed on a propofol drip for respiratory management. No additional clinical seizures are observed.  The EEG demonstrates a pattern with left frontal or bifrontal sharp activity or fast activity with a discontinuous background.\n",
      "HR:    104 bpm\n",
      "IMPRESSION:  Abnormal EEG due to:\n",
      "Initially status epilepticus pattern with repetitive seizures, improving to a discontinuous pattern with the use of both Dilantin and propofol.\n",
      "INTERVAL CLINICAL CORRELATION:  This EEG remains a highly epileptiform pattern.  There are bursts of sharp waves and spikes, but no clearly evolving seizures or clinical events noted in the later sections of the record.\n",
      "LONG TERM MONITORING\n",
      "INTRODUCTION:  Continuous digital video EEG monitoring was performed at bedside using standard 10-20 system of electrode placement with 1 channel of EKG.  The patient is intubated, extremely ill, but responsive.\n",
      "DESCRIPTION OF THE RECORD:  The EEG demonstrates a left frontal spike or a sharp wave, which is periodic, merging to nearly continuous.  It does not evolve, as would be expected with a seizure.  The remaining background is markedly slow and suppressed.\n",
      "Despite the patient's arousability, with occasional spontaneous movement and reactivity to external stimuli, the background does not improve.  It is a markedly slow and suppressed pattern with a frontal PLED with a periodicity of approximately 1 to 2 per second.\n",
      "HR:    100 bpm\n",
      "IMPRESSION:  Markedly abnormal EEG due to:\n",
      "Markedly suppressed background.\n",
      "Left frontal PLED with a generous field of spread.\n",
      "CLINICAL CORRELATION:  No seizures were recorded.  This EEG continues to demonstrate a marked disturbance of cerebral function.\n",
      "\n",
      "\n",
      "\n"
     ]
    }
   ],
   "source": [
    "!cat /data/schirrmr/gemeinl/tuh-abnormal-eeg/raw/v2.0.0/edf/train/abnormal/01_tcp_ar/085/00008512/s001_2012_01_09/00008512_s001.txt"
   ]
  },
  {
   "cell_type": "code",
   "execution_count": 268,
   "metadata": {},
   "outputs": [
    {
     "name": "stdout",
     "output_type": "stream",
     "text": [
      "68 year old female with a history of PCA infant who presents with\n",
      "MEDICATIONS: None.\n",
      "REASON FOR EEG: Seizures.\n",
      "Long term digital video EEG monitoring was performed at bedside over 20\n",
      "hours using the standard 20 electrode placement with additional interior temporal and EKG\n",
      "electrodes. The patient was unresponsive during the recording. No activating procedures were\n",
      "performed.\n",
      "TECHNICAL DIFFICULTIES : None.\n",
      "DESCRIPTION OF RECORD: The record opens to a diffusely background in the 2-4\n",
      "Hz frequency. No abnormal posterior dominant rhythm is seen or central beta. No\n",
      "abnormal sleep architecture is seen. No activating procedures are\n",
      "ABNORMAL DISCHARGES: Generalized slow waves at 2-4 Hz an amplitude 20-30 mV with\n",
      "frontal intermittent rhythmic delta (FIRDA).\n",
      "NOTE: During the recording the EEG continues to increase in the frequencies to a more of a\n",
      "theta range in the 5-7 Hz frequency, which still remains diffusely During stimulation there\n",
      "is an increase in the frequency and there is multiple artifact.\n",
      "SEIZURES: None.\n",
      "IMPRESSION: Abnormal EEG due to:\n",
      "1. Generalized slow waves.\n",
      "2. FIRDA, improving over time.\n",
      "This EEG reveals evidence of diffuse cerebral dysfunction, which\n",
      "is in regards to etiology, and in this patient it may be due, at least, in part to\n",
      "effect. No seizures or epileptiform discharges were seen\n",
      "\n",
      "\n",
      "\n"
     ]
    }
   ],
   "source": [
    "!cat /data/schirrmr/gemeinl/tuh-abnormal-eeg/raw/v2.0.0/edf/train/abnormal/01_tcp_ar/082/00008251/s001_2011_11_26/00008251_s001.txt"
   ]
  },
  {
   "cell_type": "code",
   "execution_count": 77,
   "metadata": {},
   "outputs": [
    {
     "name": "stdout",
     "output_type": "stream",
     "text": [
      "EEG NUMBER: 11-915  HISTORY: This Is a 62-year-old right-handed male admitted 6/27/2011 with difficulty speaking, dysphagia, facial droop. PMH: migraine headaches and CABG.\n",
      "MEDICATIONS: None reported.\n",
      "INTRODUCTION: Digital video EEG Is performed in the lab using standard 10-20 system of electrode placement with one-channel EKG. Photic stimulation is performed.\n",
      "DESCRIPTION OF RECORD: In wakefulness, there is a 10Hz alpha rhythm, but there is a small amount of 8Hz activity In the background. In drowsiness, there is a small amount of shifting temporal theta. Brief epochs of stage I sleep include vertex waves. Photic stimulation elicits scant driving. The driving is visualized with digital analysis of the EEG.\n",
      "Heart rate 90 bpm.\n",
      "IMPRESSION: This EEG is within normal limits for age.\n",
      "CLINICAL CORRELATION: No epileptiform features are observed. Normal EEG doesn't exclude a diagnosis of epilepsy.\n",
      "\n",
      "\n",
      "\n",
      "\n"
     ]
    }
   ],
   "source": [
    "!cat /data/schirrmr/gemeinl/tuh-abnormal-eeg/raw/v2.0.0/edf/train/normal/01_tcp_ar/083/00008337/s001_2011_06_30/00008337_s001.txt"
   ]
  },
  {
   "cell_type": "code",
   "execution_count": 99,
   "metadata": {},
   "outputs": [
    {
     "name": "stdout",
     "output_type": "stream",
     "text": [
      "CLINICAL HISTORY:   44 year old man with recurrent seizures.\n",
      "MEDICATIONS:  Vimpat, phenobarbital, and Topamax.\n",
      "REASON FOR STUDY:  Seizure.\n",
      "INTRODUCTION:  Digital video long-term EEG was performed using the standard 10-20 electrode placement system with additional anterior temporal and single-lead EKG electrodes.  The patient was recorded during wakefulness and sleep.  Activating procedures were not performed.  Continuous spike detection software as well as seizure detection software and nurses' alarm noted events were used to review the EEG.\n",
      "TECHNICAL DIFFICULTIES:  None.\n",
      "DESCRIPTION OF THE RECORD:  The record opens to a well-defined posterior dominant rhythm of 9 to 10 Hz which is reactive to eye opening.  There is a normal amount of frontocentral beta.  Activating procedures were not performed.  The patient is recorded in wakefulness and stage I, stage II, and deeper stages of sleep.\n",
      "ABNORMAL DISCHARGES:\n",
      "Focal sharp waves at F7/T3 seen occasionally in wakefulness and sleep.\n",
      "Focal slow waves seen at F7/T3 at 2 to 4 Hz and an amplitude of 20 to 60 microvolts.\n",
      "SEIZURES:  Seizure #1, 07/18/2012 at 10:30 a.m., complex partial seizure.  In the video, the patient suddenly places down his cell phone.  Suddenly his arms raise and he lays back.  After this, the right arm suddenly becomes dystonic and stiff.  He starts having automatic movements with the left arm, playing around with the cell phone and the sheet, and his face remains in a staring fashion.  At times he moves his mouth.  He continues this behavior during the entirety of the seizure.\n",
      "EEG:  The EEG seizure started at 10:33 a.m. and ended at 10:34 a.m. The EEG correlate to the seizure started at 7 seconds after the clinical onset.  There is rhythmic theta discharge seen maximally at the beginning at T1/F7, which evolves in frequency and increases in amplitude.  It remains mainly over the T1/F7 electrodes but it spread throughout the whole left hemisphere.  After the end of the seizure, there appears to be an asymmetry of the faster frequencies with a lack of them over the left hemisphere.  End of seizure #1.\n",
      "Seizure #2, complex partial seizure, occurred on 07/19/2012, starting at 2:48:57, ending at 2:49:52.  Video behavior:  While in bed the patient starts blinking and moving his mouth.  Suddenly his right arm becomes dystonic and his right eye shuts down and appears to twitch slightly while he continues to move his mouth.  Seconds later, he starts having rhythmic automatisms of the left hand and playing with the sheet.  He continues this behavior until the end of the seizure.\n",
      "EEG:  About 10 seconds after clinical onset, the EEG reveals well-formed rhythmic 7 Hz theta discharge, maximal over the T1/F7 electrode, which is slightly obscured by muscle artifact which appears to continue to evolve in frequency and increase in amplitude over the left hemisphere.  The seizure remains on the left hemisphere.  It does not cross to the right.  After the end of the seizure, there appear to be a lot of faster frequencies over that left hemisphere and not noticed over the right.  The seizure lasts for 55 seconds.  End of seizure #2.\n",
      "Seizure #3, electrographic seizures.  During the record, he had about 4 distinct electrographic seizures which were comprised of rhythmic runs of F7/T3 theta discharge that appeared to increase slightly in amplitude and then suddenly stop.  These 4 events lasted as long as 4 minutes.  During them, in the video there is no clear clinical correlate.  End of seizure.\n",
      "IMPRESSION:  Abnormal EEG due to:\n",
      "1.  Left anterior temporal sharp waves and slowing.\n",
      "2.  Complex partial seizures and multiple electrographic seizures.\n",
      "CLINICAL CORRELATION:  This long-term EEG is diagnostic of localization related epilepsy with seizures arising from the left anterior temporal region.\n",
      "\n",
      "\n",
      "\n"
     ]
    }
   ],
   "source": [
    "!cat /data/schirrmr/gemeinl/tuh-abnormal-eeg/raw/v2.0.0/edf/train/abnormal/01_tcp_ar/065/00006535/s005_2012_07_18/00006535_s005.txt"
   ]
  },
  {
   "cell_type": "code",
   "execution_count": 140,
   "metadata": {},
   "outputs": [
    {
     "name": "stdout",
     "output_type": "stream",
     "text": [
      "REASON:  Evaluate for encephalopathy.\n",
      "CLINICAL HISTORY:  A 61-year-old woman with previous left MCA CVA, MR, CHF, and CAD.\n",
      "INTRODUCTION:  Digital video EEG was performed in the lab using standard 10-20 system of electrode placement with one channel of EKG.  Hyperventilation was deferred.  Photic stimulation was completed.  This is routine 24 minute  EEG which is technically acceptable.\n",
      "DESCRIPTION OF THE RECORD:  In wakefulness, there is a 9 Hz alpha rhythm which is disrupted on the right compared to the left.  The right hemisphere demonstrates nearly continuous focal slowing with disruption of faster frequency activity and a mixture of arrhythmic delta and theta.  The focal slowing is of medium amplitude.  Features of drowsiness include bilateral slowing, but the asymmetry persists into stage 1 sleep.  Photic stimulation elicits bilateral driving.\n",
      "Heart rate 72 BPM.\n",
      "IMPRESSION:  This is an abnormal EEG due to:\n",
      "Continuous right-sided focal slowing with disruption of faster frequency activity and slow activity.\n",
      "No epileptiform features were identified.\n",
      "Clinical Correlation\n",
      "This EEG is more supportive of a structural process on the right than the left as described in the Tech history.\n",
      "\n",
      "\n",
      "\n"
     ]
    }
   ],
   "source": [
    "!cat /data/schirrmr/gemeinl/tuh-abnormal-eeg/raw/v2.0.0/edf/train/abnormal/01_tcp_ar/106/00010639/s001_2013_08_22/00010639_s001.txt"
   ]
  },
  {
   "cell_type": "code",
   "execution_count": 178,
   "metadata": {},
   "outputs": [
    {
     "name": "stdout",
     "output_type": "stream",
     "text": [
      "CLINICAL HISTORY: 64 year old woman with a history of seizures since she age 15, now having seizures at night, incontinent at times, postictal confusion lasting 5-10 minutes.\n",
      "MEDICATIONS:  Tegretol\n",
      "REASON FOR SEIZURES:  Seizures.\n",
      "INTRODUCTION:  Digital video routine EEG was performed using the standard 10-20 electrode placement system with additional anterior temporal and single lead EKG electrode.  The patient was recorded in wakefulness, stage I, and stage II sleep. Activating procedures, including photic stimulation and hyperventilation were performed.\n",
      "TECHNICAL DIFFICULTIES:  None.\n",
      "DESCRIPTION OF THE RECORD:  The record opens to a well defined posterior dominant rhythm that reaches 9.5 Hz and is reactive to eye opening.  There is normal amount of frontal central beta.  Activating procedures, including hyperventilation and photic stimulation, produce no abnormal discharges.  The patient reached stage I and stage II sleep.\n",
      "ABNORMAL DISCHARGES:  None.\n",
      "SEIZURES:  None.\n",
      "IMPRESSION:  Normal awake and sleep EEG.\n",
      "CLINICAL CORRELATION:  No seizures or epileptiform discharges were seen.\n",
      "__________________________\n",
      "\n",
      "\n",
      "\n"
     ]
    }
   ],
   "source": [
    "!cat /data/schirrmr/gemeinl/tuh-abnormal-eeg/raw/v2.0.0/edf/train/normal/01_tcp_ar/089/00008913/s001_2012_07_12/00008913_s001.txt"
   ]
  },
  {
   "cell_type": "code",
   "execution_count": 360,
   "metadata": {},
   "outputs": [
    {
     "name": "stdout",
     "output_type": "stream",
     "text": [
      "CLINICAL HISTORY:  Adult female with advanced dementia, schizophrenia, epilepsy, status post aspiration, found comatose in the early morning hours of the 4th, initially comatose lacking in brainstem signs now with repetitive eye blink.\n",
      "MEDICATIONS:  Depakote and Versed.  Many others.\n",
      "INTRODUCTION:  Digital video EEG is performed at the bedside using standard 10-20 system of electrode placement with 1 channel of EKG.  Hyperventilation and photic stimulation are performed.\n",
      "October 6-7\n",
      "DESCRIPTION OF THE RECORD:\n",
      "As the tracing began, there was a great deal of muscle artifact in the EEG.  In addition to the eye blink artifact, there is a periodic complex identified in the frontocentral regions with a broad field of spread in the parasagittal regions.  When reviewed with an a CZ reference, CZ appears to be active.  There are frontal, periodic, discrete sharp waves or spikes noted.\n",
      "Throughout the recording, a Versed drip is initiated.  The Versed drip is initiated at 11:29.  At 11:48, the patient receives 4 mg bolus of Versed which significantly decreased both periodic complexes and the background artifact.  When the sensitivity is increased, the sharp wave can be much more easily defined and is a CZ vertex sharp.  The periodicity of the sharp wave is approximately 1 per second and varies from 0.5 per second to 1 per second.  There is no frequency evolution associated with this discharge.\n",
      "Heart rate 93 BPM.\n",
      "IMPRESSION:  This is an abnormal EEG due to:\n",
      "A challenging but slow background noted prior to the Versed bolus.\n",
      "A periodic or pseudoperiodic complex noted in the background sometimes with a frontal sharp wave, sometimes with a vertex sharp wave.\n",
      "Absence of significant reactivity to tactile stimulation.\n",
      "CLINICAL CORRELATION:  The pattern described above can be seen in the context of anoxic encephalopathy.  It can also be seen as a late status epilepticus pattern.  In this\n",
      "individual with a past history of epilepsy and a recent anoxic insult, additional EEG monitoring was initiated to clarify this finding\n",
      "October 7-8\n",
      "DESCRIPTION OF THE RECORD:\n",
      "This section of the record demonstrates primarily a theta background.  Some sections of the record demonstrate significantly more muscle.  There is an underlying vertex sharp wave more apparent in some sections than others.  This sharp wave does not demonstrate frequency evolution.  The background does have some variability in that some sections including at 2:00 a.m. have a bit more continuous theta but at 6:00 a.m. there is more of a pattern of theta and then discontinuity.  On some occasions, tactile stimulation of the patient produced artifact but tactile stimulation of the patient did not produce an alerting response in the EEG.\n",
      "The clinical team noted that after the Versed drip was increased, the patient's eye blinking stopped.  No other involuntary movements were noted, and even though there were some sections of the record with some muscle artifact, when the patient receives nursing care, there is no change in EEG.\n",
      "By the end of the first 24 hours, the EEG is relatively continuous with brief attenuations but demonstrates frontal or vertex sharp waves.  At that juncture, the Versed drip is increased from 5 to 5.5 mg.\n",
      "October 7 through October 8, continuous video EEG monitoring:  Medications Depakote, Versed, others.  Introduction:  Continuous video EEG monitoring during this section of the recording is provided for a comatose, intubated woman without motor activity.  The EEG demonstrates an overall low voltage mixed theta with smaller amounts of delta pattern.  There is a subtle and prominent sharp wave noted in the frontocentral regions.  This is almost a vertex sharp wave, but in this section of the record the phase reversal is starting to shift just to the right of the midline; however, using an average reference this is now transitioned from a CZ sharp wave to an FV sharp wave with just a bit more spread to F4.\n",
      "In the overnight hours, the patient seems to have been dazed at around 3:00 a.m., producing a great deal of muscle.\n",
      "In the overnight recording, the frontal sharp wave seems to be fading.  The overall quality of the EEG starts to vary a bit, although there is no note as to whether or not the electrodes had been moved.\n",
      "By 4:30 a.m., the FV sharp wave is noted, and at this point it is a bit more prominent at F3 than F4.  The sharp wave is becoming less continuous, seen about once every second by 5:30 a.m.  At 6:03 a.m., tactile stimulation of the patient does not seem to activate the record.  The sharp wave does not evolve.  No note is made as to whether or not there has been additional changes in the patient's medications, but the background EEG which accompanies the sharp wave include a little less theta and a bit more arrhythmic delta with intermittent attenuations.\n",
      "EKG:  NA.\n",
      "INTERVAL IMPRESSION:  EEG monitoring for this patient with an anoxic insult and post-anoxic ocular jerking demonstrates a pattern of fading periodic complexes.  These complexes have a complex feel of spread, maximum at the midline at CZ and then transitioning to FV.  By the end of the 2-day recording, the activity appeared to be less epileptiform in nature and the overall periodicity was fading.\n",
      "No evolving seizures were identified.\n",
      "October 8-9\n",
      "INTRODUCTION:  Continuous video EEG monitoring was performed in the ICU using standard 10-20 system of electrode placement with 1 channel of EKG.  The patient was intubated and comatose.  No involuntary eye twitching was noted, but sometimes the patient was observed to have stiffening of the jaw.  Corneal and pupillary reflexes were absent.\n",
      "DESCRIPTION OF THE RECORD:\n",
      "Although there are some sections of the record somewhat obscured by muscle, the overall 24-hour recording includes a now frontally predominant, more generalized periodic complex.  The periodic complexes transition from a CZ complex to more of a frontal complex.  There is occasional asymmetry, but it is generally frontally predominant.\n",
      "Vecuronium was provided to eliminate muscle and to confirm the cerebral nature of the complex.\n",
      "Over this 24-hour section the EEG activity is increasingly blunted with a more of a periodic sharp than a spike, lower voltage activity, and slowing of the periodic complex with sometimes as few as 2 in a 10-second period and at the very end of the recording 1 in a 10-second period.\n",
      "Heart rate:  80 BPM.\n",
      "IMPRESSION:  This multi-day long term video EEG monitoring session was remarkable for:\n",
      "A generalized periodic complex with an initial somewhat PLEDs pattern.\n",
      "Slowing of the periodic activity.\n",
      "Progressive background suppression.\n",
      "CLINICAL CORRELATION:  This EEG supports a severe, anoxic insult.  The overall pattern is a pattern of thick lining cortical function.\n",
      "\n",
      "\n",
      "\n"
     ]
    }
   ],
   "source": [
    "!cat /data/schirrmr/gemeinl/tuh-abnormal-eeg/raw/v2.0.0/edf/train/abnormal/01_tcp_ar/092/00009231/s002_2012_10_06/00009231_s002.txt"
   ]
  },
  {
   "cell_type": "code",
   "execution_count": 540,
   "metadata": {},
   "outputs": [
    {
     "name": "stdout",
     "output_type": "stream",
     "text": [
      "INPATIENT ROOM:  779\n",
      "CLINICAL HISTORY:  This is a 79-year-old female with recent left MCA stroke, on warfarin with change in mental status with abrupt onset.\n",
      "PAST MEDICAL HISTORY:  Significant for the chronic kidney disease, on hemodialysis; myocardial infarction; hypertension.\n",
      "MEDICATIONS:  Levetiracetam, Norvasc, terazosin, labetalol, aspirin.\n",
      "INTRODUCTION:  Digital video EEG was performed in lab using standard 10-20 system of electrode placement with one channel EKG.  Hyperventilation was not performed.  Photic stimulation was performed.\n",
      "DESCRIPTION OF THE RECORD:  In the most alert state, the posterior dominant rhythm was 8.5 to 9 Hz performed in the right occipital region, which attenuates with eye opening.  There is hemispheric asymmetry, which is characterized by left hemispheric attenuation and slowing with loss of faster frequencies.  There is also almost continuous left temporal delta activity maximal at T3/T1 during this recording.  There are occasional sharp wave discharges noted at T3/C3/T5 with no evolution or electrographic seizures.  There is excess theta activity during wakefulness.  Stage I and stage II sleep were characterized by disappearance of the posterior dominant rhythm, slowing of the background, and absence of muscle and eye blink artifact, as well as the presence of vertex sharp waves and posts and also K complexes and sleep spindles.  Photic stimulation was performed at multiple flash frequencies and results in an asymmetric driving response, most pronounced on the right side.  Heart rate was 60 and regular.\n",
      "IMPRESSION:  This is an abnormal EEG due to;\n",
      "Left hemispheric asymmetry characterized by slowing, attenuation, and loss of faster frequencies.\n",
      "Almost continuous left temporal delta activity, maximal at T3 and T1.\n",
      "Occasional sharp wave discharges noted at C3/T3/T5.\n",
      "Excess theta activity during wakefulness.\n",
      "CLINICAL CORRELATION:  Left hemispheric asymmetry characterized by loss of faster frequencies and attenuation could be due to a history of left MCA ischemic stroke.  Continuous left temporal delta activity in left temporal region could be due to structural abnormalities in the left temporal area or left temporal dysfunction.  The sharp wave discharges in left parietal, central, and temporal region are indicative of irritability of cerebral cortex in this area and place this patient at higher risk for partial seizures.  Diffuse excess theta activity is suggestive of toxic, metabolic, degenerative, infectious, or ischemic encephalopathy.  Clinical correlation is recommended.  There were no electrographic seizures or clinical seizures noted during this recording.\n",
      "\n",
      "\n",
      "\n"
     ]
    }
   ],
   "source": [
    "!cat /data/schirrmr/gemeinl/tuh-abnormal-eeg/raw/v2.0.0/edf/eval/abnormal/01_tcp_ar/100/00010003/s001_2013_02_18/00010003_s001.txt"
   ]
  },
  {
   "cell_type": "code",
   "execution_count": 549,
   "metadata": {},
   "outputs": [
    {
     "name": "stdout",
     "output_type": "stream",
     "text": [
      "CLINICAL HISTORY:  Adult female with advanced dementia, schizophrenia, epilepsy, status post aspiration, found comatose in the early morning hours of the 4th, initially comatose lacking in brainstem signs now with repetitive eye blink.\n",
      "MEDICATIONS:  Depakote and Versed.  Many others.\n",
      "INTRODUCTION:  Digital video EEG is performed at the bedside using standard 10-20 system of electrode placement with 1 channel of EKG.  Hyperventilation and photic stimulation are performed.\n",
      "October 6-7\n",
      "DESCRIPTION OF THE RECORD:\n",
      "As the tracing began, there was a great deal of muscle artifact in the EEG.  In addition to the eye blink artifact, there is a periodic complex identified in the frontocentral regions with a broad field of spread in the parasagittal regions.  When reviewed with an a CZ reference, CZ appears to be active.  There are frontal, periodic, discrete sharp waves or spikes noted.\n",
      "Throughout the recording, a Versed drip is initiated.  The Versed drip is initiated at 11:29.  At 11:48, the patient receives 4 mg bolus of Versed which significantly decreased both periodic complexes and the background artifact.  When the sensitivity is increased, the sharp wave can be much more easily defined and is a CZ vertex sharp.  The periodicity of the sharp wave is approximately 1 per second and varies from 0.5 per second to 1 per second.  There is no frequency evolution associated with this discharge.\n",
      "Heart rate 93 BPM.\n",
      "IMPRESSION:  This is an abnormal EEG due to:\n",
      "A challenging but slow background noted prior to the Versed bolus.\n",
      "A periodic or pseudoperiodic complex noted in the background sometimes with a frontal sharp wave, sometimes with a vertex sharp wave.\n",
      "Absence of significant reactivity to tactile stimulation.\n",
      "CLINICAL CORRELATION:  The pattern described above can be seen in the context of anoxic encephalopathy.  It can also be seen as a late status epilepticus pattern.  In this\n",
      "individual with a past history of epilepsy and a recent anoxic insult, additional EEG monitoring was initiated to clarify this finding\n",
      "October 7-8\n",
      "DESCRIPTION OF THE RECORD:\n",
      "This section of the record demonstrates primarily a theta background.  Some sections of the record demonstrate significantly more muscle.  There is an underlying vertex sharp wave more apparent in some sections than others.  This sharp wave does not demonstrate frequency evolution.  The background does have some variability in that some sections including at 2:00 a.m. have a bit more continuous theta but at 6:00 a.m. there is more of a pattern of theta and then discontinuity.  On some occasions, tactile stimulation of the patient produced artifact but tactile stimulation of the patient did not produce an alerting response in the EEG.\n",
      "The clinical team noted that after the Versed drip was increased, the patient's eye blinking stopped.  No other involuntary movements were noted, and even though there were some sections of the record with some muscle artifact, when the patient receives nursing care, there is no change in EEG.\n",
      "By the end of the first 24 hours, the EEG is relatively continuous with brief attenuations but demonstrates frontal or vertex sharp waves.  At that juncture, the Versed drip is increased from 5 to 5.5 mg.\n",
      "October 7 through October 8, continuous video EEG monitoring:  Medications Depakote, Versed, others.  Introduction:  Continuous video EEG monitoring during this section of the recording is provided for a comatose, intubated woman without motor activity.  The EEG demonstrates an overall low voltage mixed theta with smaller amounts of delta pattern.  There is a subtle and prominent sharp wave noted in the frontocentral regions.  This is almost a vertex sharp wave, but in this section of the record the phase reversal is starting to shift just to the right of the midline; however, using an average reference this is now transitioned from a CZ sharp wave to an FV sharp wave with just a bit more spread to F4.\n",
      "In the overnight hours, the patient seems to have been dazed at around 3:00 a.m., producing a great deal of muscle.\n",
      "In the overnight recording, the frontal sharp wave seems to be fading.  The overall quality of the EEG starts to vary a bit, although there is no note as to whether or not the electrodes had been moved.\n",
      "By 4:30 a.m., the FV sharp wave is noted, and at this point it is a bit more prominent at F3 than F4.  The sharp wave is becoming less continuous, seen about once every second by 5:30 a.m.  At 6:03 a.m., tactile stimulation of the patient does not seem to activate the record.  The sharp wave does not evolve.  No note is made as to whether or not there has been additional changes in the patient's medications, but the background EEG which accompanies the sharp wave include a little less theta and a bit more arrhythmic delta with intermittent attenuations.\n",
      "EKG:  NA.\n",
      "INTERVAL IMPRESSION:  EEG monitoring for this patient with an anoxic insult and post-anoxic ocular jerking demonstrates a pattern of fading periodic complexes.  These complexes have a complex feel of spread, maximum at the midline at CZ and then transitioning to FV.  By the end of the 2-day recording, the activity appeared to be less epileptiform in nature and the overall periodicity was fading.\n",
      "No evolving seizures were identified.\n",
      "October 8-9\n",
      "INTRODUCTION:  Continuous video EEG monitoring was performed in the ICU using standard 10-20 system of electrode placement with 1 channel of EKG.  The patient was intubated and comatose.  No involuntary eye twitching was noted, but sometimes the patient was observed to have stiffening of the jaw.  Corneal and pupillary reflexes were absent.\n",
      "DESCRIPTION OF THE RECORD:\n",
      "Although there are some sections of the record somewhat obscured by muscle, the overall 24-hour recording includes a now frontally predominant, more generalized periodic complex.  The periodic complexes transition from a CZ complex to more of a frontal complex.  There is occasional asymmetry, but it is generally frontally predominant.\n",
      "Vecuronium was provided to eliminate muscle and to confirm the cerebral nature of the complex.\n",
      "Over this 24-hour section the EEG activity is increasingly blunted with a more of a periodic sharp than a spike, lower voltage activity, and slowing of the periodic complex with sometimes as few as 2 in a 10-second period and at the very end of the recording 1 in a 10-second period.\n",
      "Heart rate:  80 BPM.\n",
      "IMPRESSION:  This multi-day long term video EEG monitoring session was remarkable for:\n",
      "A generalized periodic complex with an initial somewhat PLEDs pattern.\n",
      "Slowing of the periodic activity.\n",
      "Progressive background suppression.\n",
      "CLINICAL CORRELATION:  This EEG supports a severe, anoxic insult.  The overall pattern is a pattern of thick lining cortical function.\n",
      "\n",
      "\n",
      "\n"
     ]
    }
   ],
   "source": [
    "!cat /data/schirrmr/gemeinl/tuh-abnormal-eeg/raw/v2.0.0/edf/train/abnormal/01_tcp_ar/092/00009231/s002_2012_10_06/00009231_s002.txt"
   ]
  },
  {
   "cell_type": "code",
   "execution_count": 639,
   "metadata": {},
   "outputs": [
    {
     "data": {
      "text/plain": [
       "['INTRODUCTION', 'DESCRIPTION OF THE RECORD']"
      ]
     },
     "execution_count": 639,
     "metadata": {},
     "output_type": "execute_result"
    }
   ],
   "source": [
    "re.findall(categoy_pattern, \"INTRODUCTION:  Digital video EEG is performed at the bedside using standard 10-20 system of electrode placement with 1 channel of EKG.  Hyperventilation and photic stimulation are performed.\"\n",
    "\"October 6-7\\n\"\n",
    "\"DESCRIPTION OF THE RECORD:\\n\"\n",
    "\"As the tracing began, there was a great deal of muscle artifact in the EEG.  In addition to the eye blink artifact, there\", re.MULTILINE)"
   ]
  },
  {
   "cell_type": "code",
   "execution_count": 760,
   "metadata": {},
   "outputs": [
    {
     "name": "stdout",
     "output_type": "stream",
     "text": [
      "CLINICAL HISTORY:  53 year old left handed male with history of traumatic brain injury in 2002 with subsequent seizures, having about 2 generalized tonic-clonic seizure a week, reports recent seizure activity.\n",
      "MEDICATIONS:  Dilantin\n",
      "REASON FOR STUDY:  Seizures.\n",
      "INTRODUCTION:  Digital video routine EEG was performed using the standard 10-20 electrode placement system with additional anterior temporal and single-lead EKG electrode.  The patient was recorded during wakefulness and drowsiness.  Activating procedures were performed including hyperventilation and photic stimulation.\n",
      "TECHNICAL DIFFICULTIES:  Some T3 and T4 electrode artifact.\n",
      "DESCRIPTION OF THE RECORD:  The record opens to a posterior dominant rhythm that at best reach 7-8 Hz which appears to be somewhat reactive to eye opening.  There is some frontocentral beta seen.  Activating procedures including hyperventilation produces some accentuation of the focal slowing, which I will mention below.  Photic stimulation produced no abnormal discharges.\n",
      "ABNORMAL DISCHARGES:\n",
      "Focal slowing seen intermittently at F7/T3 and at times at F8/T4 (slightly more on the left than the right) at a frequency 2-4 Hz and an amplitude of 20-60 microvolts.\n",
      "Generalized slowing at 5-7 Hz and an amplitude of 20-60 microvolts seen almost continuously throughout the recording.\n",
      "SLEEP:  The patient is recorded in wakefulness and drowsiness.\n",
      "IMPRESSION:  Abnormal EEG due to:\n",
      "Mild generalized slowing.\n",
      "Independent bilateral anterior temporal slowing.\n",
      "CLINICAL CORRELATION:  This EEG reveals evidence of focal cerebral dysfunction in the bilateral anterior temporal regions, in addition to mild generalized slowing in addition to mild generalized cerebral dysfunction, both of which are nonspecific with regards to etiology.  No seizures or epileptiform discharges were clearly seen.\n",
      "__________________________\n",
      "\n",
      "\n",
      "\n"
     ]
    }
   ],
   "source": [
    "!cat /data/schirrmr/gemeinl/tuh-abnormal-eeg/raw/v2.0.0/edf/train/abnormal/01_tcp_ar/092/00009213/s002_2012_09_17/00009213_s002.txt"
   ]
  },
  {
   "cell_type": "code",
   "execution_count": 836,
   "metadata": {},
   "outputs": [
    {
     "name": "stdout",
     "output_type": "stream",
     "text": [
      "CLINICAL HISTORY:   44 year old man with recurrent seizures.\n",
      "MEDICATIONS:  Vimpat, phenobarbital, and Topamax.\n",
      "REASON FOR STUDY:  Seizure.\n",
      "INTRODUCTION:  Digital video long-term EEG was performed using the standard 10-20 electrode placement system with additional anterior temporal and single-lead EKG electrodes.  The patient was recorded during wakefulness and sleep.  Activating procedures were not performed.  Continuous spike detection software as well as seizure detection software and nurses' alarm noted events were used to review the EEG.\n",
      "TECHNICAL DIFFICULTIES:  None.\n",
      "DESCRIPTION OF THE RECORD:  The record opens to a well-defined posterior dominant rhythm of 9 to 10 Hz which is reactive to eye opening.  There is a normal amount of frontocentral beta.  Activating procedures were not performed.  The patient is recorded in wakefulness and stage I, stage II, and deeper stages of sleep.\n",
      "ABNORMAL DISCHARGES:\n",
      "Focal sharp waves at F7/T3 seen occasionally in wakefulness and sleep.\n",
      "Focal slow waves seen at F7/T3 at 2 to 4 Hz and an amplitude of 20 to 60 microvolts.\n",
      "SEIZURES:  Seizure #1, 07/18/2012 at 10:30 a.m., complex partial seizure.  In the video, the patient suddenly places down his cell phone.  Suddenly his arms raise and he lays back.  After this, the right arm suddenly becomes dystonic and stiff.  He starts having automatic movements with the left arm, playing around with the cell phone and the sheet, and his face remains in a staring fashion.  At times he moves his mouth.  He continues this behavior during the entirety of the seizure.\n",
      "EEG:  The EEG seizure started at 10:33 a.m. and ended at 10:34 a.m. The EEG correlate to the seizure started at 7 seconds after the clinical onset.  There is rhythmic theta discharge seen maximally at the beginning at T1/F7, which evolves in frequency and increases in amplitude.  It remains mainly over the T1/F7 electrodes but it spread throughout the whole left hemisphere.  After the end of the seizure, there appears to be an asymmetry of the faster frequencies with a lack of them over the left hemisphere.  End of seizure #1.\n",
      "Seizure #2, complex partial seizure, occurred on 07/19/2012, starting at 2:48:57, ending at 2:49:52.  Video behavior:  While in bed the patient starts blinking and moving his mouth.  Suddenly his right arm becomes dystonic and his right eye shuts down and appears to twitch slightly while he continues to move his mouth.  Seconds later, he starts having rhythmic automatisms of the left hand and playing with the sheet.  He continues this behavior until the end of the seizure.\n",
      "EEG:  About 10 seconds after clinical onset, the EEG reveals well-formed rhythmic 7 Hz theta discharge, maximal over the T1/F7 electrode, which is slightly obscured by muscle artifact which appears to continue to evolve in frequency and increase in amplitude over the left hemisphere.  The seizure remains on the left hemisphere.  It does not cross to the right.  After the end of the seizure, there appear to be a lot of faster frequencies over that left hemisphere and not noticed over the right.  The seizure lasts for 55 seconds.  End of seizure #2.\n",
      "Seizure #3, electrographic seizures.  During the record, he had about 4 distinct electrographic seizures which were comprised of rhythmic runs of F7/T3 theta discharge that appeared to increase slightly in amplitude and then suddenly stop.  These 4 events lasted as long as 4 minutes.  During them, in the video there is no clear clinical correlate.  End of seizure.\n",
      "IMPRESSION:  Abnormal EEG due to:\n",
      "1.  Left anterior temporal sharp waves and slowing.\n",
      "2.  Complex partial seizures and multiple electrographic seizures.\n",
      "CLINICAL CORRELATION:  This long-term EEG is diagnostic of localization related epilepsy with seizures arising from the left anterior temporal region.\n",
      "\n",
      "\n",
      "\n"
     ]
    }
   ],
   "source": [
    "!cat /data/schirrmr/gemeinl/tuh-abnormal-eeg/raw/v2.0.0/edf/train/abnormal/01_tcp_ar/065/00006535/s005_2012_07_18/00006535_s005.txt"
   ]
  },
  {
   "cell_type": "code",
   "execution_count": 70,
   "metadata": {},
   "outputs": [
    {
     "name": "stdout",
     "output_type": "stream",
     "text": [
      "REASON FOR STUDY:  Seizures.\n",
      "\n",
      "\n",
      "\n",
      "CLINICAL HISTORY:  This is a 25-year-old man with history of a left cerebellar tumor resection status post chemo and radiation, and epilepsy secondary to the tumor, presents with recurrent seizures with right-sided shaking and confusion, as well as paralysis.\n",
      "\n",
      "\n",
      "\n",
      "MEDICATIONS:  Keppra, Tylenol, Lovenox, Dilantin and clindamycin.\n",
      "\n",
      "\n",
      "\n",
      "INTRODUCTION:  A routine EEG was performed using the standard 10-20 electrode placement system with anterior temporal and single lead EKG electrode.  The patient was recorded while awake.  Activating procedures were not performed.\n",
      "\n",
      "\n",
      "\n",
      "DESCRIPTION OF THE RECORD:  The record opens to a posterior dominant rhythm that can only be seen over the right hemisphere that reaches 8.5 Hz.  There is some frontocentral beta seen over the right hemisphere only.  The patient was recorded only in wakefulness.  Activating procedures were not performed.\n",
      "\n",
      "\n",
      "\n",
      "HEART RATE:  74.\n",
      "\n",
      "\n",
      "\n",
      "ABNORMAL DISCHARGES:  Focal slow wave seen continuously over the left hemisphere maximal at T3 at a frequency of 1-2 Hz and an amplitude of 20-60 microvolts.  This is seen continuously throughout the recording.  At times, it becomes very monomorphic.  In addition, over the anterior electrodes, there appears to be an intermixed frontal very sharply contoured theta that appears in bursts of about 1 second, stops and starts again, occurring intermittently.\n",
      "\n",
      "\n",
      "\n",
      "SEIZURES:  During the recording, the patient had seizures that began with his eyes turning to the right followed by a burst of head movement to the right, then his right arm became tonic and stretched tonically in front of him, followed by some dystonic posturing of the right hand and trembling while the left arm became flexed at the elbow in front of him making a sign of \"4\".  Afterward, the patient slowly developed clonic movements and the seizure slowly subsided as the clonic movements decreased in frequency and amplitude. Last ictal jerk was on the right arm.\n",
      "\n",
      "\n",
      "\n",
      "EEG:  During this episode, the EEG at onset revealed the rhythmic left hemispheric slowing, but no clear onset could be ascertained for the seizure.  The seizure was quickly masked by muscle artifact and there appeared to be some prefrontal sharps in between the muscle artifact.  After the event, there appears to be focal remaining slowing over the left hemisphere and the right hemisphere appears to have almost normal theta to alpha rhythm.\n",
      "\n",
      "\n",
      "\n",
      "IMPRESSION:  Abnormal EEG due to secondary generalized tonic-clonic seizures likely arising from the left frontal region, based on semiology and EEG, in addition to continuous focal slowing over the left hemisphere maximal in the mid temporal region.\n",
      "\n",
      "\n",
      "\n",
      "\n",
      "\n",
      "CLINICAL CORRELATION:  This EEG is consistent with the diagnosis of localization-related epilepsy with seizures arising from the left hemisphere likely frontal region, in addition to revealing focal structural cerebral dysfunction from the left hemisphere maximal in the mid temporal region which is consistent with the known lesions.  These findings were reported to the primary team as they occurred.\n",
      "\n",
      "\n",
      "\n",
      "\n",
      "\n",
      "\n",
      "\n",
      "\n",
      "\n",
      "\n",
      "\n",
      "\n",
      "\n",
      "\n"
     ]
    }
   ],
   "source": [
    "!cat /data/schirrmr/gemeinl/tuh-abnormal-eeg/raw/v2.0.0/edf/train/abnormal/01_tcp_ar/095/00009578/s003_2013_03_01/00009578_s003.txt"
   ]
  },
  {
   "cell_type": "code",
   "execution_count": 83,
   "metadata": {},
   "outputs": [
    {
     "name": "stdout",
     "output_type": "stream",
     "text": [
      "REASON FOR STUDY:  Seizure.\n",
      "CLINICAL HISTORY:  A 56-year-old woman with complaints of anxiety for one year, increased recently and now possible seizures.  Past medical history of hypertension and thyroid disorder.\n",
      "MEDICATIONS:  Clonazepam, lisinopril, levothyroxine, simvastatin, Travatan.\n",
      "INTRODUCTION:  A routine EEG was performed using a standard 10-20 electrode placement system with anterior temporal single lead EKG electrode.  The patient was recorded during wakefulness and sleep stage I.  Activating procedures included photic stimulation and hyperventilation.\n",
      "TECHNICAL DIFFICULTIES:  Some T5 electrode artifact throughout the recording.\n",
      "DESCRIPTION OF THE RECORD:  The record opens to a posterior dominant rhythm in the range of 9-10 Hz which is reactive to eye opening.  There is an excessive amount of beta throughout the recording.  Activating procedures including hyperventilation, photic stimulation produced no abnormal discharges.  The patient was recorded in wakefulness and stage I sleep although sleep is limited.\n",
      "TECHNICAL DIFFICULTIES:  None.\n",
      "HEART RATE:  72.\n",
      "SEIZURES:  None.\n",
      "IMPRESSION:  Normal awake and sleep electroencephalogram.\n",
      "CLINICAL CORRELATION:  This is a normal awake and sleep EEG.  No seizures or epileptiform discharges were seen.\n",
      "\n",
      "\n",
      "\n"
     ]
    }
   ],
   "source": [
    "!cat /data/schirrmr/gemeinl/tuh-abnormal-eeg/raw/v2.0.0/edf/train/normal/01_tcp_ar/098/00009896/s001_2013_04_24/00009896_s001.txt"
   ]
  },
  {
   "cell_type": "code",
   "execution_count": 86,
   "metadata": {},
   "outputs": [
    {
     "data": {
      "text/plain": [
       "CLINICAL CORRELATION                                                        NaN\n",
       "CLINICAL HISTORY                                                            NaN\n",
       "DESCRIPTION OF THE RECORD                                                   NaN\n",
       "IMPRESSION                                                                  NaN\n",
       "INTRODUCTION                                                                NaN\n",
       "LABEL                                                                    normal\n",
       "MEDICATIONS                                                                 NaN\n",
       "PATH                          /data/schirrmr/gemeinl/tuh-abnormal-eeg/raw/v2...\n",
       "SESSION                                                         s001_2013_04_24\n",
       "SET                                                                       train\n",
       "SUBJECT                                                                00009896\n",
       "REASON FOR STUDY                                                            NaN\n",
       "TECHNICAL DIFFICULTIES                                                      NaN\n",
       "NOTE                                                                        NaN\n",
       "EVENTS                                                                      NaN\n",
       "FINDINGS                                                                    NaN\n",
       "ACTIVATION PROCEDURES                                                       NaN\n",
       "PAST MEDICAL HISTORY                                                        NaN\n",
       "TYPE OF STUDY                                                               NaN\n",
       "CONDITION OF THE RECORDING                                                  NaN\n",
       "HEART RATE                                                                  NaN\n",
       "Name: 2561, dtype: object"
      ]
     },
     "execution_count": 86,
     "metadata": {},
     "output_type": "execute_result"
    }
   ],
   "source": [
    "df.iloc[2561]"
   ]
  },
  {
   "cell_type": "code",
   "execution_count": null,
   "metadata": {},
   "outputs": [],
   "source": []
  }
 ],
 "metadata": {
  "kernelspec": {
   "display_name": "old_braindecode",
   "language": "python",
   "name": "old_braindecode"
  },
  "language_info": {
   "codemirror_mode": {
    "name": "ipython",
    "version": 3
   },
   "file_extension": ".py",
   "mimetype": "text/x-python",
   "name": "python",
   "nbconvert_exporter": "python",
   "pygments_lexer": "ipython3",
   "version": "3.6.8"
  }
 },
 "nbformat": 4,
 "nbformat_minor": 2
}
