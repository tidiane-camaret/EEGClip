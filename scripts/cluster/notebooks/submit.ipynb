{
 "cells": [
  {
   "cell_type": "markdown",
   "id": "1d8b9310-d4b9-41c2-96a9-0179382f0a47",
   "metadata": {
    "jp-MarkdownHeadingCollapsed": true,
    "slideshow": {
     "slide_type": "slide"
    },
    "tags": []
   },
   "source": [
    "# Setup environment\n",
    "```bash\n",
    "# Create the job environment. You can choose your python version freely. ipykernel and papermill are required for successfull job execution\n",
    "mamba create -n demo-env python=3.9 ipykernel papermill\n",
    "\n",
    "# enter the environment\n",
    "conda activate demo-env\n",
    "\n",
    "# Install your job requirements. You can use conda/mamba as well as pip.\n",
    "mamba install pytorch cudatoolkit=11.6 -c pytorch -c conda-forge\n",
    "pip install braindecode moabb\n",
    "```"
   ]
  },
  {
   "cell_type": "markdown",
   "id": "a6cc9f58-bb67-4584-8033-6ec89314335a",
   "metadata": {
    "slideshow": {
     "slide_type": "slide"
    },
    "tags": []
   },
   "source": [
    "# Setup Experiment\n",
    "An experiment is a collection of job runs. You can imagine it as a folder to group your job submissions."
   ]
  },
  {
   "cell_type": "code",
   "execution_count": 18,
   "id": "3f6b0cf7-8337-4523-a2e0-1ce03cbd3334",
   "metadata": {},
   "outputs": [],
   "source": [
    "import kf_notebook_job.pipeline\n",
    "\n",
    "kf_notebook_job.pipeline._container_image = 'cr.nail.science/ml-containers/python-job:git-e92e269'"
   ]
  },
  {
   "cell_type": "code",
   "execution_count": 19,
   "id": "194386be-cbd4-47c4-b731-3727eee9d019",
   "metadata": {},
   "outputs": [],
   "source": [
    "from kf_notebook_job import Experiment"
   ]
  },
  {
   "cell_type": "code",
   "execution_count": 13,
   "id": "fafab28b-b51c-4b48-8b66-747f54b31817",
   "metadata": {},
   "outputs": [
    {
     "data": {
      "text/markdown": [
       "[Experiment details](/pipeline/#/experiments/details/26a13da5-5818-4332-b8a9-82e61cb9dd1b/)"
      ],
      "text/plain": [
       "<IPython.core.display.Markdown object>"
      ]
     },
     "metadata": {},
     "output_type": "display_data"
    }
   ],
   "source": [
    "experiment = Experiment('lib-demo-exp')"
   ]
  },
  {
   "cell_type": "markdown",
   "id": "393eb454-a6f6-43df-ae7a-fc944f964cc0",
   "metadata": {
    "slideshow": {
     "slide_type": "slide"
    },
    "tags": []
   },
   "source": [
    "# Setup Pipeline"
   ]
  },
  {
   "cell_type": "code",
   "execution_count": 14,
   "id": "aaa4e1be-0ef0-4937-bbc1-14b4a911ab46",
   "metadata": {},
   "outputs": [
    {
     "data": {
      "application/vnd.jupyter.widget-view+json": {
       "model_id": "00041aea92344528a78fba6c45e1e368",
       "version_major": 2,
       "version_minor": 0
      },
      "text/plain": [
       "VBox(children=(HBox(children=(Label(value='Output Volume'), Dropdown(index=2, options=('workspace-braindecode-…"
      ]
     },
     "metadata": {},
     "output_type": "display_data"
    },
    {
     "data": {
      "application/vnd.jupyter.widget-view+json": {
       "model_id": "765cb96a78254cf8a081b9506ec53231",
       "version_major": 2,
       "version_minor": 0
      },
      "text/plain": [
       "AppLayout(children=(Label(value='Resource Requests', layout=Layout(grid_area='header')), VBox(children=(Label(…"
      ]
     },
     "metadata": {},
     "output_type": "display_data"
    }
   ],
   "source": [
    "experiment.configure('train.ipynb',\n",
    "    resources = dict(cpu_request = 8, memory_request = '16Gi', gpu_request = 1)\n",
    ")"
   ]
  },
  {
   "cell_type": "code",
   "execution_count": 15,
   "id": "4c0774bd-bd34-4064-92a9-7d8cd40c0a55",
   "metadata": {},
   "outputs": [
    {
     "data": {
      "text/markdown": [
       "[Pipeline details](/pipeline/#/pipelines/details/b65a685a-4606-4034-8d6f-89abecb2bf1d/version/14380852-753b-481c-96d5-57fdf31b176f)"
      ],
      "text/plain": [
       "<IPython.core.display.Markdown object>"
      ]
     },
     "metadata": {},
     "output_type": "display_data"
    }
   ],
   "source": [
    "experiment.save()"
   ]
  },
  {
   "cell_type": "markdown",
   "id": "b7dfda9e-ee15-4c32-af47-5cba348ed0bb",
   "metadata": {
    "tags": []
   },
   "source": [
    "# Submit jobs"
   ]
  },
  {
   "cell_type": "code",
   "execution_count": 20,
   "id": "788203af-ed90-46de-adb7-6183dbaf5211",
   "metadata": {},
   "outputs": [],
   "source": [
    "from datetime import datetime\n",
    "from itertools import product"
   ]
  },
  {
   "cell_type": "code",
   "execution_count": 21,
   "id": "9ca8b79d-e2ce-4f8e-8a0b-d2da7a90e5a7",
   "metadata": {},
   "outputs": [
    {
     "data": {
      "text/html": [
       "<a href=\"/pipeline/#/runs/details/45165508-8fba-4c65-98c6-afe6fce8167d\" target=\"_blank\" >Run details</a>."
      ],
      "text/plain": [
       "<IPython.core.display.HTML object>"
      ]
     },
     "metadata": {},
     "output_type": "display_data"
    },
    {
     "data": {
      "text/html": [
       "<a href=\"/pipeline/#/runs/details/ce47fbc6-653c-4182-9d42-5a955afe6087\" target=\"_blank\" >Run details</a>."
      ],
      "text/plain": [
       "<IPython.core.display.HTML object>"
      ]
     },
     "metadata": {},
     "output_type": "display_data"
    },
    {
     "data": {
      "text/html": [
       "<a href=\"/pipeline/#/runs/details/23055fb8-c1d4-46f6-a2f4-b1b91f046b83\" target=\"_blank\" >Run details</a>."
      ],
      "text/plain": [
       "<IPython.core.display.HTML object>"
      ]
     },
     "metadata": {},
     "output_type": "display_data"
    },
    {
     "data": {
      "text/html": [
       "<a href=\"/pipeline/#/runs/details/66d31096-dc60-4008-8fa4-c108f7aa9c33\" target=\"_blank\" >Run details</a>."
      ],
      "text/plain": [
       "<IPython.core.display.HTML object>"
      ]
     },
     "metadata": {},
     "output_type": "display_data"
    },
    {
     "data": {
      "text/html": [
       "<a href=\"/pipeline/#/runs/details/fde3de94-7627-42dd-9d24-07f395f7974e\" target=\"_blank\" >Run details</a>."
      ],
      "text/plain": [
       "<IPython.core.display.HTML object>"
      ]
     },
     "metadata": {},
     "output_type": "display_data"
    },
    {
     "data": {
      "text/html": [
       "<a href=\"/pipeline/#/runs/details/c1752d08-88bc-4a3b-bdce-f9227a0a7324\" target=\"_blank\" >Run details</a>."
      ],
      "text/plain": [
       "<IPython.core.display.HTML object>"
      ]
     },
     "metadata": {},
     "output_type": "display_data"
    }
   ],
   "source": [
    "for subject, low_cut in product([1,2,3], [4.,8.]):\n",
    "    _ = experiment.create_job(\n",
    "        job_name=f\"testrun-sub{subject}-l{low_cut}-{datetime.now().isoformat()}\",\n",
    "        subject_id=subject,\n",
    "        low_cut_hz=low_cut,\n",
    "        n_epochs=5\n",
    "    )"
   ]
  },
  {
   "cell_type": "code",
   "execution_count": null,
   "id": "b34e2a3b-73fb-468a-ad62-806584d86ec4",
   "metadata": {},
   "outputs": [],
   "source": []
  }
 ],
 "metadata": {
  "kernelspec": {
   "display_name": "Python 3 (ipykernel)",
   "language": "python",
   "name": "python3"
  },
  "language_info": {
   "codemirror_mode": {
    "name": "ipython",
    "version": 3
   },
   "file_extension": ".py",
   "mimetype": "text/x-python",
   "name": "python",
   "nbconvert_exporter": "python",
   "pygments_lexer": "ipython3",
   "version": "3.10.10"
  }
 },
 "nbformat": 4,
 "nbformat_minor": 5
}
