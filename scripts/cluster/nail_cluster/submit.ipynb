{
 "cells": [
  {
   "cell_type": "markdown",
   "id": "1d8b9310-d4b9-41c2-96a9-0179382f0a47",
   "metadata": {
    "slideshow": {
     "slide_type": "slide"
    },
    "tags": []
   },
   "source": [
    "# Setup environment\n",
    "```bash\n",
    "# Create the job environment. You can choose your python version freely. ipykernel and papermill are required for successfull job execution\n",
    "mamba create -n demo-env python=3.9 ipykernel papermill\n",
    "\n",
    "# enter the environment\n",
    "conda activate demo-env\n",
    "\n",
    "# Install your job requirements. You can use conda/mamba as well as pip.\n",
    "mamba install pytorch cudatoolkit=11.6 -c pytorch -c conda-forge\n",
    "pip install braindecode moabb\n",
    "```"
   ]
  },
  {
   "cell_type": "markdown",
   "id": "a6cc9f58-bb67-4584-8033-6ec89314335a",
   "metadata": {
    "slideshow": {
     "slide_type": "slide"
    },
    "tags": []
   },
   "source": [
    "# Setup Experiment\n",
    "An experiment is a collection of job runs. You can imagine it as a folder to group your job submissions."
   ]
  },
  {
   "cell_type": "code",
   "execution_count": 1,
   "id": "3f6b0cf7-8337-4523-a2e0-1ce03cbd3334",
   "metadata": {},
   "outputs": [],
   "source": [
    "import kf_notebook_job.pipeline\n",
    "\n",
    "kf_notebook_job.pipeline._container_image = 'cr.nail.science/ml-containers/python-job:git-e92e269'"
   ]
  },
  {
   "cell_type": "code",
   "execution_count": 2,
   "id": "194386be-cbd4-47c4-b731-3727eee9d019",
   "metadata": {},
   "outputs": [],
   "source": [
    "from kf_notebook_job import Experiment"
   ]
  },
  {
   "cell_type": "code",
   "execution_count": 3,
   "id": "fafab28b-b51c-4b48-8b66-747f54b31817",
   "metadata": {},
   "outputs": [
    {
     "data": {
      "text/markdown": [
       "[Experiment details](/pipeline/#/experiments/details/f8f651b3-02b9-48a9-bb07-ea7e740fb30c/)"
      ],
      "text/plain": [
       "<IPython.core.display.Markdown object>"
      ]
     },
     "metadata": {},
     "output_type": "display_data"
    }
   ],
   "source": [
    "experiment = Experiment('lib-demo-exp')"
   ]
  },
  {
   "cell_type": "markdown",
   "id": "393eb454-a6f6-43df-ae7a-fc944f964cc0",
   "metadata": {
    "slideshow": {
     "slide_type": "slide"
    },
    "tags": []
   },
   "source": [
    "# Setup Pipeline"
   ]
  },
  {
   "cell_type": "code",
   "execution_count": 4,
   "id": "aaa4e1be-0ef0-4937-bbc1-14b4a911ab46",
   "metadata": {},
   "outputs": [
    {
     "data": {
      "application/vnd.jupyter.widget-view+json": {
       "model_id": "6153ca3cf7e64e7397dcbc437b0860f7",
       "version_major": 2,
       "version_minor": 0
      },
      "text/plain": [
       "VBox(children=(HBox(children=(Label(value='Output Volume'), Dropdown(options=('home', 'mne-data', 'jn2-vol-2')…"
      ]
     },
     "metadata": {},
     "output_type": "display_data"
    },
    {
     "data": {
      "application/vnd.jupyter.widget-view+json": {
       "model_id": "f2a67968481e49cfb5e76f4f98a64c33",
       "version_major": 2,
       "version_minor": 0
      },
      "text/plain": [
       "AppLayout(children=(Label(value='Resource Requests', layout=Layout(grid_area='header')), VBox(children=(Label(…"
      ]
     },
     "metadata": {},
     "output_type": "display_data"
    }
   ],
   "source": [
    "experiment.configure('run_baseline.ipynb',\n",
    "    resources = dict(cpu_request = 8, memory_request = '16Gi', gpu_request = 1)\n",
    ")"
   ]
  },
  {
   "cell_type": "code",
   "execution_count": 5,
   "id": "4c0774bd-bd34-4064-92a9-7d8cd40c0a55",
   "metadata": {},
   "outputs": [
    {
     "data": {
      "text/markdown": [
       "[Pipeline details](/pipeline/#/pipelines/details/53526809-f192-45ee-8375-6f037230e4e4/version/e02dbba6-a973-472e-aea4-294d26a08aeb)"
      ],
      "text/plain": [
       "<IPython.core.display.Markdown object>"
      ]
     },
     "metadata": {},
     "output_type": "display_data"
    }
   ],
   "source": [
    "experiment.save()"
   ]
  },
  {
   "cell_type": "markdown",
   "id": "b7dfda9e-ee15-4c32-af47-5cba348ed0bb",
   "metadata": {
    "tags": []
   },
   "source": [
    "# Submit jobs"
   ]
  },
  {
   "cell_type": "code",
   "execution_count": 6,
   "id": "788203af-ed90-46de-adb7-6183dbaf5211",
   "metadata": {},
   "outputs": [],
   "source": [
    "from datetime import datetime\n",
    "from itertools import product"
   ]
  },
  {
   "cell_type": "code",
   "execution_count": 7,
   "id": "9ca8b79d-e2ce-4f8e-8a0b-d2da7a90e5a7",
   "metadata": {},
   "outputs": [
    {
     "data": {
      "text/html": [
       "<a href=\"/pipeline/#/runs/details/8f3e745f-43cf-4f42-93e7-67490f2d6a89\" target=\"_blank\" >Run details</a>."
      ],
      "text/plain": [
       "<IPython.core.display.HTML object>"
      ]
     },
     "metadata": {},
     "output_type": "display_data"
    },
    {
     "data": {
      "text/html": [
       "<a href=\"/pipeline/#/runs/details/d5bc0330-b095-42bd-9f15-52c6988d599a\" target=\"_blank\" >Run details</a>."
      ],
      "text/plain": [
       "<IPython.core.display.HTML object>"
      ]
     },
     "metadata": {},
     "output_type": "display_data"
    },
    {
     "data": {
      "text/html": [
       "<a href=\"/pipeline/#/runs/details/c755699a-7d23-4dc6-b5fa-e3a38a202a8c\" target=\"_blank\" >Run details</a>."
      ],
      "text/plain": [
       "<IPython.core.display.HTML object>"
      ]
     },
     "metadata": {},
     "output_type": "display_data"
    },
    {
     "data": {
      "text/html": [
       "<a href=\"/pipeline/#/runs/details/cf4de946-9e83-4ae1-90b1-bd0c35abc8dd\" target=\"_blank\" >Run details</a>."
      ],
      "text/plain": [
       "<IPython.core.display.HTML object>"
      ]
     },
     "metadata": {},
     "output_type": "display_data"
    },
    {
     "data": {
      "text/html": [
       "<a href=\"/pipeline/#/runs/details/3abe2860-854d-419e-80b6-94b6c1665671\" target=\"_blank\" >Run details</a>."
      ],
      "text/plain": [
       "<IPython.core.display.HTML object>"
      ]
     },
     "metadata": {},
     "output_type": "display_data"
    },
    {
     "data": {
      "text/html": [
       "<a href=\"/pipeline/#/runs/details/a54876fe-3549-4a95-9cd4-9b5897c06285\" target=\"_blank\" >Run details</a>."
      ],
      "text/plain": [
       "<IPython.core.display.HTML object>"
      ]
     },
     "metadata": {},
     "output_type": "display_data"
    }
   ],
   "source": [
    "for subject, low_cut in product([1,2,3], [4.,8.]):\n",
    "    _ = experiment.create_job(\n",
    "        job_name=f\"testrun-sub{subject}-l{low_cut}-{datetime.now().isoformat()}\",\n",
    "        subject_id=subject,\n",
    "        low_cut_hz=low_cut,\n",
    "        n_epochs=5\n",
    "    )"
   ]
  },
  {
   "cell_type": "code",
   "execution_count": null,
   "id": "b34e2a3b-73fb-468a-ad62-806584d86ec4",
   "metadata": {},
   "outputs": [],
   "source": []
  }
 ],
 "metadata": {
  "kernelspec": {
   "display_name": "Python [conda env:root] *",
   "language": "python",
   "name": "conda-root-py"
  },
  "language_info": {
   "codemirror_mode": {
    "name": "ipython",
    "version": 3
   },
   "file_extension": ".py",
   "mimetype": "text/x-python",
   "name": "python",
   "nbconvert_exporter": "python",
   "pygments_lexer": "ipython3",
   "version": "3.10.10"
  }
 },
 "nbformat": 4,
 "nbformat_minor": 5
}
