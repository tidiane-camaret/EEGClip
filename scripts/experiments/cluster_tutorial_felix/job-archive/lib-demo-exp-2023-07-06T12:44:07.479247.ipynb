{
 "cells": [
  {
   "cell_type": "code",
   "execution_count": 5,
   "id": "6dd7db12-e75a-483f-b435-d22d6d780f6b",
   "metadata": {
    "tags": [
     "parameters"
    ]
   },
   "outputs": [],
   "source": [
    "subject_id: int = 3\n",
    "low_cut_hz: float = 4.\n",
    "high_cut_hz: float = 38.\n",
    "n_epochs: int = 3"
   ]
  },
  {
   "cell_type": "code",
   "execution_count": 6,
   "id": "a8eae33a-8a07-403d-982f-a8500ed8ed21",
   "metadata": {},
   "outputs": [],
   "source": [
    "import pooch\n",
    "import pooch.utils"
   ]
  },
  {
   "cell_type": "code",
   "execution_count": 7,
   "id": "15208e9e-73e1-4135-849d-828e0194dd93",
   "metadata": {},
   "outputs": [],
   "source": [
    "def download_patch(*args,fname=None,path=None, **kwargs):\n",
    "    path = pooch.utils.cache_location(path, env=None, version=None)\n",
    "    full_path = path.resolve() / fname\n",
    "    print('Not downloading to avoid side effects')\n",
    "    return str(full_path)\n",
    "\n",
    "pooch.retrieve = download_patch"
   ]
  },
  {
   "cell_type": "code",
   "execution_count": 8,
   "id": "a370bdf7-369e-4c80-9648-138c160d7e53",
   "metadata": {
    "collapsed": true,
    "jupyter": {
     "outputs_hidden": true
    },
    "tags": []
   },
   "outputs": [
    {
     "name": "stdout",
     "output_type": "stream",
     "text": [
      "Extracting EDF parameters from /home/jovyan/mne_data/MNE-schirrmeister2017-data/robintibor/high-gamma-dataset/raw/master/data/train/3.edf...\n",
      "EDF file detected\n",
      "Channel 'EEG Fp1' recognized as type EEG (renamed to 'Fp1').\n",
      "Channel 'EEG Fp2' recognized as type EEG (renamed to 'Fp2').\n",
      "Channel 'EEG Fpz' recognized as type EEG (renamed to 'Fpz').\n",
      "Channel 'EEG F7' recognized as type EEG (renamed to 'F7').\n",
      "Channel 'EEG F3' recognized as type EEG (renamed to 'F3').\n",
      "Channel 'EEG Fz' recognized as type EEG (renamed to 'Fz').\n",
      "Channel 'EEG F4' recognized as type EEG (renamed to 'F4').\n",
      "Channel 'EEG F8' recognized as type EEG (renamed to 'F8').\n",
      "Channel 'EEG FC5' recognized as type EEG (renamed to 'FC5').\n",
      "Channel 'EEG FC1' recognized as type EEG (renamed to 'FC1').\n",
      "Channel 'EEG FC2' recognized as type EEG (renamed to 'FC2').\n",
      "Channel 'EEG FC6' recognized as type EEG (renamed to 'FC6').\n",
      "Channel 'EEG M1' recognized as type EEG (renamed to 'M1').\n",
      "Channel 'EEG T7' recognized as type EEG (renamed to 'T7').\n",
      "Channel 'EEG C3' recognized as type EEG (renamed to 'C3').\n",
      "Channel 'EEG Cz' recognized as type EEG (renamed to 'Cz').\n",
      "Channel 'EEG C4' recognized as type EEG (renamed to 'C4').\n",
      "Channel 'EEG T8' recognized as type EEG (renamed to 'T8').\n",
      "Channel 'EEG M2' recognized as type EEG (renamed to 'M2').\n",
      "Channel 'EEG CP5' recognized as type EEG (renamed to 'CP5').\n",
      "Channel 'EEG CP1' recognized as type EEG (renamed to 'CP1').\n",
      "Channel 'EEG CP2' recognized as type EEG (renamed to 'CP2').\n",
      "Channel 'EEG CP6' recognized as type EEG (renamed to 'CP6').\n",
      "Channel 'EEG P7' recognized as type EEG (renamed to 'P7').\n",
      "Channel 'EEG P3' recognized as type EEG (renamed to 'P3').\n",
      "Channel 'EEG Pz' recognized as type EEG (renamed to 'Pz').\n",
      "Channel 'EEG P4' recognized as type EEG (renamed to 'P4').\n",
      "Channel 'EEG P8' recognized as type EEG (renamed to 'P8').\n",
      "Channel 'EEG POz' recognized as type EEG (renamed to 'POz').\n",
      "Channel 'EEG O1' recognized as type EEG (renamed to 'O1').\n",
      "Channel 'EEG Oz' recognized as type EEG (renamed to 'Oz').\n",
      "Channel 'EEG O2' recognized as type EEG (renamed to 'O2').\n",
      "Channel 'EOG EOGh' recognized as type EOG (renamed to 'EOGh').\n",
      "Channel 'EOG EOGv' recognized as type EOG (renamed to 'EOGv').\n",
      "Channel 'EMG EMG_RH' recognized as type EMG (renamed to 'EMG_RH').\n",
      "Channel 'EMG EMG_LH' recognized as type EMG (renamed to 'EMG_LH').\n",
      "Channel 'EMG EMG_RF' recognized as type EMG (renamed to 'EMG_RF').\n",
      "Channel 'EEG AF7' recognized as type EEG (renamed to 'AF7').\n",
      "Channel 'EEG AF3' recognized as type EEG (renamed to 'AF3').\n",
      "Channel 'EEG AF4' recognized as type EEG (renamed to 'AF4').\n",
      "Channel 'EEG AF8' recognized as type EEG (renamed to 'AF8').\n",
      "Channel 'EEG F5' recognized as type EEG (renamed to 'F5').\n",
      "Channel 'EEG F1' recognized as type EEG (renamed to 'F1').\n",
      "Channel 'EEG F2' recognized as type EEG (renamed to 'F2').\n",
      "Channel 'EEG F6' recognized as type EEG (renamed to 'F6').\n",
      "Channel 'EEG FC3' recognized as type EEG (renamed to 'FC3').\n",
      "Channel 'EEG FCz' recognized as type EEG (renamed to 'FCz').\n",
      "Channel 'EEG FC4' recognized as type EEG (renamed to 'FC4').\n",
      "Channel 'EEG C5' recognized as type EEG (renamed to 'C5').\n",
      "Channel 'EEG C1' recognized as type EEG (renamed to 'C1').\n",
      "Channel 'EEG C2' recognized as type EEG (renamed to 'C2').\n",
      "Channel 'EEG C6' recognized as type EEG (renamed to 'C6').\n",
      "Channel 'EEG CP3' recognized as type EEG (renamed to 'CP3').\n",
      "Channel 'EEG CPz' recognized as type EEG (renamed to 'CPz').\n",
      "Channel 'EEG CP4' recognized as type EEG (renamed to 'CP4').\n",
      "Channel 'EEG P5' recognized as type EEG (renamed to 'P5').\n",
      "Channel 'EEG P1' recognized as type EEG (renamed to 'P1').\n",
      "Channel 'EEG P2' recognized as type EEG (renamed to 'P2').\n",
      "Channel 'EEG P6' recognized as type EEG (renamed to 'P6').\n",
      "Channel 'EEG PO5' recognized as type EEG (renamed to 'PO5').\n",
      "Channel 'EEG PO3' recognized as type EEG (renamed to 'PO3').\n",
      "Channel 'EEG PO4' recognized as type EEG (renamed to 'PO4').\n",
      "Channel 'EEG PO6' recognized as type EEG (renamed to 'PO6').\n",
      "Channel 'EEG FT7' recognized as type EEG (renamed to 'FT7').\n",
      "Channel 'EEG FT8' recognized as type EEG (renamed to 'FT8').\n",
      "Channel 'EEG TP7' recognized as type EEG (renamed to 'TP7').\n",
      "Channel 'EEG TP8' recognized as type EEG (renamed to 'TP8').\n",
      "Channel 'EEG PO7' recognized as type EEG (renamed to 'PO7').\n",
      "Channel 'EEG PO8' recognized as type EEG (renamed to 'PO8').\n",
      "Channel 'EEG FT9' recognized as type EEG (renamed to 'FT9').\n",
      "Channel 'EEG FT10' recognized as type EEG (renamed to 'FT10').\n",
      "Channel 'EEG TPP9h' recognized as type EEG (renamed to 'TPP9h').\n",
      "Channel 'EEG TPP10h' recognized as type EEG (renamed to 'TPP10h').\n",
      "Channel 'EEG PO9' recognized as type EEG (renamed to 'PO9').\n",
      "Channel 'EEG PO10' recognized as type EEG (renamed to 'PO10').\n",
      "Channel 'EEG P9' recognized as type EEG (renamed to 'P9').\n",
      "Channel 'EEG P10' recognized as type EEG (renamed to 'P10').\n",
      "Channel 'EEG AFF1' recognized as type EEG (renamed to 'AFF1').\n",
      "Channel 'EEG AFz' recognized as type EEG (renamed to 'AFz').\n",
      "Channel 'EEG AFF2' recognized as type EEG (renamed to 'AFF2').\n",
      "Channel 'EEG FFC5h' recognized as type EEG (renamed to 'FFC5h').\n",
      "Channel 'EEG FFC3h' recognized as type EEG (renamed to 'FFC3h').\n",
      "Channel 'EEG FFC4h' recognized as type EEG (renamed to 'FFC4h').\n",
      "Channel 'EEG FFC6h' recognized as type EEG (renamed to 'FFC6h').\n",
      "Channel 'EEG FCC5h' recognized as type EEG (renamed to 'FCC5h').\n",
      "Channel 'EEG FCC3h' recognized as type EEG (renamed to 'FCC3h').\n",
      "Channel 'EEG FCC4h' recognized as type EEG (renamed to 'FCC4h').\n",
      "Channel 'EEG FCC6h' recognized as type EEG (renamed to 'FCC6h').\n",
      "Channel 'EEG CCP5h' recognized as type EEG (renamed to 'CCP5h').\n",
      "Channel 'EEG CCP3h' recognized as type EEG (renamed to 'CCP3h').\n",
      "Channel 'EEG CCP4h' recognized as type EEG (renamed to 'CCP4h').\n",
      "Channel 'EEG CCP6h' recognized as type EEG (renamed to 'CCP6h').\n",
      "Channel 'EEG CPP5h' recognized as type EEG (renamed to 'CPP5h').\n",
      "Channel 'EEG CPP3h' recognized as type EEG (renamed to 'CPP3h').\n",
      "Channel 'EEG CPP4h' recognized as type EEG (renamed to 'CPP4h').\n",
      "Channel 'EEG CPP6h' recognized as type EEG (renamed to 'CPP6h').\n",
      "Channel 'EEG PPO1' recognized as type EEG (renamed to 'PPO1').\n",
      "Channel 'EEG PPO2' recognized as type EEG (renamed to 'PPO2').\n",
      "Channel 'EEG I1' recognized as type EEG (renamed to 'I1').\n",
      "Channel 'EEG Iz' recognized as type EEG (renamed to 'Iz').\n",
      "Channel 'EEG I2' recognized as type EEG (renamed to 'I2').\n",
      "Channel 'EEG AFp3h' recognized as type EEG (renamed to 'AFp3h').\n",
      "Channel 'EEG AFp4h' recognized as type EEG (renamed to 'AFp4h').\n",
      "Channel 'EEG AFF5h' recognized as type EEG (renamed to 'AFF5h').\n",
      "Channel 'EEG AFF6h' recognized as type EEG (renamed to 'AFF6h').\n",
      "Channel 'EEG FFT7h' recognized as type EEG (renamed to 'FFT7h').\n",
      "Channel 'EEG FFC1h' recognized as type EEG (renamed to 'FFC1h').\n",
      "Channel 'EEG FFC2h' recognized as type EEG (renamed to 'FFC2h').\n",
      "Channel 'EEG FFT8h' recognized as type EEG (renamed to 'FFT8h').\n",
      "Channel 'EEG FTT9h' recognized as type EEG (renamed to 'FTT9h').\n",
      "Channel 'EEG FTT7h' recognized as type EEG (renamed to 'FTT7h').\n",
      "Channel 'EEG FCC1h' recognized as type EEG (renamed to 'FCC1h').\n",
      "Channel 'EEG FCC2h' recognized as type EEG (renamed to 'FCC2h').\n",
      "Channel 'EEG FTT8h' recognized as type EEG (renamed to 'FTT8h').\n",
      "Channel 'EEG FTT10h' recognized as type EEG (renamed to 'FTT10h').\n",
      "Channel 'EEG TTP7h' recognized as type EEG (renamed to 'TTP7h').\n",
      "Channel 'EEG CCP1h' recognized as type EEG (renamed to 'CCP1h').\n",
      "Channel 'EEG CCP2h' recognized as type EEG (renamed to 'CCP2h').\n",
      "Channel 'EEG TTP8h' recognized as type EEG (renamed to 'TTP8h').\n",
      "Channel 'EEG TPP7h' recognized as type EEG (renamed to 'TPP7h').\n",
      "Channel 'EEG CPP1h' recognized as type EEG (renamed to 'CPP1h').\n",
      "Channel 'EEG CPP2h' recognized as type EEG (renamed to 'CPP2h').\n",
      "Channel 'EEG TPP8h' recognized as type EEG (renamed to 'TPP8h').\n",
      "Channel 'EEG PPO9h' recognized as type EEG (renamed to 'PPO9h').\n",
      "Channel 'EEG PPO5h' recognized as type EEG (renamed to 'PPO5h').\n",
      "Channel 'EEG PPO6h' recognized as type EEG (renamed to 'PPO6h').\n",
      "Channel 'EEG PPO10h' recognized as type EEG (renamed to 'PPO10h').\n",
      "Channel 'EEG POO9h' recognized as type EEG (renamed to 'POO9h').\n",
      "Channel 'EEG POO3h' recognized as type EEG (renamed to 'POO3h').\n",
      "Channel 'EEG POO4h' recognized as type EEG (renamed to 'POO4h').\n",
      "Channel 'EEG POO10h' recognized as type EEG (renamed to 'POO10h').\n",
      "Channel 'EEG OI1h' recognized as type EEG (renamed to 'OI1h').\n",
      "Channel 'EEG OI2h' recognized as type EEG (renamed to 'OI2h').\n",
      "Setting channel info structure...\n",
      "Creating raw.info structure...\n",
      "Extracting EDF parameters from /home/jovyan/mne_data/MNE-schirrmeister2017-data/robintibor/high-gamma-dataset/raw/master/data/test/3.edf...\n",
      "EDF file detected\n",
      "Channel 'EEG Fp1' recognized as type EEG (renamed to 'Fp1').\n",
      "Channel 'EEG Fp2' recognized as type EEG (renamed to 'Fp2').\n",
      "Channel 'EEG Fpz' recognized as type EEG (renamed to 'Fpz').\n",
      "Channel 'EEG F7' recognized as type EEG (renamed to 'F7').\n",
      "Channel 'EEG F3' recognized as type EEG (renamed to 'F3').\n",
      "Channel 'EEG Fz' recognized as type EEG (renamed to 'Fz').\n",
      "Channel 'EEG F4' recognized as type EEG (renamed to 'F4').\n",
      "Channel 'EEG F8' recognized as type EEG (renamed to 'F8').\n",
      "Channel 'EEG FC5' recognized as type EEG (renamed to 'FC5').\n",
      "Channel 'EEG FC1' recognized as type EEG (renamed to 'FC1').\n",
      "Channel 'EEG FC2' recognized as type EEG (renamed to 'FC2').\n",
      "Channel 'EEG FC6' recognized as type EEG (renamed to 'FC6').\n",
      "Channel 'EEG M1' recognized as type EEG (renamed to 'M1').\n",
      "Channel 'EEG T7' recognized as type EEG (renamed to 'T7').\n",
      "Channel 'EEG C3' recognized as type EEG (renamed to 'C3').\n",
      "Channel 'EEG Cz' recognized as type EEG (renamed to 'Cz').\n",
      "Channel 'EEG C4' recognized as type EEG (renamed to 'C4').\n",
      "Channel 'EEG T8' recognized as type EEG (renamed to 'T8').\n",
      "Channel 'EEG M2' recognized as type EEG (renamed to 'M2').\n",
      "Channel 'EEG CP5' recognized as type EEG (renamed to 'CP5').\n",
      "Channel 'EEG CP1' recognized as type EEG (renamed to 'CP1').\n",
      "Channel 'EEG CP2' recognized as type EEG (renamed to 'CP2').\n",
      "Channel 'EEG CP6' recognized as type EEG (renamed to 'CP6').\n",
      "Channel 'EEG P7' recognized as type EEG (renamed to 'P7').\n",
      "Channel 'EEG P3' recognized as type EEG (renamed to 'P3').\n",
      "Channel 'EEG Pz' recognized as type EEG (renamed to 'Pz').\n",
      "Channel 'EEG P4' recognized as type EEG (renamed to 'P4').\n",
      "Channel 'EEG P8' recognized as type EEG (renamed to 'P8').\n",
      "Channel 'EEG POz' recognized as type EEG (renamed to 'POz').\n",
      "Channel 'EEG O1' recognized as type EEG (renamed to 'O1').\n",
      "Channel 'EEG Oz' recognized as type EEG (renamed to 'Oz').\n",
      "Channel 'EEG O2' recognized as type EEG (renamed to 'O2').\n",
      "Channel 'EOG EOGh' recognized as type EOG (renamed to 'EOGh').\n",
      "Channel 'EOG EOGv' recognized as type EOG (renamed to 'EOGv').\n",
      "Channel 'EMG EMG_RH' recognized as type EMG (renamed to 'EMG_RH').\n",
      "Channel 'EMG EMG_LH' recognized as type EMG (renamed to 'EMG_LH').\n",
      "Channel 'EMG EMG_RF' recognized as type EMG (renamed to 'EMG_RF').\n",
      "Channel 'EEG AF7' recognized as type EEG (renamed to 'AF7').\n",
      "Channel 'EEG AF3' recognized as type EEG (renamed to 'AF3').\n",
      "Channel 'EEG AF4' recognized as type EEG (renamed to 'AF4').\n",
      "Channel 'EEG AF8' recognized as type EEG (renamed to 'AF8').\n",
      "Channel 'EEG F5' recognized as type EEG (renamed to 'F5').\n",
      "Channel 'EEG F1' recognized as type EEG (renamed to 'F1').\n",
      "Channel 'EEG F2' recognized as type EEG (renamed to 'F2').\n",
      "Channel 'EEG F6' recognized as type EEG (renamed to 'F6').\n",
      "Channel 'EEG FC3' recognized as type EEG (renamed to 'FC3').\n",
      "Channel 'EEG FCz' recognized as type EEG (renamed to 'FCz').\n",
      "Channel 'EEG FC4' recognized as type EEG (renamed to 'FC4').\n",
      "Channel 'EEG C5' recognized as type EEG (renamed to 'C5').\n",
      "Channel 'EEG C1' recognized as type EEG (renamed to 'C1').\n",
      "Channel 'EEG C2' recognized as type EEG (renamed to 'C2').\n",
      "Channel 'EEG C6' recognized as type EEG (renamed to 'C6').\n",
      "Channel 'EEG CP3' recognized as type EEG (renamed to 'CP3').\n",
      "Channel 'EEG CPz' recognized as type EEG (renamed to 'CPz').\n",
      "Channel 'EEG CP4' recognized as type EEG (renamed to 'CP4').\n",
      "Channel 'EEG P5' recognized as type EEG (renamed to 'P5').\n",
      "Channel 'EEG P1' recognized as type EEG (renamed to 'P1').\n",
      "Channel 'EEG P2' recognized as type EEG (renamed to 'P2').\n",
      "Channel 'EEG P6' recognized as type EEG (renamed to 'P6').\n",
      "Channel 'EEG PO5' recognized as type EEG (renamed to 'PO5').\n",
      "Channel 'EEG PO3' recognized as type EEG (renamed to 'PO3').\n",
      "Channel 'EEG PO4' recognized as type EEG (renamed to 'PO4').\n",
      "Channel 'EEG PO6' recognized as type EEG (renamed to 'PO6').\n",
      "Channel 'EEG FT7' recognized as type EEG (renamed to 'FT7').\n",
      "Channel 'EEG FT8' recognized as type EEG (renamed to 'FT8').\n",
      "Channel 'EEG TP7' recognized as type EEG (renamed to 'TP7').\n",
      "Channel 'EEG TP8' recognized as type EEG (renamed to 'TP8').\n",
      "Channel 'EEG PO7' recognized as type EEG (renamed to 'PO7').\n",
      "Channel 'EEG PO8' recognized as type EEG (renamed to 'PO8').\n",
      "Channel 'EEG FT9' recognized as type EEG (renamed to 'FT9').\n",
      "Channel 'EEG FT10' recognized as type EEG (renamed to 'FT10').\n",
      "Channel 'EEG TPP9h' recognized as type EEG (renamed to 'TPP9h').\n",
      "Channel 'EEG TPP10h' recognized as type EEG (renamed to 'TPP10h').\n",
      "Channel 'EEG PO9' recognized as type EEG (renamed to 'PO9').\n",
      "Channel 'EEG PO10' recognized as type EEG (renamed to 'PO10').\n",
      "Channel 'EEG P9' recognized as type EEG (renamed to 'P9').\n",
      "Channel 'EEG P10' recognized as type EEG (renamed to 'P10').\n",
      "Channel 'EEG AFF1' recognized as type EEG (renamed to 'AFF1').\n",
      "Channel 'EEG AFz' recognized as type EEG (renamed to 'AFz').\n",
      "Channel 'EEG AFF2' recognized as type EEG (renamed to 'AFF2').\n",
      "Channel 'EEG FFC5h' recognized as type EEG (renamed to 'FFC5h').\n",
      "Channel 'EEG FFC3h' recognized as type EEG (renamed to 'FFC3h').\n",
      "Channel 'EEG FFC4h' recognized as type EEG (renamed to 'FFC4h').\n",
      "Channel 'EEG FFC6h' recognized as type EEG (renamed to 'FFC6h').\n",
      "Channel 'EEG FCC5h' recognized as type EEG (renamed to 'FCC5h').\n",
      "Channel 'EEG FCC3h' recognized as type EEG (renamed to 'FCC3h').\n",
      "Channel 'EEG FCC4h' recognized as type EEG (renamed to 'FCC4h').\n",
      "Channel 'EEG FCC6h' recognized as type EEG (renamed to 'FCC6h').\n",
      "Channel 'EEG CCP5h' recognized as type EEG (renamed to 'CCP5h').\n",
      "Channel 'EEG CCP3h' recognized as type EEG (renamed to 'CCP3h').\n",
      "Channel 'EEG CCP4h' recognized as type EEG (renamed to 'CCP4h').\n",
      "Channel 'EEG CCP6h' recognized as type EEG (renamed to 'CCP6h').\n",
      "Channel 'EEG CPP5h' recognized as type EEG (renamed to 'CPP5h').\n",
      "Channel 'EEG CPP3h' recognized as type EEG (renamed to 'CPP3h').\n",
      "Channel 'EEG CPP4h' recognized as type EEG (renamed to 'CPP4h').\n",
      "Channel 'EEG CPP6h' recognized as type EEG (renamed to 'CPP6h').\n",
      "Channel 'EEG PPO1' recognized as type EEG (renamed to 'PPO1').\n",
      "Channel 'EEG PPO2' recognized as type EEG (renamed to 'PPO2').\n",
      "Channel 'EEG I1' recognized as type EEG (renamed to 'I1').\n",
      "Channel 'EEG Iz' recognized as type EEG (renamed to 'Iz').\n",
      "Channel 'EEG I2' recognized as type EEG (renamed to 'I2').\n",
      "Channel 'EEG AFp3h' recognized as type EEG (renamed to 'AFp3h').\n",
      "Channel 'EEG AFp4h' recognized as type EEG (renamed to 'AFp4h').\n",
      "Channel 'EEG AFF5h' recognized as type EEG (renamed to 'AFF5h').\n",
      "Channel 'EEG AFF6h' recognized as type EEG (renamed to 'AFF6h').\n",
      "Channel 'EEG FFT7h' recognized as type EEG (renamed to 'FFT7h').\n",
      "Channel 'EEG FFC1h' recognized as type EEG (renamed to 'FFC1h').\n",
      "Channel 'EEG FFC2h' recognized as type EEG (renamed to 'FFC2h').\n",
      "Channel 'EEG FFT8h' recognized as type EEG (renamed to 'FFT8h').\n",
      "Channel 'EEG FTT9h' recognized as type EEG (renamed to 'FTT9h').\n",
      "Channel 'EEG FTT7h' recognized as type EEG (renamed to 'FTT7h').\n",
      "Channel 'EEG FCC1h' recognized as type EEG (renamed to 'FCC1h').\n",
      "Channel 'EEG FCC2h' recognized as type EEG (renamed to 'FCC2h').\n",
      "Channel 'EEG FTT8h' recognized as type EEG (renamed to 'FTT8h').\n",
      "Channel 'EEG FTT10h' recognized as type EEG (renamed to 'FTT10h').\n",
      "Channel 'EEG TTP7h' recognized as type EEG (renamed to 'TTP7h').\n",
      "Channel 'EEG CCP1h' recognized as type EEG (renamed to 'CCP1h').\n",
      "Channel 'EEG CCP2h' recognized as type EEG (renamed to 'CCP2h').\n",
      "Channel 'EEG TTP8h' recognized as type EEG (renamed to 'TTP8h').\n",
      "Channel 'EEG TPP7h' recognized as type EEG (renamed to 'TPP7h').\n",
      "Channel 'EEG CPP1h' recognized as type EEG (renamed to 'CPP1h').\n",
      "Channel 'EEG CPP2h' recognized as type EEG (renamed to 'CPP2h').\n",
      "Channel 'EEG TPP8h' recognized as type EEG (renamed to 'TPP8h').\n",
      "Channel 'EEG PPO9h' recognized as type EEG (renamed to 'PPO9h').\n",
      "Channel 'EEG PPO5h' recognized as type EEG (renamed to 'PPO5h').\n",
      "Channel 'EEG PPO6h' recognized as type EEG (renamed to 'PPO6h').\n",
      "Channel 'EEG PPO10h' recognized as type EEG (renamed to 'PPO10h').\n",
      "Channel 'EEG POO9h' recognized as type EEG (renamed to 'POO9h').\n",
      "Channel 'EEG POO3h' recognized as type EEG (renamed to 'POO3h').\n",
      "Channel 'EEG POO4h' recognized as type EEG (renamed to 'POO4h').\n",
      "Channel 'EEG POO10h' recognized as type EEG (renamed to 'POO10h').\n",
      "Channel 'EEG OI1h' recognized as type EEG (renamed to 'OI1h').\n",
      "Channel 'EEG OI2h' recognized as type EEG (renamed to 'OI2h').\n",
      "Setting channel info structure...\n",
      "Creating raw.info structure...\n"
     ]
    }
   ],
   "source": [
    "from braindecode.datasets.moabb import MOABBDataset\n",
    "\n",
    "dataset = MOABBDataset(dataset_name=\"Schirrmeister2017\", subject_ids=[subject_id])"
   ]
  },
  {
   "cell_type": "code",
   "execution_count": 3,
   "id": "b60122b2-2343-4b0a-9d89-f00962b8d780",
   "metadata": {
    "collapsed": true,
    "jupyter": {
     "outputs_hidden": true
    },
    "tags": []
   },
   "outputs": [
    {
     "name": "stdout",
     "output_type": "stream",
     "text": [
      "Reading 0 ... 3347499  =      0.000 ...  6694.998 secs...\n"
     ]
    },
    {
     "name": "stderr",
     "output_type": "stream",
     "text": [
      "/opt/conda/envs/demo-env/lib/python3.9/site-packages/braindecode/datautil/preprocess.py:10: UserWarning: datautil.preprocess module is deprecated and is now under preprocessing.preprocess, please use from import braindecode.preprocessing.preprocess\n",
      "  warn('datautil.preprocess module is deprecated and is now under '\n",
      "/opt/conda/envs/demo-env/lib/python3.9/site-packages/braindecode/preprocessing/preprocess.py:52: UserWarning: Preprocessing choices with lambda functions cannot be saved.\n",
      "  warn('Preprocessing choices with lambda functions cannot be saved.')\n"
     ]
    },
    {
     "name": "stdout",
     "output_type": "stream",
     "text": [
      "Filtering raw data in 1 contiguous segment\n",
      "Setting up band-pass filter from 4 - 38 Hz\n",
      "\n",
      "FIR filter parameters\n",
      "---------------------\n",
      "Designing a one-pass, zero-phase, non-causal bandpass filter:\n",
      "- Windowed time-domain design (firwin) method\n",
      "- Hamming window with 0.0194 passband ripple and 53 dB stopband attenuation\n",
      "- Lower passband edge: 4.00\n",
      "- Lower transition bandwidth: 2.00 Hz (-6 dB cutoff frequency: 3.00 Hz)\n",
      "- Upper passband edge: 38.00 Hz\n",
      "- Upper transition bandwidth: 9.50 Hz (-6 dB cutoff frequency: 42.75 Hz)\n",
      "- Filter length: 825 samples (1.650 sec)\n",
      "\n"
     ]
    },
    {
     "name": "stderr",
     "output_type": "stream",
     "text": [
      "[Parallel(n_jobs=1)]: Using backend SequentialBackend with 1 concurrent workers.\n",
      "[Parallel(n_jobs=1)]: Done   1 out of   1 | elapsed:    0.1s remaining:    0.0s\n",
      "[Parallel(n_jobs=1)]: Done   2 out of   2 | elapsed:    0.1s remaining:    0.0s\n",
      "[Parallel(n_jobs=1)]: Done   3 out of   3 | elapsed:    0.2s remaining:    0.0s\n",
      "[Parallel(n_jobs=1)]: Done   4 out of   4 | elapsed:    0.3s remaining:    0.0s\n",
      "[Parallel(n_jobs=1)]: Done 128 out of 128 | elapsed:    8.8s finished\n"
     ]
    },
    {
     "name": "stdout",
     "output_type": "stream",
     "text": [
      "Reading 0 ... 609499  =      0.000 ...  1218.998 secs...\n",
      "Filtering raw data in 1 contiguous segment\n",
      "Setting up band-pass filter from 4 - 38 Hz\n",
      "\n",
      "FIR filter parameters\n",
      "---------------------\n",
      "Designing a one-pass, zero-phase, non-causal bandpass filter:\n",
      "- Windowed time-domain design (firwin) method\n",
      "- Hamming window with 0.0194 passband ripple and 53 dB stopband attenuation\n",
      "- Lower passband edge: 4.00\n",
      "- Lower transition bandwidth: 2.00 Hz (-6 dB cutoff frequency: 3.00 Hz)\n",
      "- Upper passband edge: 38.00 Hz\n",
      "- Upper transition bandwidth: 9.50 Hz (-6 dB cutoff frequency: 42.75 Hz)\n",
      "- Filter length: 825 samples (1.650 sec)\n",
      "\n"
     ]
    },
    {
     "name": "stderr",
     "output_type": "stream",
     "text": [
      "[Parallel(n_jobs=1)]: Using backend SequentialBackend with 1 concurrent workers.\n",
      "[Parallel(n_jobs=1)]: Done   1 out of   1 | elapsed:    0.0s remaining:    0.0s\n",
      "[Parallel(n_jobs=1)]: Done   2 out of   2 | elapsed:    0.0s remaining:    0.0s\n",
      "[Parallel(n_jobs=1)]: Done   3 out of   3 | elapsed:    0.0s remaining:    0.0s\n",
      "[Parallel(n_jobs=1)]: Done   4 out of   4 | elapsed:    0.0s remaining:    0.0s\n",
      "[Parallel(n_jobs=1)]: Done 128 out of 128 | elapsed:    1.5s finished\n"
     ]
    },
    {
     "data": {
      "text/plain": [
       "<braindecode.datasets.moabb.MOABBDataset at 0x7fdbb453d640>"
      ]
     },
     "execution_count": 3,
     "metadata": {},
     "output_type": "execute_result"
    }
   ],
   "source": [
    "from braindecode.datautil.preprocess import (\n",
    "    exponential_moving_standardize, preprocess, Preprocessor)\n",
    "\n",
    "low_cut_hz = low_cut_hz\n",
    "high_cut_hz = high_cut_hz\n",
    "\n",
    "factor_new = 1e-3\n",
    "init_block_size = 1000\n",
    "\n",
    "preprocessors = [\n",
    "    Preprocessor('pick_types', eeg=True, meg=False, stim=False),  # Keep EEG sensors\n",
    "    Preprocessor(lambda x: x * 1e6),  # Convert from V to uV\n",
    "    Preprocessor('filter', l_freq=low_cut_hz, h_freq=high_cut_hz),  # Bandpass filter\n",
    "    Preprocessor(exponential_moving_standardize,  # Exponential moving standardization\n",
    "                 factor_new=factor_new, init_block_size=init_block_size)\n",
    "]\n",
    "\n",
    "preprocess(dataset, preprocessors)"
   ]
  },
  {
   "cell_type": "code",
   "execution_count": 4,
   "id": "f3c58207-a607-4f07-9a9a-91ca847ac39e",
   "metadata": {},
   "outputs": [
    {
     "name": "stdout",
     "output_type": "stream",
     "text": [
      "Used Annotations descriptions: ['feet', 'left_hand', 'rest', 'right_hand']\n",
      "Adding metadata with 4 columns\n",
      "880 matching events found\n",
      "No baseline correction applied\n",
      "0 projection items activated\n",
      "Using data from preloaded Raw for 880 events and 2250 original time points ...\n"
     ]
    },
    {
     "name": "stderr",
     "output_type": "stream",
     "text": [
      "/opt/conda/envs/demo-env/lib/python3.9/site-packages/braindecode/datautil/windowers.py:4: UserWarning: datautil.windowers module is deprecated and is now under preprocessing.windowers, please use from import braindecode.preprocessing.windowers\n",
      "  warn('datautil.windowers module is deprecated and is now under '\n"
     ]
    },
    {
     "name": "stdout",
     "output_type": "stream",
     "text": [
      "0 bad epochs dropped\n",
      "Used Annotations descriptions: ['feet', 'left_hand', 'rest', 'right_hand']\n",
      "Adding metadata with 4 columns\n",
      "160 matching events found\n",
      "No baseline correction applied\n",
      "0 projection items activated\n",
      "Using data from preloaded Raw for 160 events and 2250 original time points ...\n",
      "0 bad epochs dropped\n"
     ]
    }
   ],
   "source": [
    "from braindecode.datautil.windowers import create_windows_from_events\n",
    "\n",
    "trial_start_offset_seconds = -0.5\n",
    "sfreq = dataset.datasets[0].raw.info['sfreq']\n",
    "assert all([ds.raw.info['sfreq'] == sfreq for ds in dataset.datasets])\n",
    "trial_start_offset_samples = int(trial_start_offset_seconds * sfreq)\n",
    "\n",
    "windows_dataset = create_windows_from_events(\n",
    "    dataset,\n",
    "    trial_start_offset_samples=trial_start_offset_samples,\n",
    "    trial_stop_offset_samples=0,\n",
    "    preload=True,\n",
    ")\n",
    "\n",
    "splitted = windows_dataset.split('run')\n",
    "train_set = splitted['train']\n",
    "valid_set = splitted['test']"
   ]
  },
  {
   "cell_type": "code",
   "execution_count": 5,
   "id": "2ce0af1b-0cc2-4c98-b087-1b8a71306538",
   "metadata": {},
   "outputs": [
    {
     "name": "stderr",
     "output_type": "stream",
     "text": [
      "/opt/conda/envs/demo-env/lib/python3.9/site-packages/braindecode/util.py:51: UserWarning: torch.backends.cudnn.benchmark was set to True which may results in lack of reproducibility. In some cases to ensure reproducibility you may need to set torch.backends.cudnn.benchmark to False.\n",
      "  warn(\n"
     ]
    },
    {
     "name": "stdout",
     "output_type": "stream",
     "text": [
      "Using GPU\n"
     ]
    }
   ],
   "source": [
    "import torch\n",
    "from braindecode.util import set_random_seeds\n",
    "from braindecode.models import ShallowFBCSPNet\n",
    "\n",
    "cuda = torch.cuda.is_available()  # check if GPU is available, if True chooses to use it\n",
    "device = 'cuda' if cuda else 'cpu'\n",
    "if cuda:\n",
    "    torch.backends.cudnn.benchmark = True\n",
    "seed = 20200220  # random seed to make results reproducible\n",
    "# Set random seed to be able to reproduce results\n",
    "set_random_seeds(seed=seed, cuda=cuda)\n",
    "\n",
    "n_classes = 4\n",
    "# Extract number of chans and time steps from dataset\n",
    "n_chans = train_set[0][0].shape[0]\n",
    "input_window_samples = train_set[0][0].shape[1]\n",
    "\n",
    "model = ShallowFBCSPNet(\n",
    "    n_chans,\n",
    "    n_classes,\n",
    "    input_window_samples=input_window_samples,\n",
    "    final_conv_length='auto',\n",
    ")\n",
    "\n",
    "# Send model to GPU\n",
    "if cuda:\n",
    "    print(\"Using GPU\")\n",
    "    model.cuda()\n",
    "else:\n",
    "    print(\"Using CPU\")\n"
   ]
  },
  {
   "cell_type": "code",
   "execution_count": 6,
   "id": "6f197f4a-0c52-4d00-8609-b2e69a47b17c",
   "metadata": {},
   "outputs": [
    {
     "name": "stdout",
     "output_type": "stream",
     "text": [
      "  epoch    train_accuracy    train_loss    valid_accuracy    valid_loss      lr      dur\n",
      "-------  ----------------  ------------  ----------------  ------------  ------  -------\n",
      "      1            \u001b[36m0.5864\u001b[0m        \u001b[32m1.6701\u001b[0m            \u001b[35m0.5312\u001b[0m        \u001b[31m1.0932\u001b[0m  0.0006  12.6085\n",
      "      2            \u001b[36m0.6977\u001b[0m        \u001b[32m1.1627\u001b[0m            \u001b[35m0.5500\u001b[0m        \u001b[31m1.0140\u001b[0m  0.0003  5.1923\n",
      "      3            0.6943        \u001b[32m0.9755\u001b[0m            \u001b[35m0.5563\u001b[0m        1.0144  0.0000  4.9970\n"
     ]
    },
    {
     "data": {
      "text/plain": [
       "<class 'braindecode.classifier.EEGClassifier'>[initialized](\n",
       "  module_=ShallowFBCSPNet(\n",
       "    (ensuredims): Ensure4d()\n",
       "    (dimshuffle): Expression(expression=transpose_time_to_spat) \n",
       "    (conv_time): Conv2d(1, 40, kernel_size=(25, 1), stride=(1, 1))\n",
       "    (conv_spat): Conv2d(40, 40, kernel_size=(1, 128), stride=(1, 1), bias=False)\n",
       "    (bnorm): BatchNorm2d(40, eps=1e-05, momentum=0.1, affine=True, track_running_stats=True)\n",
       "    (conv_nonlin_exp): Expression(expression=square) \n",
       "    (pool): AvgPool2d(kernel_size=(75, 1), stride=(15, 1), padding=0)\n",
       "    (pool_nonlin_exp): Expression(expression=safe_log) \n",
       "    (drop): Dropout(p=0.5, inplace=False)\n",
       "    (conv_classifier): Conv2d(40, 4, kernel_size=(144, 1), stride=(1, 1))\n",
       "    (softmax): LogSoftmax(dim=1)\n",
       "    (squeeze): Expression(expression=squeeze_final_output) \n",
       "  ),\n",
       ")"
      ]
     },
     "execution_count": 6,
     "metadata": {},
     "output_type": "execute_result"
    }
   ],
   "source": [
    "from skorch.callbacks import LRScheduler\n",
    "from skorch.helper import predefined_split\n",
    "\n",
    "from braindecode import EEGClassifier\n",
    "# These values we found good for shallow network:\n",
    "lr = 0.0625 * 0.01\n",
    "weight_decay = 0\n",
    "\n",
    "# For deep4 they should be:\n",
    "# lr = 1 * 0.01\n",
    "# weight_decay = 0.5 * 0.001\n",
    "\n",
    "batch_size = 64\n",
    "\n",
    "clf = EEGClassifier(\n",
    "    model,\n",
    "    criterion=torch.nn.NLLLoss,\n",
    "    optimizer=torch.optim.AdamW,\n",
    "    train_split=predefined_split(valid_set),  # using valid_set for validation\n",
    "    optimizer__lr=lr,\n",
    "    optimizer__weight_decay=weight_decay,\n",
    "    batch_size=batch_size,\n",
    "    callbacks=[\n",
    "        \"accuracy\", (\"lr_scheduler\", LRScheduler('CosineAnnealingLR', T_max=n_epochs - 1)),\n",
    "    ],\n",
    "    device=device,\n",
    ")\n",
    "\n",
    "clf.fit(train_set, y=None, epochs=n_epochs)"
   ]
  },
  {
   "cell_type": "code",
   "execution_count": 9,
   "id": "d64b3811-5528-4fc7-a011-efaf164e2e27",
   "metadata": {},
   "outputs": [
    {
     "data": {
      "text/html": [
       "<div>\n",
       "<style scoped>\n",
       "    .dataframe tbody tr th:only-of-type {\n",
       "        vertical-align: middle;\n",
       "    }\n",
       "\n",
       "    .dataframe tbody tr th {\n",
       "        vertical-align: top;\n",
       "    }\n",
       "\n",
       "    .dataframe thead th {\n",
       "        text-align: right;\n",
       "    }\n",
       "</style>\n",
       "<table border=\"1\" class=\"dataframe\">\n",
       "  <thead>\n",
       "    <tr style=\"text-align: right;\">\n",
       "      <th></th>\n",
       "      <th>train_loss</th>\n",
       "      <th>valid_loss</th>\n",
       "      <th>train_accuracy</th>\n",
       "      <th>valid_accuracy</th>\n",
       "    </tr>\n",
       "  </thead>\n",
       "  <tbody>\n",
       "    <tr>\n",
       "      <th>1</th>\n",
       "      <td>1.670140</td>\n",
       "      <td>1.093214</td>\n",
       "      <td>0.586364</td>\n",
       "      <td>0.53125</td>\n",
       "    </tr>\n",
       "    <tr>\n",
       "      <th>2</th>\n",
       "      <td>1.162744</td>\n",
       "      <td>1.014016</td>\n",
       "      <td>0.697727</td>\n",
       "      <td>0.55000</td>\n",
       "    </tr>\n",
       "    <tr>\n",
       "      <th>3</th>\n",
       "      <td>0.975512</td>\n",
       "      <td>1.014430</td>\n",
       "      <td>0.694318</td>\n",
       "      <td>0.55625</td>\n",
       "    </tr>\n",
       "  </tbody>\n",
       "</table>\n",
       "</div>"
      ],
      "text/plain": [
       "   train_loss  valid_loss  train_accuracy  valid_accuracy\n",
       "1    1.670140    1.093214        0.586364         0.53125\n",
       "2    1.162744    1.014016        0.697727         0.55000\n",
       "3    0.975512    1.014430        0.694318         0.55625"
      ]
     },
     "execution_count": 9,
     "metadata": {},
     "output_type": "execute_result"
    }
   ],
   "source": [
    "import pandas as pd\n",
    "\n",
    "# Extract loss and accuracy values for plotting from history object\n",
    "results_columns = ['train_loss', 'valid_loss', 'train_accuracy', 'valid_accuracy']\n",
    "df = pd.DataFrame(clf.history[:, results_columns], columns=results_columns,\n",
    "                  index=clf.history[:, 'epoch'])\n",
    "df"
   ]
  },
  {
   "cell_type": "code",
   "execution_count": 15,
   "id": "035e73e8-7ff5-4bb7-9cdb-9edc6a395d92",
   "metadata": {},
   "outputs": [
    {
     "data": {
      "text/plain": [
       "<AxesSubplot:>"
      ]
     },
     "execution_count": 15,
     "metadata": {},
     "output_type": "execute_result"
    },
    {
     "data": {
      "text/plain": [
       "<Figure size 640x480 with 0 Axes>"
      ]
     },
     "metadata": {},
     "output_type": "display_data"
    },
    {
     "data": {
      "image/png": "[encoded data removed]",
      "text/plain": [
       "<Figure size 640x480 with 1 Axes>"
      ]
     },
     "metadata": {},
     "output_type": "display_data"
    }
   ],
   "source": [
    "import matplotlib.pyplot as mp\n",
    "mp.figure()\n",
    "df.plot()"
   ]
  },
  {
   "cell_type": "code",
   "execution_count": 23,
   "id": "2a87ac59-a622-4734-a245-4fe03097e0c3",
   "metadata": {},
   "outputs": [
    {
     "name": "stdout",
     "output_type": "stream",
     "text": [
      "failed to save model to path /home/jovyan/model.pt: file exists\n"
     ]
    }
   ],
   "source": [
    "import os\n",
    "job_name = os.environ.get('JOB_NAME', None)\n",
    "\n",
    "if job_name is not None:  \n",
    "    model_file = f\"{job_name}.model.pt\"\n",
    "    model_path = os.path.join(os.getcwd(), model_file)\n",
    "else:\n",
    "    model_path = os.path.join(os.getcwd(), 'model.pt')\n",
    "\n",
    "if not os.path.exists(model_path):\n",
    "    torch.save(model.state_dict(), model_path)\n",
    "    print(f\"saved model to {model_path}\")\n",
    "else:\n",
    "    print(f\"failed to save model to path {model_path}: file exists\")"
   ]
  }
 ],
 "metadata": {
  "kernelspec": {
   "display_name": "tid_env",
   "language": "python",
   "name": "tid_env"
  },
  "language_info": {
   "codemirror_mode": {
    "name": "ipython",
    "version": 3
   },
   "file_extension": ".py",
   "mimetype": "text/x-python",
   "name": "python",
   "nbconvert_exporter": "python",
   "pygments_lexer": "ipython3",
   "version": "3.10.10"
  }
 },
 "nbformat": 4,
 "nbformat_minor": 5
}
