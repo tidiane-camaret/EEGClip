{
 "cells": [
  {
   "cell_type": "markdown",
   "id": "1d8b9310-d4b9-41c2-96a9-0179382f0a47",
   "metadata": {
    "slideshow": {
     "slide_type": "slide"
    },
    "tags": []
   },
   "source": [
    "# Setup environment\n",
    "```bash\n",
    "# Create the job environment. You can choose your python version freely. ipykernel and papermill are required for successfull job execution\n",
    "mamba create -n demo-env python=3.9 ipykernel papermill\n",
    "\n",
    "# enter the environment\n",
    "conda activate demo-env\n",
    "\n",
    "# Install your job requirements. You can use conda/mamba as well as pip.\n",
    "mamba install pytorch cudatoolkit=11.6 -c pytorch -c conda-forge\n",
    "pip install braindecode moabb\n",
    "```"
   ]
  },
  {
   "cell_type": "markdown",
   "id": "a6cc9f58-bb67-4584-8033-6ec89314335a",
   "metadata": {
    "slideshow": {
     "slide_type": "slide"
    },
    "tags": []
   },
   "source": [
    "# Setup Experiment\n",
    "An experiment is a collection of job runs. You can imagine it as a folder to group your job submissions."
   ]
  },
  {
   "cell_type": "code",
   "execution_count": 1,
   "id": "3f6b0cf7-8337-4523-a2e0-1ce03cbd3334",
   "metadata": {},
   "outputs": [],
   "source": [
    "import kf_notebook_job.pipeline\n",
    "\n",
    "kf_notebook_job.pipeline._container_image = 'cr.nail.science/ml-containers/python-job:git-e92e269'"
   ]
  },
  {
   "cell_type": "code",
   "execution_count": 2,
   "id": "194386be-cbd4-47c4-b731-3727eee9d019",
   "metadata": {},
   "outputs": [],
   "source": [
    "from kf_notebook_job import Experiment"
   ]
  },
  {
   "cell_type": "code",
   "execution_count": 3,
   "id": "fafab28b-b51c-4b48-8b66-747f54b31817",
   "metadata": {},
   "outputs": [
    {
     "data": {
      "text/markdown": [
       "[Experiment details](/pipeline/#/experiments/details/f8f651b3-02b9-48a9-bb07-ea7e740fb30c/)"
      ],
      "text/plain": [
       "<IPython.core.display.Markdown object>"
      ]
     },
     "metadata": {},
     "output_type": "display_data"
    }
   ],
   "source": [
    "experiment = Experiment('lib-demo-exp')"
   ]
  },
  {
   "cell_type": "markdown",
   "id": "393eb454-a6f6-43df-ae7a-fc944f964cc0",
   "metadata": {
    "slideshow": {
     "slide_type": "slide"
    },
    "tags": []
   },
   "source": [
    "# Setup Pipeline"
   ]
  },
  {
   "cell_type": "code",
   "execution_count": 4,
   "id": "aaa4e1be-0ef0-4937-bbc1-14b4a911ab46",
   "metadata": {},
   "outputs": [
    {
     "data": {
      "application/vnd.jupyter.widget-view+json": {
       "model_id": "5c661a2232974e35b80b1b589639de3a",
       "version_major": 2,
       "version_minor": 0
      },
      "text/plain": [
       "VBox(children=(HBox(children=(Label(value='Output Volume'), Dropdown(options=('home', 'mne-data', 'jn2-vol-2')…"
      ]
     },
     "metadata": {},
     "output_type": "display_data"
    },
    {
     "data": {
      "application/vnd.jupyter.widget-view+json": {
       "model_id": "b95195e172bd436a96623f8f26fbda52",
       "version_major": 2,
       "version_minor": 0
      },
      "text/plain": [
       "AppLayout(children=(Label(value='Resource Requests', layout=Layout(grid_area='header')), VBox(children=(Label(…"
      ]
     },
     "metadata": {},
     "output_type": "display_data"
    }
   ],
   "source": [
    "experiment.configure('train.ipynb',\n",
    "    resources = dict(cpu_request = 8, memory_request = '16Gi', gpu_request = 1)\n",
    ")"
   ]
  },
  {
   "cell_type": "code",
   "execution_count": 5,
   "id": "4c0774bd-bd34-4064-92a9-7d8cd40c0a55",
   "metadata": {},
   "outputs": [
    {
     "data": {
      "text/markdown": [
       "[Pipeline details](/pipeline/#/pipelines/details/53526809-f192-45ee-8375-6f037230e4e4/version/cae6394f-05ed-4a4a-9a17-3becdf11d2c9)"
      ],
      "text/plain": [
       "<IPython.core.display.Markdown object>"
      ]
     },
     "metadata": {},
     "output_type": "display_data"
    }
   ],
   "source": [
    "experiment.save()"
   ]
  },
  {
   "cell_type": "markdown",
   "id": "b7dfda9e-ee15-4c32-af47-5cba348ed0bb",
   "metadata": {
    "tags": []
   },
   "source": [
    "# Submit jobs"
   ]
  },
  {
   "cell_type": "code",
   "execution_count": 6,
   "id": "788203af-ed90-46de-adb7-6183dbaf5211",
   "metadata": {},
   "outputs": [],
   "source": [
    "from datetime import datetime\n",
    "from itertools import product"
   ]
  },
  {
   "cell_type": "code",
   "execution_count": 7,
   "id": "9ca8b79d-e2ce-4f8e-8a0b-d2da7a90e5a7",
   "metadata": {},
   "outputs": [
    {
     "data": {
      "text/html": [
       "<a href=\"/pipeline/#/runs/details/d9f9a572-3e76-4b81-b2ab-28e65c0b7a98\" target=\"_blank\" >Run details</a>."
      ],
      "text/plain": [
       "<IPython.core.display.HTML object>"
      ]
     },
     "metadata": {},
     "output_type": "display_data"
    },
    {
     "data": {
      "text/html": [
       "<a href=\"/pipeline/#/runs/details/adfe2c56-6ea8-42b6-863f-9cb7266b3ccf\" target=\"_blank\" >Run details</a>."
      ],
      "text/plain": [
       "<IPython.core.display.HTML object>"
      ]
     },
     "metadata": {},
     "output_type": "display_data"
    },
    {
     "data": {
      "text/html": [
       "<a href=\"/pipeline/#/runs/details/9bbf583d-20cc-400e-ab80-e737688c8a40\" target=\"_blank\" >Run details</a>."
      ],
      "text/plain": [
       "<IPython.core.display.HTML object>"
      ]
     },
     "metadata": {},
     "output_type": "display_data"
    },
    {
     "data": {
      "text/html": [
       "<a href=\"/pipeline/#/runs/details/95de80a7-8eb0-420f-abb0-84e29ede81c8\" target=\"_blank\" >Run details</a>."
      ],
      "text/plain": [
       "<IPython.core.display.HTML object>"
      ]
     },
     "metadata": {},
     "output_type": "display_data"
    },
    {
     "data": {
      "text/html": [
       "<a href=\"/pipeline/#/runs/details/7da5808e-1183-4423-a7ba-769966e20b1b\" target=\"_blank\" >Run details</a>."
      ],
      "text/plain": [
       "<IPython.core.display.HTML object>"
      ]
     },
     "metadata": {},
     "output_type": "display_data"
    },
    {
     "data": {
      "text/html": [
       "<a href=\"/pipeline/#/runs/details/ae1d8222-d06f-46d5-a7be-a0f1a85883b3\" target=\"_blank\" >Run details</a>."
      ],
      "text/plain": [
       "<IPython.core.display.HTML object>"
      ]
     },
     "metadata": {},
     "output_type": "display_data"
    }
   ],
   "source": [
    "for subject, low_cut in product([1,2,3], [4.,8.]):\n",
    "    _ = experiment.create_job(\n",
    "        job_name=f\"testrun-sub{subject}-l{low_cut}-{datetime.now().isoformat()}\",\n",
    "        subject_id=subject,\n",
    "        low_cut_hz=low_cut,\n",
    "        n_epochs=5\n",
    "    )"
   ]
  },
  {
   "cell_type": "code",
   "execution_count": null,
   "id": "b34e2a3b-73fb-468a-ad62-806584d86ec4",
   "metadata": {},
   "outputs": [],
   "source": []
  }
 ],
 "metadata": {
  "kernelspec": {
   "display_name": "Python [conda env:root] *",
   "language": "python",
   "name": "conda-root-py"
  },
  "language_info": {
   "codemirror_mode": {
    "name": "ipython",
    "version": 3
   },
   "file_extension": ".py",
   "mimetype": "text/x-python",
   "name": "python",
   "nbconvert_exporter": "python",
   "pygments_lexer": "ipython3",
   "version": "3.10.10"
  }
 },
 "nbformat": 4,
 "nbformat_minor": 5
}
