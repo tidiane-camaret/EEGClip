{
 "cells": [
  {
   "cell_type": "markdown",
   "metadata": {},
   "source": [
    "Classification of DESC -> LABEL using CLIP text encoder + Logistic regression\n",
    "\n",
    "Can we explain why sentences are missclassified ? "
   ]
  },
  {
   "cell_type": "code",
   "execution_count": 1,
   "metadata": {},
   "outputs": [
    {
     "name": "stderr",
     "output_type": "stream",
     "text": [
      "/home/tidianes/miniconda3/envs/tid_env/lib/python3.10/site-packages/torchvision/io/image.py:13: UserWarning: Failed to load image Python extension: /home/tidianes/miniconda3/envs/tid_env/lib/python3.10/site-packages/torchvision/image.so: undefined symbol: _ZN2at4_ops19empty_memory_format4callEN3c108ArrayRefIlEENS2_8optionalINS2_10ScalarTypeEEENS5_INS2_6LayoutEEENS5_INS2_6DeviceEEENS5_IbEENS5_INS2_12MemoryFormatEEE\n",
      "  warn(f\"Failed to load image Python extension: {e}\")\n"
     ]
    }
   ],
   "source": [
    "import pandas as pd\n",
    "import numpy as np\n",
    "import json\n",
    "import torch\n",
    "import clip"
   ]
  },
  {
   "cell_type": "code",
   "execution_count": 2,
   "metadata": {},
   "outputs": [
    {
     "name": "stdout",
     "output_type": "stream",
     "text": [
      "/media/tidianes/linux_home/tidiane/dev/nail/EEGClip/scripts/text_analysis\n"
     ]
    }
   ],
   "source": [
    "!pwd"
   ]
  },
  {
   "cell_type": "code",
   "execution_count": 3,
   "metadata": {},
   "outputs": [
    {
     "data": {
      "text/plain": [
       "'\\ndata = pd.read_csv(\\'data/TUH_Abnormal_EEG_rep.csv\\') #open the original dataset\\ntuh_data = data.drop([0]).dropna(subset=[\\'DESCRIPTION OF THE RECORD\\']) #drop first line\\ntuh_data = tuh_data.rename(columns={\"DESCRIPTION OF THE RECORD\": \"DESC\"})\\n\\n\\ndevice = \"cuda\" if torch.cuda.is_available() else \"cpu\"\\nclip_model, preprocess = clip.load(\"ViT-B/32\", device=device, download_root=\"../data\")\\n\\nall_desc = tuh_data[\"DESC\"].to_list()\\nall_desc_features = []\\n\\n#get clip encodings of each description and write it in the dataset\\nwith torch.no_grad():\\n    for desc in all_desc:\\n        desc_tokenized = clip.tokenize(desc, truncate = True).to(device)\\n        desc_features = clip_model.encode_text(desc_tokenized)\\n\\n        all_desc_features.append(desc_features)\\n\\ntuh_data[\"DESC_CLIP\"] = torch.cat(all_desc_features).cpu().numpy().tolist()\\ntuh_data.to_csv(\"data/TUH_Abnormal_EEG_rep_clip_features.csv\")\\n'"
      ]
     },
     "execution_count": 3,
     "metadata": {},
     "output_type": "execute_result"
    }
   ],
   "source": [
    "#calculation of clip embeddings\n",
    "\"\"\"\n",
    "data = pd.read_csv('data/TUH_Abnormal_EEG_rep.csv') #open the original dataset\n",
    "tuh_data = data.drop([0]).dropna(subset=['DESCRIPTION OF THE RECORD']) #drop first line\n",
    "tuh_data = tuh_data.rename(columns={\"DESCRIPTION OF THE RECORD\": \"DESC\"})\n",
    "\n",
    "\n",
    "device = \"cuda\" if torch.cuda.is_available() else \"cpu\"\n",
    "clip_model, preprocess = clip.load(\"ViT-B/32\", device=device, download_root=\"../data\")\n",
    "\n",
    "all_desc = tuh_data[\"DESC\"].to_list()\n",
    "all_desc_features = []\n",
    "\n",
    "#get clip encodings of each description and write it in the dataset\n",
    "with torch.no_grad():\n",
    "    for desc in all_desc:\n",
    "        desc_tokenized = clip.tokenize(desc, truncate = True).to(device)\n",
    "        desc_features = clip_model.encode_text(desc_tokenized)\n",
    "\n",
    "        all_desc_features.append(desc_features)\n",
    "\n",
    "tuh_data[\"DESC_CLIP\"] = torch.cat(all_desc_features).cpu().numpy().tolist()\n",
    "tuh_data.to_csv(\"data/TUH_Abnormal_EEG_rep_clip_features.csv\")\n",
    "\"\"\""
   ]
  },
  {
   "cell_type": "code",
   "execution_count": 4,
   "metadata": {},
   "outputs": [],
   "source": [
    "#read the dataset with clip encodings\n",
    "tuh_data = pd.read_csv('/home/tidianes/dev/nail/EEGClip/data/TUH/TUH_Abnormal_EEG_rep_clip_features.csv')\n",
    "tuh_data[\"DESC_CLIP\"] = [json.loads(l) for l in tuh_data[\"DESC_CLIP\"]]"
   ]
  },
  {
   "cell_type": "code",
   "execution_count": 5,
   "metadata": {},
   "outputs": [
    {
     "data": {
      "text/html": [
       "<div>\n",
       "<style scoped>\n",
       "    .dataframe tbody tr th:only-of-type {\n",
       "        vertical-align: middle;\n",
       "    }\n",
       "\n",
       "    .dataframe tbody tr th {\n",
       "        vertical-align: top;\n",
       "    }\n",
       "\n",
       "    .dataframe thead th {\n",
       "        text-align: right;\n",
       "    }\n",
       "</style>\n",
       "<table border=\"1\" class=\"dataframe\">\n",
       "  <thead>\n",
       "    <tr style=\"text-align: right;\">\n",
       "      <th></th>\n",
       "      <th>Unnamed: 0</th>\n",
       "      <th>ID</th>\n",
       "      <th>PATH</th>\n",
       "      <th>SUBJECT</th>\n",
       "      <th>SESSION</th>\n",
       "      <th>SET</th>\n",
       "      <th>LABEL</th>\n",
       "      <th>ICD-10</th>\n",
       "      <th>IMPRESSION</th>\n",
       "      <th>DESC</th>\n",
       "      <th>...</th>\n",
       "      <th>HEART RATE</th>\n",
       "      <th>FINDINGS</th>\n",
       "      <th>REASON FOR STUDY</th>\n",
       "      <th>TECHNICAL DIFFICULTIES</th>\n",
       "      <th>EVENTS</th>\n",
       "      <th>CONDITION OF THE RECORDING</th>\n",
       "      <th>PAST MEDICAL HISTORY</th>\n",
       "      <th>TYPE OF STUDY</th>\n",
       "      <th>ACTIVATION PROCEDURES</th>\n",
       "      <th>DESC_CLIP</th>\n",
       "    </tr>\n",
       "  </thead>\n",
       "  <tbody>\n",
       "    <tr>\n",
       "      <th>0</th>\n",
       "      <td>1</td>\n",
       "      <td>0.0</td>\n",
       "      <td>/data/schirrmr/gemeinl/tuh-abnormal-eeg/raw/v2...</td>\n",
       "      <td>5864</td>\n",
       "      <td>s001_2009_09_03</td>\n",
       "      <td>eval</td>\n",
       "      <td>normal</td>\n",
       "      <td>NaN</td>\n",
       "      <td>Normal EEG.</td>\n",
       "      <td>In wakefulness, background EEG is well organiz...</td>\n",
       "      <td>...</td>\n",
       "      <td>NaN</td>\n",
       "      <td>NaN</td>\n",
       "      <td>NaN</td>\n",
       "      <td>NaN</td>\n",
       "      <td>NaN</td>\n",
       "      <td>NaN</td>\n",
       "      <td>NaN</td>\n",
       "      <td>NaN</td>\n",
       "      <td>NaN</td>\n",
       "      <td>[-0.17503206431865692, 0.06992441415786743, -0...</td>\n",
       "    </tr>\n",
       "    <tr>\n",
       "      <th>1</th>\n",
       "      <td>2</td>\n",
       "      <td>1.0</td>\n",
       "      <td>/data/schirrmr/gemeinl/tuh-abnormal-eeg/raw/v2...</td>\n",
       "      <td>4196</td>\n",
       "      <td>s003_2009_09_03</td>\n",
       "      <td>eval</td>\n",
       "      <td>normal</td>\n",
       "      <td>NaN</td>\n",
       "      <td>Normal electroencephalogram.</td>\n",
       "      <td>In wakefulness, there is a 9.8 Hz alpha rhythm...</td>\n",
       "      <td>...</td>\n",
       "      <td>NaN</td>\n",
       "      <td>NaN</td>\n",
       "      <td>NaN</td>\n",
       "      <td>NaN</td>\n",
       "      <td>NaN</td>\n",
       "      <td>NaN</td>\n",
       "      <td>NaN</td>\n",
       "      <td>NaN</td>\n",
       "      <td>NaN</td>\n",
       "      <td>[-0.2987368106842041, 0.019435854628682137, 0....</td>\n",
       "    </tr>\n",
       "    <tr>\n",
       "      <th>2</th>\n",
       "      <td>3</td>\n",
       "      <td>2.0</td>\n",
       "      <td>/data/schirrmr/gemeinl/tuh-abnormal-eeg/raw/v2...</td>\n",
       "      <td>5851</td>\n",
       "      <td>s001_2009_09_04</td>\n",
       "      <td>eval</td>\n",
       "      <td>normal</td>\n",
       "      <td>NaN</td>\n",
       "      <td>Normal EEG in wakefulness.</td>\n",
       "      <td>The background EEG is appropriately organized ...</td>\n",
       "      <td>...</td>\n",
       "      <td>NaN</td>\n",
       "      <td>NaN</td>\n",
       "      <td>NaN</td>\n",
       "      <td>NaN</td>\n",
       "      <td>NaN</td>\n",
       "      <td>NaN</td>\n",
       "      <td>NaN</td>\n",
       "      <td>NaN</td>\n",
       "      <td>NaN</td>\n",
       "      <td>[-0.10901573300361633, 0.04452670365571976, -0...</td>\n",
       "    </tr>\n",
       "    <tr>\n",
       "      <th>3</th>\n",
       "      <td>4</td>\n",
       "      <td>3.0</td>\n",
       "      <td>/data/schirrmr/gemeinl/tuh-abnormal-eeg/raw/v2...</td>\n",
       "      <td>929</td>\n",
       "      <td>s003_2009_09_04</td>\n",
       "      <td>train</td>\n",
       "      <td>normal</td>\n",
       "      <td>NaN</td>\n",
       "      <td>EEG within normal limits but excessively drows...</td>\n",
       "      <td>Digital video EEG is performed using standard ...</td>\n",
       "      <td>...</td>\n",
       "      <td>NaN</td>\n",
       "      <td>NaN</td>\n",
       "      <td>NaN</td>\n",
       "      <td>NaN</td>\n",
       "      <td>NaN</td>\n",
       "      <td>NaN</td>\n",
       "      <td>NaN</td>\n",
       "      <td>NaN</td>\n",
       "      <td>NaN</td>\n",
       "      <td>[-0.2441023886203766, -0.0048874616622924805, ...</td>\n",
       "    </tr>\n",
       "    <tr>\n",
       "      <th>4</th>\n",
       "      <td>5</td>\n",
       "      <td>4.0</td>\n",
       "      <td>/data/schirrmr/gemeinl/tuh-abnormal-eeg/raw/v2...</td>\n",
       "      <td>5909</td>\n",
       "      <td>s002_2009_09_09</td>\n",
       "      <td>train</td>\n",
       "      <td>normal</td>\n",
       "      <td>NaN</td>\n",
       "      <td>Normal EEG</td>\n",
       "      <td>In wakefulness there is a 9.5 Hz posterior dom...</td>\n",
       "      <td>...</td>\n",
       "      <td>66 bpm</td>\n",
       "      <td>NaN</td>\n",
       "      <td>NaN</td>\n",
       "      <td>NaN</td>\n",
       "      <td>NaN</td>\n",
       "      <td>NaN</td>\n",
       "      <td>NaN</td>\n",
       "      <td>NaN</td>\n",
       "      <td>NaN</td>\n",
       "      <td>[-0.20705479383468628, 0.280615895986557, 0.08...</td>\n",
       "    </tr>\n",
       "    <tr>\n",
       "      <th>...</th>\n",
       "      <td>...</td>\n",
       "      <td>...</td>\n",
       "      <td>...</td>\n",
       "      <td>...</td>\n",
       "      <td>...</td>\n",
       "      <td>...</td>\n",
       "      <td>...</td>\n",
       "      <td>...</td>\n",
       "      <td>...</td>\n",
       "      <td>...</td>\n",
       "      <td>...</td>\n",
       "      <td>...</td>\n",
       "      <td>...</td>\n",
       "      <td>...</td>\n",
       "      <td>...</td>\n",
       "      <td>...</td>\n",
       "      <td>...</td>\n",
       "      <td>...</td>\n",
       "      <td>...</td>\n",
       "      <td>...</td>\n",
       "      <td>...</td>\n",
       "    </tr>\n",
       "    <tr>\n",
       "      <th>2958</th>\n",
       "      <td>2989</td>\n",
       "      <td>2988.0</td>\n",
       "      <td>/data/schirrmr/gemeinl/tuh-abnormal-eeg/raw/v2...</td>\n",
       "      <td>7757</td>\n",
       "      <td>s003_2013_10_07</td>\n",
       "      <td>train</td>\n",
       "      <td>normal</td>\n",
       "      <td>NaN</td>\n",
       "      <td>Normal electroencephalogram in wakefulness and...</td>\n",
       "      <td>In wakefulness, there is a 10.5 Hz alpha rhyth...</td>\n",
       "      <td>...</td>\n",
       "      <td>NaN</td>\n",
       "      <td>NaN</td>\n",
       "      <td>NaN</td>\n",
       "      <td>NaN</td>\n",
       "      <td>NaN</td>\n",
       "      <td>NaN</td>\n",
       "      <td>NaN</td>\n",
       "      <td>NaN</td>\n",
       "      <td>NaN</td>\n",
       "      <td>[-0.12871378660202026, 0.20192506909370422, -0...</td>\n",
       "    </tr>\n",
       "    <tr>\n",
       "      <th>2959</th>\n",
       "      <td>2990</td>\n",
       "      <td>2989.0</td>\n",
       "      <td>/data/schirrmr/gemeinl/tuh-abnormal-eeg/raw/v2...</td>\n",
       "      <td>6091</td>\n",
       "      <td>s004_2013_10_07</td>\n",
       "      <td>eval</td>\n",
       "      <td>abnormal</td>\n",
       "      <td>NaN</td>\n",
       "      <td>This is an abnormal EEG due to: 1. Discrete, f...</td>\n",
       "      <td>In wakefulness, there is a 9.5 Hz, 40 microvol...</td>\n",
       "      <td>...</td>\n",
       "      <td>60 bpm.</td>\n",
       "      <td>NaN</td>\n",
       "      <td>NaN</td>\n",
       "      <td>NaN</td>\n",
       "      <td>NaN</td>\n",
       "      <td>NaN</td>\n",
       "      <td>NaN</td>\n",
       "      <td>NaN</td>\n",
       "      <td>NaN</td>\n",
       "      <td>[-0.08205139636993408, -0.0922938659787178, 0....</td>\n",
       "    </tr>\n",
       "    <tr>\n",
       "      <th>2960</th>\n",
       "      <td>2991</td>\n",
       "      <td>2990.0</td>\n",
       "      <td>/data/schirrmr/gemeinl/tuh-abnormal-eeg/raw/v2...</td>\n",
       "      <td>9289</td>\n",
       "      <td>s004_2013_10_07</td>\n",
       "      <td>train</td>\n",
       "      <td>abnormal</td>\n",
       "      <td>NaN</td>\n",
       "      <td>Abnormal EEG due to: 1. Right temporal focal s...</td>\n",
       "      <td>In wakefulness, there is a 10Hz alpha rhythm w...</td>\n",
       "      <td>...</td>\n",
       "      <td>NaN</td>\n",
       "      <td>NaN</td>\n",
       "      <td>NaN</td>\n",
       "      <td>NaN</td>\n",
       "      <td>NaN</td>\n",
       "      <td>NaN</td>\n",
       "      <td>NaN</td>\n",
       "      <td>NaN</td>\n",
       "      <td>NaN</td>\n",
       "      <td>[-0.2395995855331421, -0.05268685892224312, 0....</td>\n",
       "    </tr>\n",
       "    <tr>\n",
       "      <th>2961</th>\n",
       "      <td>2992</td>\n",
       "      <td>2991.0</td>\n",
       "      <td>/data/schirrmr/gemeinl/tuh-abnormal-eeg/raw/v2...</td>\n",
       "      <td>3240</td>\n",
       "      <td>s002_2013_10_10</td>\n",
       "      <td>train</td>\n",
       "      <td>normal</td>\n",
       "      <td>NaN</td>\n",
       "      <td>This is a normal EEG primarily in wakefulness.</td>\n",
       "      <td>The background EEG demonstrates an awake patte...</td>\n",
       "      <td>...</td>\n",
       "      <td>NaN</td>\n",
       "      <td>NaN</td>\n",
       "      <td>NaN</td>\n",
       "      <td>NaN</td>\n",
       "      <td>NaN</td>\n",
       "      <td>NaN</td>\n",
       "      <td>NaN</td>\n",
       "      <td>NaN</td>\n",
       "      <td>NaN</td>\n",
       "      <td>[-0.09678250551223755, 0.10995738953351974, 0....</td>\n",
       "    </tr>\n",
       "    <tr>\n",
       "      <th>2962</th>\n",
       "      <td>2993</td>\n",
       "      <td>2992.0</td>\n",
       "      <td>/data/schirrmr/gemeinl/tuh-abnormal-eeg/raw/v2...</td>\n",
       "      <td>10839</td>\n",
       "      <td>s001_2013_11_22</td>\n",
       "      <td>train</td>\n",
       "      <td>normal</td>\n",
       "      <td>NaN</td>\n",
       "      <td>Normal EEG in wakefulness and brief drowsiness.</td>\n",
       "      <td>In wakefulness, there is a 10 Hz alpha rhythm ...</td>\n",
       "      <td>...</td>\n",
       "      <td>NaN</td>\n",
       "      <td>NaN</td>\n",
       "      <td>NaN</td>\n",
       "      <td>NaN</td>\n",
       "      <td>NaN</td>\n",
       "      <td>NaN</td>\n",
       "      <td>NaN</td>\n",
       "      <td>NaN</td>\n",
       "      <td>NaN</td>\n",
       "      <td>[-0.1255885362625122, 0.07359650731086731, -0....</td>\n",
       "    </tr>\n",
       "  </tbody>\n",
       "</table>\n",
       "<p>2963 rows × 24 columns</p>\n",
       "</div>"
      ],
      "text/plain": [
       "      Unnamed: 0      ID                                               PATH  \\\n",
       "0              1     0.0  /data/schirrmr/gemeinl/tuh-abnormal-eeg/raw/v2...   \n",
       "1              2     1.0  /data/schirrmr/gemeinl/tuh-abnormal-eeg/raw/v2...   \n",
       "2              3     2.0  /data/schirrmr/gemeinl/tuh-abnormal-eeg/raw/v2...   \n",
       "3              4     3.0  /data/schirrmr/gemeinl/tuh-abnormal-eeg/raw/v2...   \n",
       "4              5     4.0  /data/schirrmr/gemeinl/tuh-abnormal-eeg/raw/v2...   \n",
       "...          ...     ...                                                ...   \n",
       "2958        2989  2988.0  /data/schirrmr/gemeinl/tuh-abnormal-eeg/raw/v2...   \n",
       "2959        2990  2989.0  /data/schirrmr/gemeinl/tuh-abnormal-eeg/raw/v2...   \n",
       "2960        2991  2990.0  /data/schirrmr/gemeinl/tuh-abnormal-eeg/raw/v2...   \n",
       "2961        2992  2991.0  /data/schirrmr/gemeinl/tuh-abnormal-eeg/raw/v2...   \n",
       "2962        2993  2992.0  /data/schirrmr/gemeinl/tuh-abnormal-eeg/raw/v2...   \n",
       "\n",
       "      SUBJECT          SESSION    SET     LABEL  ICD-10  \\\n",
       "0        5864  s001_2009_09_03   eval    normal     NaN   \n",
       "1        4196  s003_2009_09_03   eval    normal     NaN   \n",
       "2        5851  s001_2009_09_04   eval    normal     NaN   \n",
       "3         929  s003_2009_09_04  train    normal     NaN   \n",
       "4        5909  s002_2009_09_09  train    normal     NaN   \n",
       "...       ...              ...    ...       ...     ...   \n",
       "2958     7757  s003_2013_10_07  train    normal     NaN   \n",
       "2959     6091  s004_2013_10_07   eval  abnormal     NaN   \n",
       "2960     9289  s004_2013_10_07  train  abnormal     NaN   \n",
       "2961     3240  s002_2013_10_10  train    normal     NaN   \n",
       "2962    10839  s001_2013_11_22  train    normal     NaN   \n",
       "\n",
       "                                             IMPRESSION  \\\n",
       "0                                           Normal EEG.   \n",
       "1                          Normal electroencephalogram.   \n",
       "2                            Normal EEG in wakefulness.   \n",
       "3     EEG within normal limits but excessively drows...   \n",
       "4                                            Normal EEG   \n",
       "...                                                 ...   \n",
       "2958  Normal electroencephalogram in wakefulness and...   \n",
       "2959  This is an abnormal EEG due to: 1. Discrete, f...   \n",
       "2960  Abnormal EEG due to: 1. Right temporal focal s...   \n",
       "2961     This is a normal EEG primarily in wakefulness.   \n",
       "2962    Normal EEG in wakefulness and brief drowsiness.   \n",
       "\n",
       "                                                   DESC  ... HEART RATE  \\\n",
       "0     In wakefulness, background EEG is well organiz...  ...        NaN   \n",
       "1     In wakefulness, there is a 9.8 Hz alpha rhythm...  ...        NaN   \n",
       "2     The background EEG is appropriately organized ...  ...        NaN   \n",
       "3     Digital video EEG is performed using standard ...  ...        NaN   \n",
       "4     In wakefulness there is a 9.5 Hz posterior dom...  ...     66 bpm   \n",
       "...                                                 ...  ...        ...   \n",
       "2958  In wakefulness, there is a 10.5 Hz alpha rhyth...  ...        NaN   \n",
       "2959  In wakefulness, there is a 9.5 Hz, 40 microvol...  ...    60 bpm.   \n",
       "2960  In wakefulness, there is a 10Hz alpha rhythm w...  ...        NaN   \n",
       "2961  The background EEG demonstrates an awake patte...  ...        NaN   \n",
       "2962  In wakefulness, there is a 10 Hz alpha rhythm ...  ...        NaN   \n",
       "\n",
       "     FINDINGS REASON FOR STUDY TECHNICAL DIFFICULTIES EVENTS  \\\n",
       "0         NaN              NaN                    NaN    NaN   \n",
       "1         NaN              NaN                    NaN    NaN   \n",
       "2         NaN              NaN                    NaN    NaN   \n",
       "3         NaN              NaN                    NaN    NaN   \n",
       "4         NaN              NaN                    NaN    NaN   \n",
       "...       ...              ...                    ...    ...   \n",
       "2958      NaN              NaN                    NaN    NaN   \n",
       "2959      NaN              NaN                    NaN    NaN   \n",
       "2960      NaN              NaN                    NaN    NaN   \n",
       "2961      NaN              NaN                    NaN    NaN   \n",
       "2962      NaN              NaN                    NaN    NaN   \n",
       "\n",
       "     CONDITION OF THE RECORDING PAST MEDICAL HISTORY TYPE OF STUDY  \\\n",
       "0                           NaN                  NaN           NaN   \n",
       "1                           NaN                  NaN           NaN   \n",
       "2                           NaN                  NaN           NaN   \n",
       "3                           NaN                  NaN           NaN   \n",
       "4                           NaN                  NaN           NaN   \n",
       "...                         ...                  ...           ...   \n",
       "2958                        NaN                  NaN           NaN   \n",
       "2959                        NaN                  NaN           NaN   \n",
       "2960                        NaN                  NaN           NaN   \n",
       "2961                        NaN                  NaN           NaN   \n",
       "2962                        NaN                  NaN           NaN   \n",
       "\n",
       "     ACTIVATION PROCEDURES                                          DESC_CLIP  \n",
       "0                      NaN  [-0.17503206431865692, 0.06992441415786743, -0...  \n",
       "1                      NaN  [-0.2987368106842041, 0.019435854628682137, 0....  \n",
       "2                      NaN  [-0.10901573300361633, 0.04452670365571976, -0...  \n",
       "3                      NaN  [-0.2441023886203766, -0.0048874616622924805, ...  \n",
       "4                      NaN  [-0.20705479383468628, 0.280615895986557, 0.08...  \n",
       "...                    ...                                                ...  \n",
       "2958                   NaN  [-0.12871378660202026, 0.20192506909370422, -0...  \n",
       "2959                   NaN  [-0.08205139636993408, -0.0922938659787178, 0....  \n",
       "2960                   NaN  [-0.2395995855331421, -0.05268685892224312, 0....  \n",
       "2961                   NaN  [-0.09678250551223755, 0.10995738953351974, 0....  \n",
       "2962                   NaN  [-0.1255885362625122, 0.07359650731086731, -0....  \n",
       "\n",
       "[2963 rows x 24 columns]"
      ]
     },
     "execution_count": 5,
     "metadata": {},
     "output_type": "execute_result"
    }
   ],
   "source": [
    "tuh_data"
   ]
  },
  {
   "cell_type": "code",
   "execution_count": 6,
   "metadata": {},
   "outputs": [
    {
     "ename": "",
     "evalue": "",
     "output_type": "error",
     "traceback": [
      "\u001b[1;31mCanceled future for execute_request message before replies were done"
     ]
    },
    {
     "ename": "",
     "evalue": "",
     "output_type": "error",
     "traceback": [
      "\u001b[1;31mThe Kernel crashed while executing code in the the current cell or a previous cell. Please review the code in the cell(s) to identify a possible cause of the failure. Click <a href='https://aka.ms/vscodeJupyterKernelCrash'>here</a> for more info. View Jupyter <a href='command:jupyter.viewOutput'>log</a> for further details."
     ]
    }
   ],
   "source": [
    "#classification using logistic regression\n",
    "\n",
    "from sklearn import feature_extraction, model_selection, naive_bayes, pipeline, manifold, preprocessing,feature_selection, metrics\n",
    "from sklearn.linear_model import LogisticRegression\n",
    "\n",
    "tuh_train, tuh_test = model_selection.train_test_split(tuh_data, test_size=0.3)\n",
    "\n",
    "train_features = tuh_train[\"DESC_CLIP\"].to_list()\n",
    "test_features = tuh_test[\"DESC_CLIP\"].to_list()\n",
    "\n",
    "train_labels = tuh_train[\"LABEL\"].to_list()\n",
    "test_labels = tuh_test[\"LABEL\"].to_list()\n",
    "\n",
    "\n",
    "classifier = LogisticRegression(random_state=0, max_iter=1000, verbose=0)\n",
    "classifier.fit(train_features, train_labels)\n",
    "\n",
    "\n",
    "classifier.fit(train_features, train_labels)\n",
    "predictions = classifier.predict(test_features)\n",
    "#plot confusion matrix\n",
    "import matplotlib.pyplot as plt\n",
    "import seaborn as sns\n",
    "from sklearn.metrics import confusion_matrix\n",
    "cm = confusion_matrix(test_labels, predictions)\n",
    "ax= plt.subplot()\n",
    "sns.heatmap(cm, annot=True, ax = ax, fmt='g', cmap='Blues'); #annot=True to annotate cells\n",
    "\n"
   ]
  },
  {
   "cell_type": "code",
   "execution_count": null,
   "metadata": {},
   "outputs": [],
   "source": [
    "#new column identifying the misclassified records\n",
    "tuh_test[\"correct\"]=(test_labels == predictions).astype(bool)\n"
   ]
  },
  {
   "cell_type": "code",
   "execution_count": null,
   "metadata": {},
   "outputs": [],
   "source": [
    "#display 3 normal + correct\n",
    "tuh_test[(tuh_test[\"correct\"] == False) & (tuh_test[\"LABEL\"] == \"normal\")][\"DESC\"].to_list()[:3]\n"
   ]
  },
  {
   "cell_type": "code",
   "execution_count": null,
   "metadata": {},
   "outputs": [],
   "source": [
    "#display 3 abnormal + correct\n",
    "tuh_test[(tuh_test[\"correct\"] == True) & (tuh_test[\"LABEL\"] == \"abnormal\")][\"DESC\"].to_list()[:3]"
   ]
  },
  {
   "cell_type": "code",
   "execution_count": null,
   "metadata": {},
   "outputs": [],
   "source": [
    "#display 3 normal + incorrect\n",
    "tuh_test[(tuh_test[\"correct\"] == False) & (tuh_test[\"LABEL\"] == \"normal\")][\"DESC\"].to_list()[:3]"
   ]
  },
  {
   "cell_type": "code",
   "execution_count": null,
   "metadata": {},
   "outputs": [],
   "source": [
    "#display 3 abnormal + incorrect\n",
    "tuh_test[(tuh_test[\"correct\"] == False) & (tuh_test[\"LABEL\"] == \"abnormal\")][\"DESC\"].to_list()[:3]"
   ]
  },
  {
   "cell_type": "code",
   "execution_count": null,
   "metadata": {},
   "outputs": [],
   "source": [
    "#lists of description lengths for which correct = True\n",
    "desc_len_true = tuh_test[tuh_test[\"correct\"] == True][\"DESC\"].str.split().str.len().to_list()\n",
    "\n",
    "#lists of description lengths for which correct = False\n",
    "desc_len_false = tuh_test[tuh_test[\"correct\"] == False][\"DESC\"].str.split().str.len().to_list()\n",
    "\n",
    "\n",
    "#plot the normalized distributions of desc_len_true and desc_len_false on the same graph\n",
    "import matplotlib.pyplot as plt\n",
    "import seaborn as sns\n",
    "sns.distplot(desc_len_true, hist=False, kde=True, kde_kws = {'shade': True, 'linewidth': 3}, label = \"correct\")\n",
    "sns.distplot(desc_len_false, hist=False, kde=True, kde_kws = {'shade': True, 'linewidth': 3}, label = \"incorrect\")\n",
    "plt.legend(prop={'size': 16}, title = 'Correct')\n",
    "plt.title('Distribution of description length')\n",
    "plt.xlabel('Description length')\n",
    "plt.ylabel('Density')\n",
    "\n",
    "\n",
    "\n"
   ]
  },
  {
   "cell_type": "code",
   "execution_count": null,
   "metadata": {},
   "outputs": [],
   "source": [
    "from sklearn.feature_extraction.text import TfidfVectorizer\n",
    "\n",
    "tfidf_vectorizer = TfidfVectorizer( stop_words='english', max_features=10000, ngram_range=(1,3))\n",
    "tfidf_vector = tfidf_vectorizer.fit_transform(\n",
    "    [tuh_test[tuh_test[\"correct\"] == bool][\"DESC\"].str.cat(sep=' ')\n",
    "     for bool in [True, False]])\n",
    "\n",
    "tfidf_df = pd.DataFrame(tfidf_vector.toarray(), index=[\"correct\",\"incorrect\"], columns=tfidf_vectorizer.get_feature_names_out())\n",
    "\n"
   ]
  },
  {
   "cell_type": "code",
   "execution_count": null,
   "metadata": {},
   "outputs": [],
   "source": [
    "tfidf_vector"
   ]
  },
  {
   "cell_type": "code",
   "execution_count": null,
   "metadata": {},
   "outputs": [],
   "source": [
    "tfidf_df = tfidf_df.stack().reset_index()\n",
    "tfidf_df = tfidf_df.rename(columns={0:'tfidf', 'level_0': 'document','level_1': 'term', 'level_2': 'term'})\n",
    "tfidf_df.sort_values(by=['document','tfidf'], ascending=[True,False]).groupby(['document']).head(10)"
   ]
  },
  {
   "cell_type": "code",
   "execution_count": null,
   "metadata": {},
   "outputs": [],
   "source": [
    "import re"
   ]
  },
  {
   "cell_type": "code",
   "execution_count": null,
   "metadata": {},
   "outputs": [],
   "source": [
    "#correct and incorrect classification\n",
    "chained_sentences = [re.sub(r'[^A-Za-z0-9 ]+', '', tuh_test[tuh_test[\"correct\"] == bool][\"DESC\"].str.cat(sep=' ').lower())\n",
    "     for bool in [True, False]]"
   ]
  },
  {
   "cell_type": "code",
   "execution_count": null,
   "metadata": {},
   "outputs": [],
   "source": [
    "#random\n",
    "chained_sentences = [ re.sub(r'[^A-Za-z0-9 ]+', '', df[\"DESC\"].str.cat(sep=' ').lower()) for df in model_selection.train_test_split(tuh_data, test_size=0.5)]"
   ]
  },
  {
   "cell_type": "code",
   "execution_count": null,
   "metadata": {},
   "outputs": [],
   "source": [
    "#normal and abnormal label\n",
    "chained_sentences = [ re.sub(r'[^A-Za-z0-9 ]+', '', tuh_data[tuh_data[\"LABEL\"]==lbl][\"DESC\"].str.cat(sep=' ').lower() ) for lbl in [\"abnormal\", \"normal\"]]"
   ]
  },
  {
   "cell_type": "code",
   "execution_count": null,
   "metadata": {},
   "outputs": [],
   "source": [
    "def word_frequency(text):\n",
    "    #return a dictionary with the frequency of each word in the text without using nltk\n",
    "    word_freq = {}\n",
    "    for word in text.split() :\n",
    "        if word in word_freq:\n",
    "            word_freq[word] += 1\n",
    "        else:\n",
    "            word_freq[word] = 1\n",
    "    return word_freq\n",
    "\n"
   ]
  },
  {
   "cell_type": "code",
   "execution_count": null,
   "metadata": {},
   "outputs": [],
   "source": [
    "freq_dicts = [word_frequency(d) for d in chained_sentences]\n",
    "freq_lim = 50\n",
    "#list of words that appear more than freq_lim times both dictionaries\n",
    "common_words = [word for word in freq_dicts[0] if word in freq_dicts[1] and freq_dicts[0][word] > freq_lim and freq_dicts[1][word] > freq_lim]\n",
    "\n",
    "#common_words = list(set( freq_dicts[0].keys() ) & set( freq_dicts[1].keys() )  )\n",
    "common_words_relative_freq = []\n",
    "for word in common_words:\n",
    "    freq0 = freq_dicts[0][word]/sum(freq_dicts[0].values())\n",
    "    freq1 = freq_dicts[1][word]/sum(freq_dicts[1].values())\n",
    "    common_words_relative_freq.append( freq0 / freq1)\n",
    "    \n"
   ]
  },
  {
   "cell_type": "code",
   "execution_count": null,
   "metadata": {},
   "outputs": [],
   "source": [
    "sorted_relative_freq = [x for _, x in sorted(zip(common_words_relative_freq, common_words))]"
   ]
  },
  {
   "cell_type": "code",
   "execution_count": null,
   "metadata": {},
   "outputs": [
    {
     "name": "stdout",
     "output_type": "stream",
     "text": [
      "['early', 'seems', 'out', 'multiple', 'seconds', 'compared', 'although', 'symmetrical', 'for', 'from']\n",
      "['transition', '40', 'defined', 'features', 'include', 'did', 'sections', 'awake', 'has', 'hertz']\n"
     ]
    }
   ],
   "source": [
    "#print 10 first and last elements of sorted_relative_freq\n",
    "print(sorted_relative_freq[:10])\n",
    "print(sorted_relative_freq[-10:])"
   ]
  },
  {
   "cell_type": "code",
   "execution_count": null,
   "metadata": {},
   "outputs": [
    {
     "data": {
      "text/plain": [
       "Text(0, 0.5, 'Relative frequency')"
      ]
     },
     "execution_count": 124,
     "metadata": {},
     "output_type": "execute_result"
    },
    {
     "data": {
      "image/png": "[encoded data removed]",
      "text/plain": [
       "<Figure size 1000x500 with 1 Axes>"
      ]
     },
     "metadata": {},
     "output_type": "display_data"
    }
   ],
   "source": [
    "#plot the sorted relative frequencies of the common words\n",
    "import matplotlib.pyplot as plt\n",
    "import seaborn as sns\n",
    "sns.set_style(\"whitegrid\")\n",
    "plt.figure(figsize=(10,5))\n",
    "plt.plot(sorted(common_words_relative_freq))\n",
    "plt.title('Relative frequency of common words')\n",
    "plt.xlabel('Word rank')\n",
    "plt.ylabel('Relative frequency')\n"
   ]
  },
  {
   "cell_type": "code",
   "execution_count": null,
   "metadata": {},
   "outputs": [],
   "source": [
    "\n",
    "\n",
    "from sklearn.manifold import TSNE\n",
    "\n",
    "sentence_vec_tsne = TSNE(n_components=3).fit_transform(tuh_test['DESC_CLIP'].tolist())\n",
    "\n",
    "\n",
    "import plotly.graph_objects as go\n",
    "import plotly.io as pio\n",
    "pio.renderers.default = \"notebook\"\n",
    "\n",
    "fig = go.Figure(data=[go.Scatter3d(\n",
    "    x=[a[0] for a in sentence_vec_tsne], # ie [0, 1, 2, 3]\n",
    "    y=[a[1] for a in sentence_vec_tsne], # ie [0, 1, 2, 3]\n",
    "    z=[a[2] for a in sentence_vec_tsne], # ie [0, 1, 2, 3]\n",
    "    hovertemplate='<b>%{text}</b><extra></extra>',\n",
    "    text = tuh_test[\"DESC\"],\n",
    "    mode='markers',\n",
    "    marker=dict(\n",
    "        size=3,\n",
    "        opacity=0.8,\n",
    "        color=tuh_test[\"correct\"].map({True:\"red\",False:\"blue\"}),\n",
    "    )\n",
    ")])\n",
    "\n",
    "fig.show()\n",
    "\n"
   ]
  },
  {
   "cell_type": "code",
   "execution_count": null,
   "metadata": {},
   "outputs": [],
   "source": [
    "\n",
    "tuh_t1, tuh_t2 = model_selection.train_test_split(tuh_test, test_size=0.3)\n",
    "\n",
    "y_train = tuh_t1[\"correct\"].values\n",
    "corpus = tuh_t1[\"DESC\"] #training corpus\n",
    "\n",
    "#occurence table\n",
    "vectorizer = feature_extraction.text.CountVectorizer(max_features=10000, ngram_range=(1,3))\n",
    "vectorizer.fit(corpus)\n",
    "\n",
    "classifier = naive_bayes.MultinomialNB()\n",
    "X_train = vectorizer.transform(corpus)\n",
    "\n",
    "tfidf_model = pipeline.Pipeline([(\"vectorizer\", vectorizer),  \n",
    "                           (\"classifier\", classifier)])## train classifier\n",
    "tfidf_model[\"classifier\"].fit(X_train, y_train)\n",
    "\n",
    "X_test = tuh_t2[\"DESC\"].values\n",
    "y_test = tuh_t2[\"correct\"].values\n",
    "\n",
    "predicted = tfidf_model.predict(X_test)\n",
    "predicted_prob = tfidf_model.predict_proba(X_test)\n",
    "\n",
    "\n",
    "100*metrics.accuracy_score(y_test, predicted)"
   ]
  },
  {
   "cell_type": "code",
   "execution_count": null,
   "metadata": {},
   "outputs": [],
   "source": [
    "# learned coefficients weighted by frequency of appearance\n",
    "average_feature_effects = classifier.coef_ * np.asarray(X_train.mean(axis=0)).ravel()\n",
    "feature_names = vectorizer.get_feature_names_out()\n",
    "for i, label in enumerate([\"yes\", \"no\"]):\n",
    "    top5 = np.argsort(average_feature_effects[i])[-5:][::-1]\n",
    "    if i == 0:\n",
    "        top = pd.DataFrame(feature_names[top5], columns=[label])\n",
    "        top_indices = top5\n",
    "    else:\n",
    "        top[label] = feature_names[top5]\n",
    "        top_indices = np.concatenate((top_indices, top5), axis=None)"
   ]
  },
  {
   "cell_type": "code",
   "execution_count": null,
   "metadata": {},
   "outputs": [],
   "source": [
    "average_feature_effects.shape"
   ]
  },
  {
   "cell_type": "code",
   "execution_count": null,
   "metadata": {},
   "outputs": [],
   "source": [
    "\n"
   ]
  },
  {
   "cell_type": "code",
   "execution_count": null,
   "metadata": {},
   "outputs": [],
   "source": []
  }
 ],
 "metadata": {
  "kernelspec": {
   "display_name": "Python 3.10.6 ('tid_env')",
   "language": "python",
   "name": "python3"
  },
  "language_info": {
   "codemirror_mode": {
    "name": "ipython",
    "version": 3
   },
   "file_extension": ".py",
   "mimetype": "text/x-python",
   "name": "python",
   "nbconvert_exporter": "python",
   "pygments_lexer": "ipython3",
   "version": "3.10.6"
  },
  "orig_nbformat": 4,
  "vscode": {
   "interpreter": {
    "hash": "e4ac7f30aa65cc641f5967c96ff1707a40f829f0dd175c4897139c8c0fb2d9eb"
   }
  }
 },
 "nbformat": 4,
 "nbformat_minor": 2
}
